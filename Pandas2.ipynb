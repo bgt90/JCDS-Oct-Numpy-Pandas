{
 "cells": [
  {
   "cell_type": "code",
   "execution_count": 1,
   "metadata": {
    "ExecuteTime": {
     "end_time": "2021-11-15T02:31:44.270261Z",
     "start_time": "2021-11-15T02:31:43.832717Z"
    }
   },
   "outputs": [],
   "source": [
    "#import library\n",
    "import numpy as np\n",
    "import pandas as pd"
   ]
  },
  {
   "cell_type": "code",
   "execution_count": 31,
   "metadata": {
    "ExecuteTime": {
     "end_time": "2021-11-15T03:08:24.238136Z",
     "start_time": "2021-11-15T03:08:24.216227Z"
    }
   },
   "outputs": [
    {
     "data": {
      "text/html": [
       "<div>\n",
       "<style scoped>\n",
       "    .dataframe tbody tr th:only-of-type {\n",
       "        vertical-align: middle;\n",
       "    }\n",
       "\n",
       "    .dataframe tbody tr th {\n",
       "        vertical-align: top;\n",
       "    }\n",
       "\n",
       "    .dataframe thead th {\n",
       "        text-align: right;\n",
       "    }\n",
       "</style>\n",
       "<table border=\"1\" class=\"dataframe\">\n",
       "  <thead>\n",
       "    <tr style=\"text-align: right;\">\n",
       "      <th></th>\n",
       "      <th>name</th>\n",
       "      <th>gender</th>\n",
       "      <th>hire date</th>\n",
       "      <th>gross salary</th>\n",
       "    </tr>\n",
       "  </thead>\n",
       "  <tbody>\n",
       "    <tr>\n",
       "      <th>100111</th>\n",
       "      <td>Raven Bierman</td>\n",
       "      <td>Female</td>\n",
       "      <td>2016-12-04</td>\n",
       "      <td>7000000</td>\n",
       "    </tr>\n",
       "    <tr>\n",
       "      <th>100112</th>\n",
       "      <td>Valter Havers</td>\n",
       "      <td>Male</td>\n",
       "      <td>2018-04-13</td>\n",
       "      <td>7000000</td>\n",
       "    </tr>\n",
       "    <tr>\n",
       "      <th>200210</th>\n",
       "      <td>Marko Mendell</td>\n",
       "      <td>Male</td>\n",
       "      <td>2018-07-04</td>\n",
       "      <td>15000000</td>\n",
       "    </tr>\n",
       "    <tr>\n",
       "      <th>200211</th>\n",
       "      <td>Takahiro Momota</td>\n",
       "      <td>Male</td>\n",
       "      <td>2016-11-18</td>\n",
       "      <td>12000000</td>\n",
       "    </tr>\n",
       "    <tr>\n",
       "      <th>200312</th>\n",
       "      <td>Yahiko Tilemans</td>\n",
       "      <td>Male</td>\n",
       "      <td>2017-05-26</td>\n",
       "      <td>20000000</td>\n",
       "    </tr>\n",
       "    <tr>\n",
       "      <th>300207</th>\n",
       "      <td>Dina Rebaine</td>\n",
       "      <td>Female</td>\n",
       "      <td>2015-03-20</td>\n",
       "      <td>15000000</td>\n",
       "    </tr>\n",
       "  </tbody>\n",
       "</table>\n",
       "</div>"
      ],
      "text/plain": [
       "                   name  gender   hire date  gross salary\n",
       "100111    Raven Bierman  Female  2016-12-04       7000000\n",
       "100112    Valter Havers    Male  2018-04-13       7000000\n",
       "200210    Marko Mendell    Male  2018-07-04      15000000\n",
       "200211  Takahiro Momota    Male  2016-11-18      12000000\n",
       "200312  Yahiko Tilemans    Male  2017-05-26      20000000\n",
       "300207     Dina Rebaine  Female  2015-03-20      15000000"
      ]
     },
     "execution_count": 31,
     "metadata": {},
     "output_type": "execute_result"
    }
   ],
   "source": [
    "df=pd.DataFrame({'name': ['Raven Bierman', 'Valter Havers', 'Marko Mendell', 'Takahiro Momota','Yahiko Tilemans', 'Dina Rebaine'],\n",
    "    'gender': ['Female','Male','Male','Male','Male','Female'],\n",
    "    'hire date': ['2016-12-04','2018-04-13','2018-07-04','2016-11-18','2017-05-26','2015-03-20'],\n",
    "    'gross salary':[7000000,7000000,15000000,12000000,20000000,15000000]},\n",
    "    index=[100111,100112,200210,200211,200312,300207])\n",
    "df"
   ]
  },
  {
   "cell_type": "markdown",
   "metadata": {},
   "source": [
    "Adding data to dataframe"
   ]
  },
  {
   "cell_type": "code",
   "execution_count": 6,
   "metadata": {
    "ExecuteTime": {
     "end_time": "2021-11-15T02:34:58.242223Z",
     "start_time": "2021-11-15T02:34:58.217312Z"
    }
   },
   "outputs": [
    {
     "data": {
      "text/html": [
       "<div>\n",
       "<style scoped>\n",
       "    .dataframe tbody tr th:only-of-type {\n",
       "        vertical-align: middle;\n",
       "    }\n",
       "\n",
       "    .dataframe tbody tr th {\n",
       "        vertical-align: top;\n",
       "    }\n",
       "\n",
       "    .dataframe thead th {\n",
       "        text-align: right;\n",
       "    }\n",
       "</style>\n",
       "<table border=\"1\" class=\"dataframe\">\n",
       "  <thead>\n",
       "    <tr style=\"text-align: right;\">\n",
       "      <th></th>\n",
       "      <th>name</th>\n",
       "      <th>gender</th>\n",
       "      <th>hire date</th>\n",
       "      <th>gross salary</th>\n",
       "    </tr>\n",
       "  </thead>\n",
       "  <tbody>\n",
       "    <tr>\n",
       "      <th>100111</th>\n",
       "      <td>Raven Bierman</td>\n",
       "      <td>Female</td>\n",
       "      <td>2016-12-04</td>\n",
       "      <td>7000000</td>\n",
       "    </tr>\n",
       "    <tr>\n",
       "      <th>100112</th>\n",
       "      <td>Valter Havers</td>\n",
       "      <td>Male</td>\n",
       "      <td>2018-04-13</td>\n",
       "      <td>7000000</td>\n",
       "    </tr>\n",
       "    <tr>\n",
       "      <th>200210</th>\n",
       "      <td>Marko Mendell</td>\n",
       "      <td>Male</td>\n",
       "      <td>2018-07-04</td>\n",
       "      <td>15000000</td>\n",
       "    </tr>\n",
       "    <tr>\n",
       "      <th>200211</th>\n",
       "      <td>Takahiro Momota</td>\n",
       "      <td>Male</td>\n",
       "      <td>2016-11-18</td>\n",
       "      <td>12000000</td>\n",
       "    </tr>\n",
       "    <tr>\n",
       "      <th>200312</th>\n",
       "      <td>Yahiko Tilemans</td>\n",
       "      <td>Male</td>\n",
       "      <td>2017-05-26</td>\n",
       "      <td>20000000</td>\n",
       "    </tr>\n",
       "    <tr>\n",
       "      <th>300207</th>\n",
       "      <td>Dina Rebaine</td>\n",
       "      <td>Female</td>\n",
       "      <td>2015-03-20</td>\n",
       "      <td>15000000</td>\n",
       "    </tr>\n",
       "    <tr>\n",
       "      <th>300208</th>\n",
       "      <td>Andi</td>\n",
       "      <td>Male</td>\n",
       "      <td>2021-11-15</td>\n",
       "      <td>10000000</td>\n",
       "    </tr>\n",
       "  </tbody>\n",
       "</table>\n",
       "</div>"
      ],
      "text/plain": [
       "                   name  gender   hire date  gross salary\n",
       "100111    Raven Bierman  Female  2016-12-04       7000000\n",
       "100112    Valter Havers    Male  2018-04-13       7000000\n",
       "200210    Marko Mendell    Male  2018-07-04      15000000\n",
       "200211  Takahiro Momota    Male  2016-11-18      12000000\n",
       "200312  Yahiko Tilemans    Male  2017-05-26      20000000\n",
       "300207     Dina Rebaine  Female  2015-03-20      15000000\n",
       "300208             Andi    Male  2021-11-15      10000000"
      ]
     },
     "execution_count": 6,
     "metadata": {},
     "output_type": "execute_result"
    }
   ],
   "source": [
    "df.loc[300208]=['Andi','Male','2021-11-15',10000000] #untuk menambah baris baru\n",
    "# indexing dengan .loc dan label kolom baru, lalu masukkan data sesuai jumlah kolom\n",
    "df"
   ]
  },
  {
   "cell_type": "code",
   "execution_count": 7,
   "metadata": {
    "ExecuteTime": {
     "end_time": "2021-11-15T02:37:03.897959Z",
     "start_time": "2021-11-15T02:37:03.873096Z"
    }
   },
   "outputs": [
    {
     "data": {
      "text/html": [
       "<div>\n",
       "<style scoped>\n",
       "    .dataframe tbody tr th:only-of-type {\n",
       "        vertical-align: middle;\n",
       "    }\n",
       "\n",
       "    .dataframe tbody tr th {\n",
       "        vertical-align: top;\n",
       "    }\n",
       "\n",
       "    .dataframe thead th {\n",
       "        text-align: right;\n",
       "    }\n",
       "</style>\n",
       "<table border=\"1\" class=\"dataframe\">\n",
       "  <thead>\n",
       "    <tr style=\"text-align: right;\">\n",
       "      <th></th>\n",
       "      <th>name</th>\n",
       "      <th>gender</th>\n",
       "      <th>hire date</th>\n",
       "      <th>gross salary</th>\n",
       "      <th>net salary</th>\n",
       "    </tr>\n",
       "  </thead>\n",
       "  <tbody>\n",
       "    <tr>\n",
       "      <th>100111</th>\n",
       "      <td>Raven Bierman</td>\n",
       "      <td>Female</td>\n",
       "      <td>2016-12-04</td>\n",
       "      <td>7000000</td>\n",
       "      <td>5950000.0</td>\n",
       "    </tr>\n",
       "    <tr>\n",
       "      <th>100112</th>\n",
       "      <td>Valter Havers</td>\n",
       "      <td>Male</td>\n",
       "      <td>2018-04-13</td>\n",
       "      <td>7000000</td>\n",
       "      <td>5950000.0</td>\n",
       "    </tr>\n",
       "    <tr>\n",
       "      <th>200210</th>\n",
       "      <td>Marko Mendell</td>\n",
       "      <td>Male</td>\n",
       "      <td>2018-07-04</td>\n",
       "      <td>15000000</td>\n",
       "      <td>12750000.0</td>\n",
       "    </tr>\n",
       "    <tr>\n",
       "      <th>200211</th>\n",
       "      <td>Takahiro Momota</td>\n",
       "      <td>Male</td>\n",
       "      <td>2016-11-18</td>\n",
       "      <td>12000000</td>\n",
       "      <td>10200000.0</td>\n",
       "    </tr>\n",
       "    <tr>\n",
       "      <th>200312</th>\n",
       "      <td>Yahiko Tilemans</td>\n",
       "      <td>Male</td>\n",
       "      <td>2017-05-26</td>\n",
       "      <td>20000000</td>\n",
       "      <td>17000000.0</td>\n",
       "    </tr>\n",
       "    <tr>\n",
       "      <th>300207</th>\n",
       "      <td>Dina Rebaine</td>\n",
       "      <td>Female</td>\n",
       "      <td>2015-03-20</td>\n",
       "      <td>15000000</td>\n",
       "      <td>12750000.0</td>\n",
       "    </tr>\n",
       "    <tr>\n",
       "      <th>300208</th>\n",
       "      <td>Andi</td>\n",
       "      <td>Male</td>\n",
       "      <td>2021-11-15</td>\n",
       "      <td>10000000</td>\n",
       "      <td>8500000.0</td>\n",
       "    </tr>\n",
       "  </tbody>\n",
       "</table>\n",
       "</div>"
      ],
      "text/plain": [
       "                   name  gender   hire date  gross salary  net salary\n",
       "100111    Raven Bierman  Female  2016-12-04       7000000   5950000.0\n",
       "100112    Valter Havers    Male  2018-04-13       7000000   5950000.0\n",
       "200210    Marko Mendell    Male  2018-07-04      15000000  12750000.0\n",
       "200211  Takahiro Momota    Male  2016-11-18      12000000  10200000.0\n",
       "200312  Yahiko Tilemans    Male  2017-05-26      20000000  17000000.0\n",
       "300207     Dina Rebaine  Female  2015-03-20      15000000  12750000.0\n",
       "300208             Andi    Male  2021-11-15      10000000   8500000.0"
      ]
     },
     "execution_count": 7,
     "metadata": {},
     "output_type": "execute_result"
    }
   ],
   "source": [
    "df['net salary']=df['gross salary']*0.85 #net salary adalah gross salary setelah dipotong pajak 15%\n",
    "# untuk menambah kolom baru, \n",
    "# mirip seperti menambah baris baru, cukup indexing dengan nama kolom baru, lalu masukkan data yang diinginkan\n",
    "df"
   ]
  },
  {
   "cell_type": "code",
   "execution_count": 8,
   "metadata": {
    "ExecuteTime": {
     "end_time": "2021-11-15T02:38:52.143828Z",
     "start_time": "2021-11-15T02:38:52.119924Z"
    }
   },
   "outputs": [
    {
     "data": {
      "text/html": [
       "<div>\n",
       "<style scoped>\n",
       "    .dataframe tbody tr th:only-of-type {\n",
       "        vertical-align: middle;\n",
       "    }\n",
       "\n",
       "    .dataframe tbody tr th {\n",
       "        vertical-align: top;\n",
       "    }\n",
       "\n",
       "    .dataframe thead th {\n",
       "        text-align: right;\n",
       "    }\n",
       "</style>\n",
       "<table border=\"1\" class=\"dataframe\">\n",
       "  <thead>\n",
       "    <tr style=\"text-align: right;\">\n",
       "      <th></th>\n",
       "      <th>name</th>\n",
       "      <th>gender</th>\n",
       "      <th>new</th>\n",
       "      <th>hire date</th>\n",
       "      <th>gross salary</th>\n",
       "      <th>net salary</th>\n",
       "    </tr>\n",
       "  </thead>\n",
       "  <tbody>\n",
       "    <tr>\n",
       "      <th>100111</th>\n",
       "      <td>Raven Bierman</td>\n",
       "      <td>Female</td>\n",
       "      <td>1</td>\n",
       "      <td>2016-12-04</td>\n",
       "      <td>7000000</td>\n",
       "      <td>5950000.0</td>\n",
       "    </tr>\n",
       "    <tr>\n",
       "      <th>100112</th>\n",
       "      <td>Valter Havers</td>\n",
       "      <td>Male</td>\n",
       "      <td>2</td>\n",
       "      <td>2018-04-13</td>\n",
       "      <td>7000000</td>\n",
       "      <td>5950000.0</td>\n",
       "    </tr>\n",
       "    <tr>\n",
       "      <th>200210</th>\n",
       "      <td>Marko Mendell</td>\n",
       "      <td>Male</td>\n",
       "      <td>3</td>\n",
       "      <td>2018-07-04</td>\n",
       "      <td>15000000</td>\n",
       "      <td>12750000.0</td>\n",
       "    </tr>\n",
       "    <tr>\n",
       "      <th>200211</th>\n",
       "      <td>Takahiro Momota</td>\n",
       "      <td>Male</td>\n",
       "      <td>4</td>\n",
       "      <td>2016-11-18</td>\n",
       "      <td>12000000</td>\n",
       "      <td>10200000.0</td>\n",
       "    </tr>\n",
       "    <tr>\n",
       "      <th>200312</th>\n",
       "      <td>Yahiko Tilemans</td>\n",
       "      <td>Male</td>\n",
       "      <td>5</td>\n",
       "      <td>2017-05-26</td>\n",
       "      <td>20000000</td>\n",
       "      <td>17000000.0</td>\n",
       "    </tr>\n",
       "    <tr>\n",
       "      <th>300207</th>\n",
       "      <td>Dina Rebaine</td>\n",
       "      <td>Female</td>\n",
       "      <td>6</td>\n",
       "      <td>2015-03-20</td>\n",
       "      <td>15000000</td>\n",
       "      <td>12750000.0</td>\n",
       "    </tr>\n",
       "    <tr>\n",
       "      <th>300208</th>\n",
       "      <td>Andi</td>\n",
       "      <td>Male</td>\n",
       "      <td>7</td>\n",
       "      <td>2021-11-15</td>\n",
       "      <td>10000000</td>\n",
       "      <td>8500000.0</td>\n",
       "    </tr>\n",
       "  </tbody>\n",
       "</table>\n",
       "</div>"
      ],
      "text/plain": [
       "                   name  gender  new   hire date  gross salary  net salary\n",
       "100111    Raven Bierman  Female    1  2016-12-04       7000000   5950000.0\n",
       "100112    Valter Havers    Male    2  2018-04-13       7000000   5950000.0\n",
       "200210    Marko Mendell    Male    3  2018-07-04      15000000  12750000.0\n",
       "200211  Takahiro Momota    Male    4  2016-11-18      12000000  10200000.0\n",
       "200312  Yahiko Tilemans    Male    5  2017-05-26      20000000  17000000.0\n",
       "300207     Dina Rebaine  Female    6  2015-03-20      15000000  12750000.0\n",
       "300208             Andi    Male    7  2021-11-15      10000000   8500000.0"
      ]
     },
     "execution_count": 8,
     "metadata": {},
     "output_type": "execute_result"
    }
   ],
   "source": [
    "# dengan cara indexing, baris/kolom baru yang dibuat selalu berada di posisi terakhir\n",
    "# kalau kita ingin menambahkan data di posisi kolom tertentu, gunakan insert\n",
    "df.insert(2,'new',[1,2,3,4,5,6,7]) #menambahkan kolom new di posisi index 2 pada df\n",
    "df"
   ]
  },
  {
   "cell_type": "code",
   "execution_count": 9,
   "metadata": {
    "ExecuteTime": {
     "end_time": "2021-11-15T02:42:08.904139Z",
     "start_time": "2021-11-15T02:42:08.881199Z"
    }
   },
   "outputs": [
    {
     "data": {
      "text/html": [
       "<div>\n",
       "<style scoped>\n",
       "    .dataframe tbody tr th:only-of-type {\n",
       "        vertical-align: middle;\n",
       "    }\n",
       "\n",
       "    .dataframe tbody tr th {\n",
       "        vertical-align: top;\n",
       "    }\n",
       "\n",
       "    .dataframe thead th {\n",
       "        text-align: right;\n",
       "    }\n",
       "</style>\n",
       "<table border=\"1\" class=\"dataframe\">\n",
       "  <thead>\n",
       "    <tr style=\"text-align: right;\">\n",
       "      <th></th>\n",
       "      <th>name</th>\n",
       "      <th>gender</th>\n",
       "      <th>hire date</th>\n",
       "      <th>gross salary</th>\n",
       "      <th>net salary</th>\n",
       "    </tr>\n",
       "  </thead>\n",
       "  <tbody>\n",
       "    <tr>\n",
       "      <th>100111</th>\n",
       "      <td>Raven Bierman</td>\n",
       "      <td>Female</td>\n",
       "      <td>2016-12-04</td>\n",
       "      <td>7000000</td>\n",
       "      <td>5950000.0</td>\n",
       "    </tr>\n",
       "    <tr>\n",
       "      <th>100112</th>\n",
       "      <td>Valter Havers</td>\n",
       "      <td>Male</td>\n",
       "      <td>2018-04-13</td>\n",
       "      <td>7000000</td>\n",
       "      <td>5950000.0</td>\n",
       "    </tr>\n",
       "    <tr>\n",
       "      <th>200210</th>\n",
       "      <td>Marko Mendell</td>\n",
       "      <td>Male</td>\n",
       "      <td>2018-07-04</td>\n",
       "      <td>15000000</td>\n",
       "      <td>12750000.0</td>\n",
       "    </tr>\n",
       "    <tr>\n",
       "      <th>200211</th>\n",
       "      <td>Takahiro Momota</td>\n",
       "      <td>Male</td>\n",
       "      <td>2016-11-18</td>\n",
       "      <td>12000000</td>\n",
       "      <td>10200000.0</td>\n",
       "    </tr>\n",
       "    <tr>\n",
       "      <th>200312</th>\n",
       "      <td>Yahiko Tilemans</td>\n",
       "      <td>Male</td>\n",
       "      <td>2017-05-26</td>\n",
       "      <td>20000000</td>\n",
       "      <td>17000000.0</td>\n",
       "    </tr>\n",
       "    <tr>\n",
       "      <th>300207</th>\n",
       "      <td>Dina Rebaine</td>\n",
       "      <td>Female</td>\n",
       "      <td>2015-03-20</td>\n",
       "      <td>15000000</td>\n",
       "      <td>12750000.0</td>\n",
       "    </tr>\n",
       "    <tr>\n",
       "      <th>300208</th>\n",
       "      <td>Andi</td>\n",
       "      <td>Male</td>\n",
       "      <td>2021-11-15</td>\n",
       "      <td>10000000</td>\n",
       "      <td>8500000.0</td>\n",
       "    </tr>\n",
       "  </tbody>\n",
       "</table>\n",
       "</div>"
      ],
      "text/plain": [
       "                   name  gender   hire date  gross salary  net salary\n",
       "100111    Raven Bierman  Female  2016-12-04       7000000   5950000.0\n",
       "100112    Valter Havers    Male  2018-04-13       7000000   5950000.0\n",
       "200210    Marko Mendell    Male  2018-07-04      15000000  12750000.0\n",
       "200211  Takahiro Momota    Male  2016-11-18      12000000  10200000.0\n",
       "200312  Yahiko Tilemans    Male  2017-05-26      20000000  17000000.0\n",
       "300207     Dina Rebaine  Female  2015-03-20      15000000  12750000.0\n",
       "300208             Andi    Male  2021-11-15      10000000   8500000.0"
      ]
     },
     "execution_count": 9,
     "metadata": {},
     "output_type": "execute_result"
    }
   ],
   "source": [
    "# delete data tertentu, pakai .drop()\n",
    "df.drop('new',axis=1) # axis 1= kolom, jadi kita mau drop kolom bernama new"
   ]
  },
  {
   "cell_type": "code",
   "execution_count": 10,
   "metadata": {
    "ExecuteTime": {
     "end_time": "2021-11-15T02:42:35.859699Z",
     "start_time": "2021-11-15T02:42:35.845767Z"
    }
   },
   "outputs": [
    {
     "data": {
      "text/html": [
       "<div>\n",
       "<style scoped>\n",
       "    .dataframe tbody tr th:only-of-type {\n",
       "        vertical-align: middle;\n",
       "    }\n",
       "\n",
       "    .dataframe tbody tr th {\n",
       "        vertical-align: top;\n",
       "    }\n",
       "\n",
       "    .dataframe thead th {\n",
       "        text-align: right;\n",
       "    }\n",
       "</style>\n",
       "<table border=\"1\" class=\"dataframe\">\n",
       "  <thead>\n",
       "    <tr style=\"text-align: right;\">\n",
       "      <th></th>\n",
       "      <th>name</th>\n",
       "      <th>gender</th>\n",
       "      <th>new</th>\n",
       "      <th>hire date</th>\n",
       "      <th>gross salary</th>\n",
       "      <th>net salary</th>\n",
       "    </tr>\n",
       "  </thead>\n",
       "  <tbody>\n",
       "    <tr>\n",
       "      <th>100111</th>\n",
       "      <td>Raven Bierman</td>\n",
       "      <td>Female</td>\n",
       "      <td>1</td>\n",
       "      <td>2016-12-04</td>\n",
       "      <td>7000000</td>\n",
       "      <td>5950000.0</td>\n",
       "    </tr>\n",
       "    <tr>\n",
       "      <th>100112</th>\n",
       "      <td>Valter Havers</td>\n",
       "      <td>Male</td>\n",
       "      <td>2</td>\n",
       "      <td>2018-04-13</td>\n",
       "      <td>7000000</td>\n",
       "      <td>5950000.0</td>\n",
       "    </tr>\n",
       "    <tr>\n",
       "      <th>200210</th>\n",
       "      <td>Marko Mendell</td>\n",
       "      <td>Male</td>\n",
       "      <td>3</td>\n",
       "      <td>2018-07-04</td>\n",
       "      <td>15000000</td>\n",
       "      <td>12750000.0</td>\n",
       "    </tr>\n",
       "    <tr>\n",
       "      <th>200211</th>\n",
       "      <td>Takahiro Momota</td>\n",
       "      <td>Male</td>\n",
       "      <td>4</td>\n",
       "      <td>2016-11-18</td>\n",
       "      <td>12000000</td>\n",
       "      <td>10200000.0</td>\n",
       "    </tr>\n",
       "    <tr>\n",
       "      <th>200312</th>\n",
       "      <td>Yahiko Tilemans</td>\n",
       "      <td>Male</td>\n",
       "      <td>5</td>\n",
       "      <td>2017-05-26</td>\n",
       "      <td>20000000</td>\n",
       "      <td>17000000.0</td>\n",
       "    </tr>\n",
       "    <tr>\n",
       "      <th>300207</th>\n",
       "      <td>Dina Rebaine</td>\n",
       "      <td>Female</td>\n",
       "      <td>6</td>\n",
       "      <td>2015-03-20</td>\n",
       "      <td>15000000</td>\n",
       "      <td>12750000.0</td>\n",
       "    </tr>\n",
       "    <tr>\n",
       "      <th>300208</th>\n",
       "      <td>Andi</td>\n",
       "      <td>Male</td>\n",
       "      <td>7</td>\n",
       "      <td>2021-11-15</td>\n",
       "      <td>10000000</td>\n",
       "      <td>8500000.0</td>\n",
       "    </tr>\n",
       "  </tbody>\n",
       "</table>\n",
       "</div>"
      ],
      "text/plain": [
       "                   name  gender  new   hire date  gross salary  net salary\n",
       "100111    Raven Bierman  Female    1  2016-12-04       7000000   5950000.0\n",
       "100112    Valter Havers    Male    2  2018-04-13       7000000   5950000.0\n",
       "200210    Marko Mendell    Male    3  2018-07-04      15000000  12750000.0\n",
       "200211  Takahiro Momota    Male    4  2016-11-18      12000000  10200000.0\n",
       "200312  Yahiko Tilemans    Male    5  2017-05-26      20000000  17000000.0\n",
       "300207     Dina Rebaine  Female    6  2015-03-20      15000000  12750000.0\n",
       "300208             Andi    Male    7  2021-11-15      10000000   8500000.0"
      ]
     },
     "execution_count": 10,
     "metadata": {},
     "output_type": "execute_result"
    }
   ],
   "source": [
    "df # new tidak hilang permanen, jika tidak disimpan atau menggunakan inplace"
   ]
  },
  {
   "cell_type": "code",
   "execution_count": 11,
   "metadata": {
    "ExecuteTime": {
     "end_time": "2021-11-15T02:44:11.842365Z",
     "start_time": "2021-11-15T02:44:11.835409Z"
    }
   },
   "outputs": [],
   "source": [
    "df.drop('new', axis=1, inplace=True) # dengan inplace=True, perubahan menjadi permanen\n",
    "# kalau pakai inplace tidak ada output, tanda data berubah"
   ]
  },
  {
   "cell_type": "code",
   "execution_count": 12,
   "metadata": {
    "ExecuteTime": {
     "end_time": "2021-11-15T02:44:17.792672Z",
     "start_time": "2021-11-15T02:44:17.770729Z"
    }
   },
   "outputs": [
    {
     "data": {
      "text/html": [
       "<div>\n",
       "<style scoped>\n",
       "    .dataframe tbody tr th:only-of-type {\n",
       "        vertical-align: middle;\n",
       "    }\n",
       "\n",
       "    .dataframe tbody tr th {\n",
       "        vertical-align: top;\n",
       "    }\n",
       "\n",
       "    .dataframe thead th {\n",
       "        text-align: right;\n",
       "    }\n",
       "</style>\n",
       "<table border=\"1\" class=\"dataframe\">\n",
       "  <thead>\n",
       "    <tr style=\"text-align: right;\">\n",
       "      <th></th>\n",
       "      <th>name</th>\n",
       "      <th>gender</th>\n",
       "      <th>hire date</th>\n",
       "      <th>gross salary</th>\n",
       "      <th>net salary</th>\n",
       "    </tr>\n",
       "  </thead>\n",
       "  <tbody>\n",
       "    <tr>\n",
       "      <th>100111</th>\n",
       "      <td>Raven Bierman</td>\n",
       "      <td>Female</td>\n",
       "      <td>2016-12-04</td>\n",
       "      <td>7000000</td>\n",
       "      <td>5950000.0</td>\n",
       "    </tr>\n",
       "    <tr>\n",
       "      <th>100112</th>\n",
       "      <td>Valter Havers</td>\n",
       "      <td>Male</td>\n",
       "      <td>2018-04-13</td>\n",
       "      <td>7000000</td>\n",
       "      <td>5950000.0</td>\n",
       "    </tr>\n",
       "    <tr>\n",
       "      <th>200210</th>\n",
       "      <td>Marko Mendell</td>\n",
       "      <td>Male</td>\n",
       "      <td>2018-07-04</td>\n",
       "      <td>15000000</td>\n",
       "      <td>12750000.0</td>\n",
       "    </tr>\n",
       "    <tr>\n",
       "      <th>200211</th>\n",
       "      <td>Takahiro Momota</td>\n",
       "      <td>Male</td>\n",
       "      <td>2016-11-18</td>\n",
       "      <td>12000000</td>\n",
       "      <td>10200000.0</td>\n",
       "    </tr>\n",
       "    <tr>\n",
       "      <th>200312</th>\n",
       "      <td>Yahiko Tilemans</td>\n",
       "      <td>Male</td>\n",
       "      <td>2017-05-26</td>\n",
       "      <td>20000000</td>\n",
       "      <td>17000000.0</td>\n",
       "    </tr>\n",
       "    <tr>\n",
       "      <th>300207</th>\n",
       "      <td>Dina Rebaine</td>\n",
       "      <td>Female</td>\n",
       "      <td>2015-03-20</td>\n",
       "      <td>15000000</td>\n",
       "      <td>12750000.0</td>\n",
       "    </tr>\n",
       "    <tr>\n",
       "      <th>300208</th>\n",
       "      <td>Andi</td>\n",
       "      <td>Male</td>\n",
       "      <td>2021-11-15</td>\n",
       "      <td>10000000</td>\n",
       "      <td>8500000.0</td>\n",
       "    </tr>\n",
       "  </tbody>\n",
       "</table>\n",
       "</div>"
      ],
      "text/plain": [
       "                   name  gender   hire date  gross salary  net salary\n",
       "100111    Raven Bierman  Female  2016-12-04       7000000   5950000.0\n",
       "100112    Valter Havers    Male  2018-04-13       7000000   5950000.0\n",
       "200210    Marko Mendell    Male  2018-07-04      15000000  12750000.0\n",
       "200211  Takahiro Momota    Male  2016-11-18      12000000  10200000.0\n",
       "200312  Yahiko Tilemans    Male  2017-05-26      20000000  17000000.0\n",
       "300207     Dina Rebaine  Female  2015-03-20      15000000  12750000.0\n",
       "300208             Andi    Male  2021-11-15      10000000   8500000.0"
      ]
     },
     "execution_count": 12,
     "metadata": {},
     "output_type": "execute_result"
    }
   ],
   "source": [
    "df # kolom new sudah tidak ada"
   ]
  },
  {
   "cell_type": "code",
   "execution_count": 14,
   "metadata": {
    "ExecuteTime": {
     "end_time": "2021-11-15T02:49:53.629523Z",
     "start_time": "2021-11-15T02:49:53.610569Z"
    }
   },
   "outputs": [],
   "source": [
    "df=df.drop(300208,axis=0) #axis=0 delete baris #kalau diassign ke df, tidak ada output\n",
    "# selain menggunakan inplace, kita bisa menyimpan output drop ke dalam df untuk membuat perubahan menjadi permanen"
   ]
  },
  {
   "cell_type": "code",
   "execution_count": 15,
   "metadata": {
    "ExecuteTime": {
     "end_time": "2021-11-15T02:50:13.818290Z",
     "start_time": "2021-11-15T02:50:13.795371Z"
    }
   },
   "outputs": [
    {
     "data": {
      "text/html": [
       "<div>\n",
       "<style scoped>\n",
       "    .dataframe tbody tr th:only-of-type {\n",
       "        vertical-align: middle;\n",
       "    }\n",
       "\n",
       "    .dataframe tbody tr th {\n",
       "        vertical-align: top;\n",
       "    }\n",
       "\n",
       "    .dataframe thead th {\n",
       "        text-align: right;\n",
       "    }\n",
       "</style>\n",
       "<table border=\"1\" class=\"dataframe\">\n",
       "  <thead>\n",
       "    <tr style=\"text-align: right;\">\n",
       "      <th></th>\n",
       "      <th>name</th>\n",
       "      <th>gender</th>\n",
       "      <th>hire date</th>\n",
       "      <th>gross salary</th>\n",
       "      <th>net salary</th>\n",
       "    </tr>\n",
       "  </thead>\n",
       "  <tbody>\n",
       "    <tr>\n",
       "      <th>100111</th>\n",
       "      <td>Raven Bierman</td>\n",
       "      <td>Female</td>\n",
       "      <td>2016-12-04</td>\n",
       "      <td>7000000</td>\n",
       "      <td>5950000.0</td>\n",
       "    </tr>\n",
       "    <tr>\n",
       "      <th>100112</th>\n",
       "      <td>Valter Havers</td>\n",
       "      <td>Male</td>\n",
       "      <td>2018-04-13</td>\n",
       "      <td>7000000</td>\n",
       "      <td>5950000.0</td>\n",
       "    </tr>\n",
       "    <tr>\n",
       "      <th>200210</th>\n",
       "      <td>Marko Mendell</td>\n",
       "      <td>Male</td>\n",
       "      <td>2018-07-04</td>\n",
       "      <td>15000000</td>\n",
       "      <td>12750000.0</td>\n",
       "    </tr>\n",
       "    <tr>\n",
       "      <th>200211</th>\n",
       "      <td>Takahiro Momota</td>\n",
       "      <td>Male</td>\n",
       "      <td>2016-11-18</td>\n",
       "      <td>12000000</td>\n",
       "      <td>10200000.0</td>\n",
       "    </tr>\n",
       "    <tr>\n",
       "      <th>200312</th>\n",
       "      <td>Yahiko Tilemans</td>\n",
       "      <td>Male</td>\n",
       "      <td>2017-05-26</td>\n",
       "      <td>20000000</td>\n",
       "      <td>17000000.0</td>\n",
       "    </tr>\n",
       "    <tr>\n",
       "      <th>300207</th>\n",
       "      <td>Dina Rebaine</td>\n",
       "      <td>Female</td>\n",
       "      <td>2015-03-20</td>\n",
       "      <td>15000000</td>\n",
       "      <td>12750000.0</td>\n",
       "    </tr>\n",
       "  </tbody>\n",
       "</table>\n",
       "</div>"
      ],
      "text/plain": [
       "                   name  gender   hire date  gross salary  net salary\n",
       "100111    Raven Bierman  Female  2016-12-04       7000000   5950000.0\n",
       "100112    Valter Havers    Male  2018-04-13       7000000   5950000.0\n",
       "200210    Marko Mendell    Male  2018-07-04      15000000  12750000.0\n",
       "200211  Takahiro Momota    Male  2016-11-18      12000000  10200000.0\n",
       "200312  Yahiko Tilemans    Male  2017-05-26      20000000  17000000.0\n",
       "300207     Dina Rebaine  Female  2015-03-20      15000000  12750000.0"
      ]
     },
     "execution_count": 15,
     "metadata": {},
     "output_type": "execute_result"
    }
   ],
   "source": [
    "df #data andi sudah hilang"
   ]
  },
  {
   "cell_type": "markdown",
   "metadata": {},
   "source": [
    "serial indexing dan assignment data baru"
   ]
  },
  {
   "cell_type": "code",
   "execution_count": 16,
   "metadata": {
    "ExecuteTime": {
     "end_time": "2021-11-15T02:53:29.030740Z",
     "start_time": "2021-11-15T02:53:29.019820Z"
    }
   },
   "outputs": [
    {
     "data": {
      "text/html": [
       "<div>\n",
       "<style scoped>\n",
       "    .dataframe tbody tr th:only-of-type {\n",
       "        vertical-align: middle;\n",
       "    }\n",
       "\n",
       "    .dataframe tbody tr th {\n",
       "        vertical-align: top;\n",
       "    }\n",
       "\n",
       "    .dataframe thead th {\n",
       "        text-align: right;\n",
       "    }\n",
       "</style>\n",
       "<table border=\"1\" class=\"dataframe\">\n",
       "  <thead>\n",
       "    <tr style=\"text-align: right;\">\n",
       "      <th></th>\n",
       "      <th>name</th>\n",
       "      <th>gender</th>\n",
       "      <th>hire date</th>\n",
       "      <th>gross salary</th>\n",
       "      <th>net salary</th>\n",
       "    </tr>\n",
       "  </thead>\n",
       "  <tbody>\n",
       "    <tr>\n",
       "      <th>100111</th>\n",
       "      <td>Raven Bierman</td>\n",
       "      <td>Female</td>\n",
       "      <td>2016-12-04</td>\n",
       "      <td>7000000</td>\n",
       "      <td>5950000.0</td>\n",
       "    </tr>\n",
       "    <tr>\n",
       "      <th>100112</th>\n",
       "      <td>Valter Havers</td>\n",
       "      <td>Male</td>\n",
       "      <td>2018-04-13</td>\n",
       "      <td>7000000</td>\n",
       "      <td>5950000.0</td>\n",
       "    </tr>\n",
       "    <tr>\n",
       "      <th>200210</th>\n",
       "      <td>Marko Mendell</td>\n",
       "      <td>Male</td>\n",
       "      <td>2018-07-04</td>\n",
       "      <td>15000000</td>\n",
       "      <td>12750000.0</td>\n",
       "    </tr>\n",
       "    <tr>\n",
       "      <th>200211</th>\n",
       "      <td>Takahiro Momoka</td>\n",
       "      <td>Male</td>\n",
       "      <td>2016-11-18</td>\n",
       "      <td>12000000</td>\n",
       "      <td>10200000.0</td>\n",
       "    </tr>\n",
       "    <tr>\n",
       "      <th>200312</th>\n",
       "      <td>Yahiko Tilemans</td>\n",
       "      <td>Male</td>\n",
       "      <td>2017-05-26</td>\n",
       "      <td>20000000</td>\n",
       "      <td>17000000.0</td>\n",
       "    </tr>\n",
       "    <tr>\n",
       "      <th>300207</th>\n",
       "      <td>Dina Rebaine</td>\n",
       "      <td>Female</td>\n",
       "      <td>2015-03-20</td>\n",
       "      <td>15000000</td>\n",
       "      <td>12750000.0</td>\n",
       "    </tr>\n",
       "  </tbody>\n",
       "</table>\n",
       "</div>"
      ],
      "text/plain": [
       "                   name  gender   hire date  gross salary  net salary\n",
       "100111    Raven Bierman  Female  2016-12-04       7000000   5950000.0\n",
       "100112    Valter Havers    Male  2018-04-13       7000000   5950000.0\n",
       "200210    Marko Mendell    Male  2018-07-04      15000000  12750000.0\n",
       "200211  Takahiro Momoka    Male  2016-11-18      12000000  10200000.0\n",
       "200312  Yahiko Tilemans    Male  2017-05-26      20000000  17000000.0\n",
       "300207     Dina Rebaine  Female  2015-03-20      15000000  12750000.0"
      ]
     },
     "execution_count": 16,
     "metadata": {},
     "output_type": "execute_result"
    }
   ],
   "source": [
    "\n",
    "df['name']=['Raven Bierman', 'Valter Havers', 'Marko Mendell', 'Takahiro Momoka','Yahiko Tilemans', 'Dina Rebaine']\n",
    "df #assignment dengan 1 index tidak ada masalah dengan atau tanpa .loc"
   ]
  },
  {
   "cell_type": "code",
   "execution_count": 19,
   "metadata": {
    "ExecuteTime": {
     "end_time": "2021-11-15T02:54:12.206182Z",
     "start_time": "2021-11-15T02:54:12.183238Z"
    }
   },
   "outputs": [
    {
     "name": "stderr",
     "output_type": "stream",
     "text": [
      "<ipython-input-19-4989f9131e4f>:1: SettingWithCopyWarning: \n",
      "A value is trying to be set on a copy of a slice from a DataFrame\n",
      "\n",
      "See the caveats in the documentation: https://pandas.pydata.org/pandas-docs/stable/user_guide/indexing.html#returning-a-view-versus-a-copy\n",
      "  df['gender'][200211]='Female'\n"
     ]
    }
   ],
   "source": [
    "df['gender'][200211]='Female' #hasil assignmet serial indexing tidak konsisten, kadang berhasil kadang tidak\n",
    "# keterangan lebih lanjut bisa baca di dokumentasi di bawah"
   ]
  },
  {
   "cell_type": "code",
   "execution_count": 20,
   "metadata": {
    "ExecuteTime": {
     "end_time": "2021-11-15T02:54:24.141855Z",
     "start_time": "2021-11-15T02:54:24.124926Z"
    }
   },
   "outputs": [
    {
     "data": {
      "text/html": [
       "<div>\n",
       "<style scoped>\n",
       "    .dataframe tbody tr th:only-of-type {\n",
       "        vertical-align: middle;\n",
       "    }\n",
       "\n",
       "    .dataframe tbody tr th {\n",
       "        vertical-align: top;\n",
       "    }\n",
       "\n",
       "    .dataframe thead th {\n",
       "        text-align: right;\n",
       "    }\n",
       "</style>\n",
       "<table border=\"1\" class=\"dataframe\">\n",
       "  <thead>\n",
       "    <tr style=\"text-align: right;\">\n",
       "      <th></th>\n",
       "      <th>name</th>\n",
       "      <th>gender</th>\n",
       "      <th>hire date</th>\n",
       "      <th>gross salary</th>\n",
       "      <th>net salary</th>\n",
       "    </tr>\n",
       "  </thead>\n",
       "  <tbody>\n",
       "    <tr>\n",
       "      <th>100111</th>\n",
       "      <td>Raven Bierman</td>\n",
       "      <td>Female</td>\n",
       "      <td>2016-12-04</td>\n",
       "      <td>7000000</td>\n",
       "      <td>5950000.0</td>\n",
       "    </tr>\n",
       "    <tr>\n",
       "      <th>100112</th>\n",
       "      <td>Valter Havers</td>\n",
       "      <td>Male</td>\n",
       "      <td>2018-04-13</td>\n",
       "      <td>7000000</td>\n",
       "      <td>5950000.0</td>\n",
       "    </tr>\n",
       "    <tr>\n",
       "      <th>200210</th>\n",
       "      <td>Marko Mendell</td>\n",
       "      <td>Male</td>\n",
       "      <td>2018-07-04</td>\n",
       "      <td>15000000</td>\n",
       "      <td>12750000.0</td>\n",
       "    </tr>\n",
       "    <tr>\n",
       "      <th>200211</th>\n",
       "      <td>Takahiro Momoka</td>\n",
       "      <td>Female</td>\n",
       "      <td>2016-11-18</td>\n",
       "      <td>12000000</td>\n",
       "      <td>10200000.0</td>\n",
       "    </tr>\n",
       "    <tr>\n",
       "      <th>200312</th>\n",
       "      <td>Yahiko Tilemans</td>\n",
       "      <td>Male</td>\n",
       "      <td>2017-05-26</td>\n",
       "      <td>20000000</td>\n",
       "      <td>17000000.0</td>\n",
       "    </tr>\n",
       "    <tr>\n",
       "      <th>300207</th>\n",
       "      <td>Dina Rebaine</td>\n",
       "      <td>Female</td>\n",
       "      <td>2015-03-20</td>\n",
       "      <td>15000000</td>\n",
       "      <td>12750000.0</td>\n",
       "    </tr>\n",
       "  </tbody>\n",
       "</table>\n",
       "</div>"
      ],
      "text/plain": [
       "                   name  gender   hire date  gross salary  net salary\n",
       "100111    Raven Bierman  Female  2016-12-04       7000000   5950000.0\n",
       "100112    Valter Havers    Male  2018-04-13       7000000   5950000.0\n",
       "200210    Marko Mendell    Male  2018-07-04      15000000  12750000.0\n",
       "200211  Takahiro Momoka  Female  2016-11-18      12000000  10200000.0\n",
       "200312  Yahiko Tilemans    Male  2017-05-26      20000000  17000000.0\n",
       "300207     Dina Rebaine  Female  2015-03-20      15000000  12750000.0"
      ]
     },
     "execution_count": 20,
     "metadata": {},
     "output_type": "execute_result"
    }
   ],
   "source": [
    "df #ini berhasil"
   ]
  },
  {
   "cell_type": "code",
   "execution_count": 23,
   "metadata": {
    "ExecuteTime": {
     "end_time": "2021-11-15T02:56:05.750053Z",
     "start_time": "2021-11-15T02:56:05.739103Z"
    }
   },
   "outputs": [],
   "source": [
    "df.loc[100111,'gender']='Male' #untuk assigment nilai baru, tidak disarankan menggunakan serial indexing\n",
    "# penggunakan .loc seperti diatas lebih disarankan"
   ]
  },
  {
   "cell_type": "code",
   "execution_count": 26,
   "metadata": {
    "ExecuteTime": {
     "end_time": "2021-11-15T02:57:36.485535Z",
     "start_time": "2021-11-15T02:57:36.472588Z"
    }
   },
   "outputs": [
    {
     "name": "stderr",
     "output_type": "stream",
     "text": [
      "<ipython-input-26-115fb94c7b35>:1: SettingWithCopyWarning: \n",
      "A value is trying to be set on a copy of a slice from a DataFrame.\n",
      "Try using .loc[row_indexer,col_indexer] = value instead\n",
      "\n",
      "See the caveats in the documentation: https://pandas.pydata.org/pandas-docs/stable/user_guide/indexing.html#returning-a-view-versus-a-copy\n",
      "  df[df['gender']=='Male']['gender']=1\n"
     ]
    }
   ],
   "source": [
    "df[df['gender']=='Male']['gender']=1 # keluar warning, karena mau melakukan assignment di serial indexing "
   ]
  },
  {
   "cell_type": "code",
   "execution_count": 27,
   "metadata": {
    "ExecuteTime": {
     "end_time": "2021-11-15T02:57:40.707524Z",
     "start_time": "2021-11-15T02:57:40.685629Z"
    }
   },
   "outputs": [
    {
     "data": {
      "text/html": [
       "<div>\n",
       "<style scoped>\n",
       "    .dataframe tbody tr th:only-of-type {\n",
       "        vertical-align: middle;\n",
       "    }\n",
       "\n",
       "    .dataframe tbody tr th {\n",
       "        vertical-align: top;\n",
       "    }\n",
       "\n",
       "    .dataframe thead th {\n",
       "        text-align: right;\n",
       "    }\n",
       "</style>\n",
       "<table border=\"1\" class=\"dataframe\">\n",
       "  <thead>\n",
       "    <tr style=\"text-align: right;\">\n",
       "      <th></th>\n",
       "      <th>name</th>\n",
       "      <th>gender</th>\n",
       "      <th>hire date</th>\n",
       "      <th>gross salary</th>\n",
       "      <th>net salary</th>\n",
       "    </tr>\n",
       "  </thead>\n",
       "  <tbody>\n",
       "    <tr>\n",
       "      <th>100111</th>\n",
       "      <td>Raven Bierman</td>\n",
       "      <td>Male</td>\n",
       "      <td>2016-12-04</td>\n",
       "      <td>7000000</td>\n",
       "      <td>5950000.0</td>\n",
       "    </tr>\n",
       "    <tr>\n",
       "      <th>100112</th>\n",
       "      <td>Valter Havers</td>\n",
       "      <td>Male</td>\n",
       "      <td>2018-04-13</td>\n",
       "      <td>7000000</td>\n",
       "      <td>5950000.0</td>\n",
       "    </tr>\n",
       "    <tr>\n",
       "      <th>200210</th>\n",
       "      <td>Marko Mendell</td>\n",
       "      <td>Male</td>\n",
       "      <td>2018-07-04</td>\n",
       "      <td>15000000</td>\n",
       "      <td>12750000.0</td>\n",
       "    </tr>\n",
       "    <tr>\n",
       "      <th>200211</th>\n",
       "      <td>Takahiro Momoka</td>\n",
       "      <td>Female</td>\n",
       "      <td>2016-11-18</td>\n",
       "      <td>12000000</td>\n",
       "      <td>10200000.0</td>\n",
       "    </tr>\n",
       "    <tr>\n",
       "      <th>200312</th>\n",
       "      <td>Yahiko Tilemans</td>\n",
       "      <td>Male</td>\n",
       "      <td>2017-05-26</td>\n",
       "      <td>20000000</td>\n",
       "      <td>17000000.0</td>\n",
       "    </tr>\n",
       "    <tr>\n",
       "      <th>300207</th>\n",
       "      <td>Dina Rebaine</td>\n",
       "      <td>Female</td>\n",
       "      <td>2015-03-20</td>\n",
       "      <td>15000000</td>\n",
       "      <td>12750000.0</td>\n",
       "    </tr>\n",
       "  </tbody>\n",
       "</table>\n",
       "</div>"
      ],
      "text/plain": [
       "                   name  gender   hire date  gross salary  net salary\n",
       "100111    Raven Bierman    Male  2016-12-04       7000000   5950000.0\n",
       "100112    Valter Havers    Male  2018-04-13       7000000   5950000.0\n",
       "200210    Marko Mendell    Male  2018-07-04      15000000  12750000.0\n",
       "200211  Takahiro Momoka  Female  2016-11-18      12000000  10200000.0\n",
       "200312  Yahiko Tilemans    Male  2017-05-26      20000000  17000000.0\n",
       "300207     Dina Rebaine  Female  2015-03-20      15000000  12750000.0"
      ]
     },
     "execution_count": 27,
     "metadata": {},
     "output_type": "execute_result"
    }
   ],
   "source": [
    "df #hasil tidak berubah"
   ]
  },
  {
   "cell_type": "code",
   "execution_count": 28,
   "metadata": {
    "ExecuteTime": {
     "end_time": "2021-11-15T02:58:14.717440Z",
     "start_time": "2021-11-15T02:58:14.709463Z"
    }
   },
   "outputs": [],
   "source": [
    "df.loc[df['gender']=='Male','gender']=1 "
   ]
  },
  {
   "cell_type": "code",
   "execution_count": 29,
   "metadata": {
    "ExecuteTime": {
     "end_time": "2021-11-15T02:58:16.475835Z",
     "start_time": "2021-11-15T02:58:16.454893Z"
    }
   },
   "outputs": [
    {
     "data": {
      "text/html": [
       "<div>\n",
       "<style scoped>\n",
       "    .dataframe tbody tr th:only-of-type {\n",
       "        vertical-align: middle;\n",
       "    }\n",
       "\n",
       "    .dataframe tbody tr th {\n",
       "        vertical-align: top;\n",
       "    }\n",
       "\n",
       "    .dataframe thead th {\n",
       "        text-align: right;\n",
       "    }\n",
       "</style>\n",
       "<table border=\"1\" class=\"dataframe\">\n",
       "  <thead>\n",
       "    <tr style=\"text-align: right;\">\n",
       "      <th></th>\n",
       "      <th>name</th>\n",
       "      <th>gender</th>\n",
       "      <th>hire date</th>\n",
       "      <th>gross salary</th>\n",
       "      <th>net salary</th>\n",
       "    </tr>\n",
       "  </thead>\n",
       "  <tbody>\n",
       "    <tr>\n",
       "      <th>100111</th>\n",
       "      <td>Raven Bierman</td>\n",
       "      <td>1</td>\n",
       "      <td>2016-12-04</td>\n",
       "      <td>7000000</td>\n",
       "      <td>5950000.0</td>\n",
       "    </tr>\n",
       "    <tr>\n",
       "      <th>100112</th>\n",
       "      <td>Valter Havers</td>\n",
       "      <td>1</td>\n",
       "      <td>2018-04-13</td>\n",
       "      <td>7000000</td>\n",
       "      <td>5950000.0</td>\n",
       "    </tr>\n",
       "    <tr>\n",
       "      <th>200210</th>\n",
       "      <td>Marko Mendell</td>\n",
       "      <td>1</td>\n",
       "      <td>2018-07-04</td>\n",
       "      <td>15000000</td>\n",
       "      <td>12750000.0</td>\n",
       "    </tr>\n",
       "    <tr>\n",
       "      <th>200211</th>\n",
       "      <td>Takahiro Momoka</td>\n",
       "      <td>Female</td>\n",
       "      <td>2016-11-18</td>\n",
       "      <td>12000000</td>\n",
       "      <td>10200000.0</td>\n",
       "    </tr>\n",
       "    <tr>\n",
       "      <th>200312</th>\n",
       "      <td>Yahiko Tilemans</td>\n",
       "      <td>1</td>\n",
       "      <td>2017-05-26</td>\n",
       "      <td>20000000</td>\n",
       "      <td>17000000.0</td>\n",
       "    </tr>\n",
       "    <tr>\n",
       "      <th>300207</th>\n",
       "      <td>Dina Rebaine</td>\n",
       "      <td>Female</td>\n",
       "      <td>2015-03-20</td>\n",
       "      <td>15000000</td>\n",
       "      <td>12750000.0</td>\n",
       "    </tr>\n",
       "  </tbody>\n",
       "</table>\n",
       "</div>"
      ],
      "text/plain": [
       "                   name  gender   hire date  gross salary  net salary\n",
       "100111    Raven Bierman       1  2016-12-04       7000000   5950000.0\n",
       "100112    Valter Havers       1  2018-04-13       7000000   5950000.0\n",
       "200210    Marko Mendell       1  2018-07-04      15000000  12750000.0\n",
       "200211  Takahiro Momoka  Female  2016-11-18      12000000  10200000.0\n",
       "200312  Yahiko Tilemans       1  2017-05-26      20000000  17000000.0\n",
       "300207     Dina Rebaine  Female  2015-03-20      15000000  12750000.0"
      ]
     },
     "execution_count": 29,
     "metadata": {},
     "output_type": "execute_result"
    }
   ],
   "source": [
    "df #yang ini berubah"
   ]
  },
  {
   "cell_type": "markdown",
   "metadata": {
    "ExecuteTime": {
     "end_time": "2021-11-15T03:08:05.653387Z",
     "start_time": "2021-11-15T03:08:05.644404Z"
    }
   },
   "source": [
    "More about Index"
   ]
  },
  {
   "cell_type": "code",
   "execution_count": 32,
   "metadata": {
    "ExecuteTime": {
     "end_time": "2021-11-15T03:08:29.498556Z",
     "start_time": "2021-11-15T03:08:29.484563Z"
    }
   },
   "outputs": [
    {
     "data": {
      "text/html": [
       "<div>\n",
       "<style scoped>\n",
       "    .dataframe tbody tr th:only-of-type {\n",
       "        vertical-align: middle;\n",
       "    }\n",
       "\n",
       "    .dataframe tbody tr th {\n",
       "        vertical-align: top;\n",
       "    }\n",
       "\n",
       "    .dataframe thead th {\n",
       "        text-align: right;\n",
       "    }\n",
       "</style>\n",
       "<table border=\"1\" class=\"dataframe\">\n",
       "  <thead>\n",
       "    <tr style=\"text-align: right;\">\n",
       "      <th></th>\n",
       "      <th>name</th>\n",
       "      <th>gender</th>\n",
       "      <th>hire date</th>\n",
       "      <th>gross salary</th>\n",
       "    </tr>\n",
       "  </thead>\n",
       "  <tbody>\n",
       "    <tr>\n",
       "      <th>100111</th>\n",
       "      <td>Raven Bierman</td>\n",
       "      <td>Female</td>\n",
       "      <td>2016-12-04</td>\n",
       "      <td>7000000</td>\n",
       "    </tr>\n",
       "    <tr>\n",
       "      <th>100112</th>\n",
       "      <td>Valter Havers</td>\n",
       "      <td>Male</td>\n",
       "      <td>2018-04-13</td>\n",
       "      <td>7000000</td>\n",
       "    </tr>\n",
       "    <tr>\n",
       "      <th>200210</th>\n",
       "      <td>Marko Mendell</td>\n",
       "      <td>Male</td>\n",
       "      <td>2018-07-04</td>\n",
       "      <td>15000000</td>\n",
       "    </tr>\n",
       "    <tr>\n",
       "      <th>200211</th>\n",
       "      <td>Takahiro Momota</td>\n",
       "      <td>Male</td>\n",
       "      <td>2016-11-18</td>\n",
       "      <td>12000000</td>\n",
       "    </tr>\n",
       "    <tr>\n",
       "      <th>200312</th>\n",
       "      <td>Yahiko Tilemans</td>\n",
       "      <td>Male</td>\n",
       "      <td>2017-05-26</td>\n",
       "      <td>20000000</td>\n",
       "    </tr>\n",
       "    <tr>\n",
       "      <th>300207</th>\n",
       "      <td>Dina Rebaine</td>\n",
       "      <td>Female</td>\n",
       "      <td>2015-03-20</td>\n",
       "      <td>15000000</td>\n",
       "    </tr>\n",
       "  </tbody>\n",
       "</table>\n",
       "</div>"
      ],
      "text/plain": [
       "                   name  gender   hire date  gross salary\n",
       "100111    Raven Bierman  Female  2016-12-04       7000000\n",
       "100112    Valter Havers    Male  2018-04-13       7000000\n",
       "200210    Marko Mendell    Male  2018-07-04      15000000\n",
       "200211  Takahiro Momota    Male  2016-11-18      12000000\n",
       "200312  Yahiko Tilemans    Male  2017-05-26      20000000\n",
       "300207     Dina Rebaine  Female  2015-03-20      15000000"
      ]
     },
     "execution_count": 32,
     "metadata": {},
     "output_type": "execute_result"
    }
   ],
   "source": [
    "df"
   ]
  },
  {
   "cell_type": "code",
   "execution_count": 33,
   "metadata": {
    "ExecuteTime": {
     "end_time": "2021-11-15T03:08:47.397253Z",
     "start_time": "2021-11-15T03:08:47.379326Z"
    }
   },
   "outputs": [
    {
     "data": {
      "text/html": [
       "<div>\n",
       "<style scoped>\n",
       "    .dataframe tbody tr th:only-of-type {\n",
       "        vertical-align: middle;\n",
       "    }\n",
       "\n",
       "    .dataframe tbody tr th {\n",
       "        vertical-align: top;\n",
       "    }\n",
       "\n",
       "    .dataframe thead th {\n",
       "        text-align: right;\n",
       "    }\n",
       "</style>\n",
       "<table border=\"1\" class=\"dataframe\">\n",
       "  <thead>\n",
       "    <tr style=\"text-align: right;\">\n",
       "      <th></th>\n",
       "      <th>index</th>\n",
       "      <th>name</th>\n",
       "      <th>gender</th>\n",
       "      <th>hire date</th>\n",
       "      <th>gross salary</th>\n",
       "    </tr>\n",
       "  </thead>\n",
       "  <tbody>\n",
       "    <tr>\n",
       "      <th>0</th>\n",
       "      <td>100111</td>\n",
       "      <td>Raven Bierman</td>\n",
       "      <td>Female</td>\n",
       "      <td>2016-12-04</td>\n",
       "      <td>7000000</td>\n",
       "    </tr>\n",
       "    <tr>\n",
       "      <th>1</th>\n",
       "      <td>100112</td>\n",
       "      <td>Valter Havers</td>\n",
       "      <td>Male</td>\n",
       "      <td>2018-04-13</td>\n",
       "      <td>7000000</td>\n",
       "    </tr>\n",
       "    <tr>\n",
       "      <th>2</th>\n",
       "      <td>200210</td>\n",
       "      <td>Marko Mendell</td>\n",
       "      <td>Male</td>\n",
       "      <td>2018-07-04</td>\n",
       "      <td>15000000</td>\n",
       "    </tr>\n",
       "    <tr>\n",
       "      <th>3</th>\n",
       "      <td>200211</td>\n",
       "      <td>Takahiro Momota</td>\n",
       "      <td>Male</td>\n",
       "      <td>2016-11-18</td>\n",
       "      <td>12000000</td>\n",
       "    </tr>\n",
       "    <tr>\n",
       "      <th>4</th>\n",
       "      <td>200312</td>\n",
       "      <td>Yahiko Tilemans</td>\n",
       "      <td>Male</td>\n",
       "      <td>2017-05-26</td>\n",
       "      <td>20000000</td>\n",
       "    </tr>\n",
       "    <tr>\n",
       "      <th>5</th>\n",
       "      <td>300207</td>\n",
       "      <td>Dina Rebaine</td>\n",
       "      <td>Female</td>\n",
       "      <td>2015-03-20</td>\n",
       "      <td>15000000</td>\n",
       "    </tr>\n",
       "  </tbody>\n",
       "</table>\n",
       "</div>"
      ],
      "text/plain": [
       "    index             name  gender   hire date  gross salary\n",
       "0  100111    Raven Bierman  Female  2016-12-04       7000000\n",
       "1  100112    Valter Havers    Male  2018-04-13       7000000\n",
       "2  200210    Marko Mendell    Male  2018-07-04      15000000\n",
       "3  200211  Takahiro Momota    Male  2016-11-18      12000000\n",
       "4  200312  Yahiko Tilemans    Male  2017-05-26      20000000\n",
       "5  300207     Dina Rebaine  Female  2015-03-20      15000000"
      ]
     },
     "execution_count": 33,
     "metadata": {},
     "output_type": "execute_result"
    }
   ],
   "source": [
    "df.reset_index() #mengembalikan index kembali ke default, dan index sebelumnya menjadi kolom baru"
   ]
  },
  {
   "cell_type": "code",
   "execution_count": 34,
   "metadata": {
    "ExecuteTime": {
     "end_time": "2021-11-15T03:09:46.015583Z",
     "start_time": "2021-11-15T03:09:46.007607Z"
    }
   },
   "outputs": [
    {
     "data": {
      "text/html": [
       "<div>\n",
       "<style scoped>\n",
       "    .dataframe tbody tr th:only-of-type {\n",
       "        vertical-align: middle;\n",
       "    }\n",
       "\n",
       "    .dataframe tbody tr th {\n",
       "        vertical-align: top;\n",
       "    }\n",
       "\n",
       "    .dataframe thead th {\n",
       "        text-align: right;\n",
       "    }\n",
       "</style>\n",
       "<table border=\"1\" class=\"dataframe\">\n",
       "  <thead>\n",
       "    <tr style=\"text-align: right;\">\n",
       "      <th></th>\n",
       "      <th>name</th>\n",
       "      <th>gender</th>\n",
       "      <th>hire date</th>\n",
       "      <th>gross salary</th>\n",
       "    </tr>\n",
       "  </thead>\n",
       "  <tbody>\n",
       "    <tr>\n",
       "      <th>0</th>\n",
       "      <td>Raven Bierman</td>\n",
       "      <td>Female</td>\n",
       "      <td>2016-12-04</td>\n",
       "      <td>7000000</td>\n",
       "    </tr>\n",
       "    <tr>\n",
       "      <th>1</th>\n",
       "      <td>Valter Havers</td>\n",
       "      <td>Male</td>\n",
       "      <td>2018-04-13</td>\n",
       "      <td>7000000</td>\n",
       "    </tr>\n",
       "    <tr>\n",
       "      <th>2</th>\n",
       "      <td>Marko Mendell</td>\n",
       "      <td>Male</td>\n",
       "      <td>2018-07-04</td>\n",
       "      <td>15000000</td>\n",
       "    </tr>\n",
       "    <tr>\n",
       "      <th>3</th>\n",
       "      <td>Takahiro Momota</td>\n",
       "      <td>Male</td>\n",
       "      <td>2016-11-18</td>\n",
       "      <td>12000000</td>\n",
       "    </tr>\n",
       "    <tr>\n",
       "      <th>4</th>\n",
       "      <td>Yahiko Tilemans</td>\n",
       "      <td>Male</td>\n",
       "      <td>2017-05-26</td>\n",
       "      <td>20000000</td>\n",
       "    </tr>\n",
       "    <tr>\n",
       "      <th>5</th>\n",
       "      <td>Dina Rebaine</td>\n",
       "      <td>Female</td>\n",
       "      <td>2015-03-20</td>\n",
       "      <td>15000000</td>\n",
       "    </tr>\n",
       "  </tbody>\n",
       "</table>\n",
       "</div>"
      ],
      "text/plain": [
       "              name  gender   hire date  gross salary\n",
       "0    Raven Bierman  Female  2016-12-04       7000000\n",
       "1    Valter Havers    Male  2018-04-13       7000000\n",
       "2    Marko Mendell    Male  2018-07-04      15000000\n",
       "3  Takahiro Momota    Male  2016-11-18      12000000\n",
       "4  Yahiko Tilemans    Male  2017-05-26      20000000\n",
       "5     Dina Rebaine  Female  2015-03-20      15000000"
      ]
     },
     "execution_count": 34,
     "metadata": {},
     "output_type": "execute_result"
    }
   ],
   "source": [
    "df.reset_index(drop=True) #jika kita tidak ingin index lama menjadi kolom baru, bisa pakai drop=True"
   ]
  },
  {
   "cell_type": "code",
   "execution_count": 35,
   "metadata": {
    "ExecuteTime": {
     "end_time": "2021-11-15T03:10:38.212958Z",
     "start_time": "2021-11-15T03:10:38.197000Z"
    }
   },
   "outputs": [
    {
     "data": {
      "text/html": [
       "<div>\n",
       "<style scoped>\n",
       "    .dataframe tbody tr th:only-of-type {\n",
       "        vertical-align: middle;\n",
       "    }\n",
       "\n",
       "    .dataframe tbody tr th {\n",
       "        vertical-align: top;\n",
       "    }\n",
       "\n",
       "    .dataframe thead th {\n",
       "        text-align: right;\n",
       "    }\n",
       "</style>\n",
       "<table border=\"1\" class=\"dataframe\">\n",
       "  <thead>\n",
       "    <tr style=\"text-align: right;\">\n",
       "      <th></th>\n",
       "      <th>index</th>\n",
       "      <th>name</th>\n",
       "      <th>gender</th>\n",
       "      <th>hire date</th>\n",
       "      <th>gross salary</th>\n",
       "    </tr>\n",
       "  </thead>\n",
       "  <tbody>\n",
       "    <tr>\n",
       "      <th>0</th>\n",
       "      <td>100111</td>\n",
       "      <td>Raven Bierman</td>\n",
       "      <td>Female</td>\n",
       "      <td>2016-12-04</td>\n",
       "      <td>7000000</td>\n",
       "    </tr>\n",
       "    <tr>\n",
       "      <th>1</th>\n",
       "      <td>100112</td>\n",
       "      <td>Valter Havers</td>\n",
       "      <td>Male</td>\n",
       "      <td>2018-04-13</td>\n",
       "      <td>7000000</td>\n",
       "    </tr>\n",
       "    <tr>\n",
       "      <th>2</th>\n",
       "      <td>200210</td>\n",
       "      <td>Marko Mendell</td>\n",
       "      <td>Male</td>\n",
       "      <td>2018-07-04</td>\n",
       "      <td>15000000</td>\n",
       "    </tr>\n",
       "    <tr>\n",
       "      <th>3</th>\n",
       "      <td>200211</td>\n",
       "      <td>Takahiro Momota</td>\n",
       "      <td>Male</td>\n",
       "      <td>2016-11-18</td>\n",
       "      <td>12000000</td>\n",
       "    </tr>\n",
       "    <tr>\n",
       "      <th>4</th>\n",
       "      <td>200312</td>\n",
       "      <td>Yahiko Tilemans</td>\n",
       "      <td>Male</td>\n",
       "      <td>2017-05-26</td>\n",
       "      <td>20000000</td>\n",
       "    </tr>\n",
       "    <tr>\n",
       "      <th>5</th>\n",
       "      <td>300207</td>\n",
       "      <td>Dina Rebaine</td>\n",
       "      <td>Female</td>\n",
       "      <td>2015-03-20</td>\n",
       "      <td>15000000</td>\n",
       "    </tr>\n",
       "  </tbody>\n",
       "</table>\n",
       "</div>"
      ],
      "text/plain": [
       "    index             name  gender   hire date  gross salary\n",
       "0  100111    Raven Bierman  Female  2016-12-04       7000000\n",
       "1  100112    Valter Havers    Male  2018-04-13       7000000\n",
       "2  200210    Marko Mendell    Male  2018-07-04      15000000\n",
       "3  200211  Takahiro Momota    Male  2016-11-18      12000000\n",
       "4  200312  Yahiko Tilemans    Male  2017-05-26      20000000\n",
       "5  300207     Dina Rebaine  Female  2015-03-20      15000000"
      ]
     },
     "execution_count": 35,
     "metadata": {},
     "output_type": "execute_result"
    }
   ],
   "source": [
    "df=df.reset_index() #jangan lupa simpan/ lakukan inplace agar perubahan menjadi permanen\n",
    "df"
   ]
  },
  {
   "cell_type": "code",
   "execution_count": 36,
   "metadata": {
    "ExecuteTime": {
     "end_time": "2021-11-15T03:12:47.362902Z",
     "start_time": "2021-11-15T03:12:47.348938Z"
    }
   },
   "outputs": [
    {
     "data": {
      "text/html": [
       "<div>\n",
       "<style scoped>\n",
       "    .dataframe tbody tr th:only-of-type {\n",
       "        vertical-align: middle;\n",
       "    }\n",
       "\n",
       "    .dataframe tbody tr th {\n",
       "        vertical-align: top;\n",
       "    }\n",
       "\n",
       "    .dataframe thead th {\n",
       "        text-align: right;\n",
       "    }\n",
       "</style>\n",
       "<table border=\"1\" class=\"dataframe\">\n",
       "  <thead>\n",
       "    <tr style=\"text-align: right;\">\n",
       "      <th></th>\n",
       "      <th>ID</th>\n",
       "      <th>name</th>\n",
       "      <th>gender</th>\n",
       "      <th>hire date</th>\n",
       "      <th>gross salary</th>\n",
       "    </tr>\n",
       "  </thead>\n",
       "  <tbody>\n",
       "    <tr>\n",
       "      <th>0</th>\n",
       "      <td>100111</td>\n",
       "      <td>Raven Bierman</td>\n",
       "      <td>Female</td>\n",
       "      <td>2016-12-04</td>\n",
       "      <td>7000000</td>\n",
       "    </tr>\n",
       "    <tr>\n",
       "      <th>1</th>\n",
       "      <td>100112</td>\n",
       "      <td>Valter Havers</td>\n",
       "      <td>Male</td>\n",
       "      <td>2018-04-13</td>\n",
       "      <td>7000000</td>\n",
       "    </tr>\n",
       "    <tr>\n",
       "      <th>2</th>\n",
       "      <td>200210</td>\n",
       "      <td>Marko Mendell</td>\n",
       "      <td>Male</td>\n",
       "      <td>2018-07-04</td>\n",
       "      <td>15000000</td>\n",
       "    </tr>\n",
       "    <tr>\n",
       "      <th>3</th>\n",
       "      <td>200211</td>\n",
       "      <td>Takahiro Momota</td>\n",
       "      <td>Male</td>\n",
       "      <td>2016-11-18</td>\n",
       "      <td>12000000</td>\n",
       "    </tr>\n",
       "    <tr>\n",
       "      <th>4</th>\n",
       "      <td>200312</td>\n",
       "      <td>Yahiko Tilemans</td>\n",
       "      <td>Male</td>\n",
       "      <td>2017-05-26</td>\n",
       "      <td>20000000</td>\n",
       "    </tr>\n",
       "    <tr>\n",
       "      <th>5</th>\n",
       "      <td>300207</td>\n",
       "      <td>Dina Rebaine</td>\n",
       "      <td>Female</td>\n",
       "      <td>2015-03-20</td>\n",
       "      <td>15000000</td>\n",
       "    </tr>\n",
       "  </tbody>\n",
       "</table>\n",
       "</div>"
      ],
      "text/plain": [
       "       ID             name  gender   hire date  gross salary\n",
       "0  100111    Raven Bierman  Female  2016-12-04       7000000\n",
       "1  100112    Valter Havers    Male  2018-04-13       7000000\n",
       "2  200210    Marko Mendell    Male  2018-07-04      15000000\n",
       "3  200211  Takahiro Momota    Male  2016-11-18      12000000\n",
       "4  200312  Yahiko Tilemans    Male  2017-05-26      20000000\n",
       "5  300207     Dina Rebaine  Female  2015-03-20      15000000"
      ]
     },
     "execution_count": 36,
     "metadata": {},
     "output_type": "execute_result"
    }
   ],
   "source": [
    "df.rename(columns={'index':'ID'}) #mengganti nama kolom index menjadi ID"
   ]
  },
  {
   "cell_type": "code",
   "execution_count": 37,
   "metadata": {
    "ExecuteTime": {
     "end_time": "2021-11-15T03:13:35.981463Z",
     "start_time": "2021-11-15T03:13:35.965084Z"
    }
   },
   "outputs": [
    {
     "data": {
      "text/plain": [
       "Index(['index', 'name', 'gender', 'hire date', 'gross salary'], dtype='object')"
      ]
     },
     "execution_count": 37,
     "metadata": {},
     "output_type": "execute_result"
    }
   ],
   "source": [
    "df.columns # nama-nama kolom di df"
   ]
  },
  {
   "cell_type": "code",
   "execution_count": 38,
   "metadata": {
    "ExecuteTime": {
     "end_time": "2021-11-15T03:13:52.617305Z",
     "start_time": "2021-11-15T03:13:52.613316Z"
    }
   },
   "outputs": [
    {
     "data": {
      "text/plain": [
       "RangeIndex(start=0, stop=6, step=1)"
      ]
     },
     "execution_count": 38,
     "metadata": {},
     "output_type": "execute_result"
    }
   ],
   "source": [
    "df.index # label index"
   ]
  },
  {
   "cell_type": "code",
   "execution_count": 41,
   "metadata": {
    "ExecuteTime": {
     "end_time": "2021-11-15T03:15:04.340652Z",
     "start_time": "2021-11-15T03:15:04.333864Z"
    }
   },
   "outputs": [],
   "source": [
    "df.index=[100111,100112,200210,200211,200312,300207] # bisa dipakai untuk assign 1 set label index/kolom ( untuk .columns)"
   ]
  },
  {
   "cell_type": "code",
   "execution_count": 42,
   "metadata": {
    "ExecuteTime": {
     "end_time": "2021-11-15T03:15:06.884162Z",
     "start_time": "2021-11-15T03:15:06.867210Z"
    }
   },
   "outputs": [
    {
     "data": {
      "text/html": [
       "<div>\n",
       "<style scoped>\n",
       "    .dataframe tbody tr th:only-of-type {\n",
       "        vertical-align: middle;\n",
       "    }\n",
       "\n",
       "    .dataframe tbody tr th {\n",
       "        vertical-align: top;\n",
       "    }\n",
       "\n",
       "    .dataframe thead th {\n",
       "        text-align: right;\n",
       "    }\n",
       "</style>\n",
       "<table border=\"1\" class=\"dataframe\">\n",
       "  <thead>\n",
       "    <tr style=\"text-align: right;\">\n",
       "      <th></th>\n",
       "      <th>index</th>\n",
       "      <th>name</th>\n",
       "      <th>gender</th>\n",
       "      <th>hire date</th>\n",
       "      <th>gross salary</th>\n",
       "    </tr>\n",
       "  </thead>\n",
       "  <tbody>\n",
       "    <tr>\n",
       "      <th>100111</th>\n",
       "      <td>100111</td>\n",
       "      <td>Raven Bierman</td>\n",
       "      <td>Female</td>\n",
       "      <td>2016-12-04</td>\n",
       "      <td>7000000</td>\n",
       "    </tr>\n",
       "    <tr>\n",
       "      <th>100112</th>\n",
       "      <td>100112</td>\n",
       "      <td>Valter Havers</td>\n",
       "      <td>Male</td>\n",
       "      <td>2018-04-13</td>\n",
       "      <td>7000000</td>\n",
       "    </tr>\n",
       "    <tr>\n",
       "      <th>200210</th>\n",
       "      <td>200210</td>\n",
       "      <td>Marko Mendell</td>\n",
       "      <td>Male</td>\n",
       "      <td>2018-07-04</td>\n",
       "      <td>15000000</td>\n",
       "    </tr>\n",
       "    <tr>\n",
       "      <th>200211</th>\n",
       "      <td>200211</td>\n",
       "      <td>Takahiro Momota</td>\n",
       "      <td>Male</td>\n",
       "      <td>2016-11-18</td>\n",
       "      <td>12000000</td>\n",
       "    </tr>\n",
       "    <tr>\n",
       "      <th>200312</th>\n",
       "      <td>200312</td>\n",
       "      <td>Yahiko Tilemans</td>\n",
       "      <td>Male</td>\n",
       "      <td>2017-05-26</td>\n",
       "      <td>20000000</td>\n",
       "    </tr>\n",
       "    <tr>\n",
       "      <th>300207</th>\n",
       "      <td>300207</td>\n",
       "      <td>Dina Rebaine</td>\n",
       "      <td>Female</td>\n",
       "      <td>2015-03-20</td>\n",
       "      <td>15000000</td>\n",
       "    </tr>\n",
       "  </tbody>\n",
       "</table>\n",
       "</div>"
      ],
      "text/plain": [
       "         index             name  gender   hire date  gross salary\n",
       "100111  100111    Raven Bierman  Female  2016-12-04       7000000\n",
       "100112  100112    Valter Havers    Male  2018-04-13       7000000\n",
       "200210  200210    Marko Mendell    Male  2018-07-04      15000000\n",
       "200211  200211  Takahiro Momota    Male  2016-11-18      12000000\n",
       "200312  200312  Yahiko Tilemans    Male  2017-05-26      20000000\n",
       "300207  300207     Dina Rebaine  Female  2015-03-20      15000000"
      ]
     },
     "execution_count": 42,
     "metadata": {},
     "output_type": "execute_result"
    }
   ],
   "source": [
    "df"
   ]
  },
  {
   "cell_type": "code",
   "execution_count": 43,
   "metadata": {
    "ExecuteTime": {
     "end_time": "2021-11-15T03:15:56.383023Z",
     "start_time": "2021-11-15T03:15:56.373081Z"
    }
   },
   "outputs": [
    {
     "data": {
      "text/html": [
       "<div>\n",
       "<style scoped>\n",
       "    .dataframe tbody tr th:only-of-type {\n",
       "        vertical-align: middle;\n",
       "    }\n",
       "\n",
       "    .dataframe tbody tr th {\n",
       "        vertical-align: top;\n",
       "    }\n",
       "\n",
       "    .dataframe thead th {\n",
       "        text-align: right;\n",
       "    }\n",
       "</style>\n",
       "<table border=\"1\" class=\"dataframe\">\n",
       "  <thead>\n",
       "    <tr style=\"text-align: right;\">\n",
       "      <th></th>\n",
       "      <th>index</th>\n",
       "      <th>name</th>\n",
       "      <th>gender</th>\n",
       "      <th>hire date</th>\n",
       "      <th>gross salary</th>\n",
       "    </tr>\n",
       "  </thead>\n",
       "  <tbody>\n",
       "    <tr>\n",
       "      <th>0</th>\n",
       "      <td>100111</td>\n",
       "      <td>Raven Bierman</td>\n",
       "      <td>Female</td>\n",
       "      <td>2016-12-04</td>\n",
       "      <td>7000000</td>\n",
       "    </tr>\n",
       "    <tr>\n",
       "      <th>1</th>\n",
       "      <td>100112</td>\n",
       "      <td>Valter Havers</td>\n",
       "      <td>Male</td>\n",
       "      <td>2018-04-13</td>\n",
       "      <td>7000000</td>\n",
       "    </tr>\n",
       "    <tr>\n",
       "      <th>2</th>\n",
       "      <td>200210</td>\n",
       "      <td>Marko Mendell</td>\n",
       "      <td>Male</td>\n",
       "      <td>2018-07-04</td>\n",
       "      <td>15000000</td>\n",
       "    </tr>\n",
       "    <tr>\n",
       "      <th>3</th>\n",
       "      <td>200211</td>\n",
       "      <td>Takahiro Momota</td>\n",
       "      <td>Male</td>\n",
       "      <td>2016-11-18</td>\n",
       "      <td>12000000</td>\n",
       "    </tr>\n",
       "    <tr>\n",
       "      <th>4</th>\n",
       "      <td>200312</td>\n",
       "      <td>Yahiko Tilemans</td>\n",
       "      <td>Male</td>\n",
       "      <td>2017-05-26</td>\n",
       "      <td>20000000</td>\n",
       "    </tr>\n",
       "    <tr>\n",
       "      <th>5</th>\n",
       "      <td>300207</td>\n",
       "      <td>Dina Rebaine</td>\n",
       "      <td>Female</td>\n",
       "      <td>2015-03-20</td>\n",
       "      <td>15000000</td>\n",
       "    </tr>\n",
       "  </tbody>\n",
       "</table>\n",
       "</div>"
      ],
      "text/plain": [
       "    index             name  gender   hire date  gross salary\n",
       "0  100111    Raven Bierman  Female  2016-12-04       7000000\n",
       "1  100112    Valter Havers    Male  2018-04-13       7000000\n",
       "2  200210    Marko Mendell    Male  2018-07-04      15000000\n",
       "3  200211  Takahiro Momota    Male  2016-11-18      12000000\n",
       "4  200312  Yahiko Tilemans    Male  2017-05-26      20000000\n",
       "5  300207     Dina Rebaine  Female  2015-03-20      15000000"
      ]
     },
     "execution_count": 43,
     "metadata": {},
     "output_type": "execute_result"
    }
   ],
   "source": [
    "df=df.reset_index(drop=True)\n",
    "df"
   ]
  },
  {
   "cell_type": "code",
   "execution_count": 44,
   "metadata": {
    "ExecuteTime": {
     "end_time": "2021-11-15T03:19:13.545394Z",
     "start_time": "2021-11-15T03:19:13.522487Z"
    }
   },
   "outputs": [
    {
     "data": {
      "text/html": [
       "<div>\n",
       "<style scoped>\n",
       "    .dataframe tbody tr th:only-of-type {\n",
       "        vertical-align: middle;\n",
       "    }\n",
       "\n",
       "    .dataframe tbody tr th {\n",
       "        vertical-align: top;\n",
       "    }\n",
       "\n",
       "    .dataframe thead th {\n",
       "        text-align: right;\n",
       "    }\n",
       "</style>\n",
       "<table border=\"1\" class=\"dataframe\">\n",
       "  <thead>\n",
       "    <tr style=\"text-align: right;\">\n",
       "      <th></th>\n",
       "      <th>ID</th>\n",
       "      <th>name</th>\n",
       "      <th>gender</th>\n",
       "      <th>hire date</th>\n",
       "      <th>gross salary</th>\n",
       "    </tr>\n",
       "  </thead>\n",
       "  <tbody>\n",
       "    <tr>\n",
       "      <th>0</th>\n",
       "      <td>100111</td>\n",
       "      <td>Raven Bierman</td>\n",
       "      <td>Female</td>\n",
       "      <td>2016-12-04</td>\n",
       "      <td>7000000</td>\n",
       "    </tr>\n",
       "    <tr>\n",
       "      <th>1</th>\n",
       "      <td>100112</td>\n",
       "      <td>Valter Havers</td>\n",
       "      <td>Male</td>\n",
       "      <td>2018-04-13</td>\n",
       "      <td>7000000</td>\n",
       "    </tr>\n",
       "    <tr>\n",
       "      <th>2</th>\n",
       "      <td>200210</td>\n",
       "      <td>Marko Mendell</td>\n",
       "      <td>Male</td>\n",
       "      <td>2018-07-04</td>\n",
       "      <td>15000000</td>\n",
       "    </tr>\n",
       "    <tr>\n",
       "      <th>3</th>\n",
       "      <td>200211</td>\n",
       "      <td>Takahiro Momota</td>\n",
       "      <td>Male</td>\n",
       "      <td>2016-11-18</td>\n",
       "      <td>12000000</td>\n",
       "    </tr>\n",
       "    <tr>\n",
       "      <th>4</th>\n",
       "      <td>200312</td>\n",
       "      <td>Yahiko Tilemans</td>\n",
       "      <td>Male</td>\n",
       "      <td>2017-05-26</td>\n",
       "      <td>20000000</td>\n",
       "    </tr>\n",
       "    <tr>\n",
       "      <th>5</th>\n",
       "      <td>300207</td>\n",
       "      <td>Dina Rebaine</td>\n",
       "      <td>Female</td>\n",
       "      <td>2015-03-20</td>\n",
       "      <td>15000000</td>\n",
       "    </tr>\n",
       "  </tbody>\n",
       "</table>\n",
       "</div>"
      ],
      "text/plain": [
       "       ID             name  gender   hire date  gross salary\n",
       "0  100111    Raven Bierman  Female  2016-12-04       7000000\n",
       "1  100112    Valter Havers    Male  2018-04-13       7000000\n",
       "2  200210    Marko Mendell    Male  2018-07-04      15000000\n",
       "3  200211  Takahiro Momota    Male  2016-11-18      12000000\n",
       "4  200312  Yahiko Tilemans    Male  2017-05-26      20000000\n",
       "5  300207     Dina Rebaine  Female  2015-03-20      15000000"
      ]
     },
     "execution_count": 44,
     "metadata": {},
     "output_type": "execute_result"
    }
   ],
   "source": [
    "df.rename(columns={'index':'ID'}, inplace=True)\n",
    "df #jangan lupa disimpan"
   ]
  },
  {
   "cell_type": "code",
   "execution_count": 46,
   "metadata": {
    "ExecuteTime": {
     "end_time": "2021-11-15T03:19:46.850496Z",
     "start_time": "2021-11-15T03:19:46.840522Z"
    }
   },
   "outputs": [],
   "source": [
    "# membuat kolom tertentu menjadi label index\n",
    "df.set_index('ID',inplace=True)\n"
   ]
  },
  {
   "cell_type": "code",
   "execution_count": 47,
   "metadata": {
    "ExecuteTime": {
     "end_time": "2021-11-15T03:19:49.461737Z",
     "start_time": "2021-11-15T03:19:49.443750Z"
    }
   },
   "outputs": [
    {
     "data": {
      "text/html": [
       "<div>\n",
       "<style scoped>\n",
       "    .dataframe tbody tr th:only-of-type {\n",
       "        vertical-align: middle;\n",
       "    }\n",
       "\n",
       "    .dataframe tbody tr th {\n",
       "        vertical-align: top;\n",
       "    }\n",
       "\n",
       "    .dataframe thead th {\n",
       "        text-align: right;\n",
       "    }\n",
       "</style>\n",
       "<table border=\"1\" class=\"dataframe\">\n",
       "  <thead>\n",
       "    <tr style=\"text-align: right;\">\n",
       "      <th></th>\n",
       "      <th>name</th>\n",
       "      <th>gender</th>\n",
       "      <th>hire date</th>\n",
       "      <th>gross salary</th>\n",
       "    </tr>\n",
       "    <tr>\n",
       "      <th>ID</th>\n",
       "      <th></th>\n",
       "      <th></th>\n",
       "      <th></th>\n",
       "      <th></th>\n",
       "    </tr>\n",
       "  </thead>\n",
       "  <tbody>\n",
       "    <tr>\n",
       "      <th>100111</th>\n",
       "      <td>Raven Bierman</td>\n",
       "      <td>Female</td>\n",
       "      <td>2016-12-04</td>\n",
       "      <td>7000000</td>\n",
       "    </tr>\n",
       "    <tr>\n",
       "      <th>100112</th>\n",
       "      <td>Valter Havers</td>\n",
       "      <td>Male</td>\n",
       "      <td>2018-04-13</td>\n",
       "      <td>7000000</td>\n",
       "    </tr>\n",
       "    <tr>\n",
       "      <th>200210</th>\n",
       "      <td>Marko Mendell</td>\n",
       "      <td>Male</td>\n",
       "      <td>2018-07-04</td>\n",
       "      <td>15000000</td>\n",
       "    </tr>\n",
       "    <tr>\n",
       "      <th>200211</th>\n",
       "      <td>Takahiro Momota</td>\n",
       "      <td>Male</td>\n",
       "      <td>2016-11-18</td>\n",
       "      <td>12000000</td>\n",
       "    </tr>\n",
       "    <tr>\n",
       "      <th>200312</th>\n",
       "      <td>Yahiko Tilemans</td>\n",
       "      <td>Male</td>\n",
       "      <td>2017-05-26</td>\n",
       "      <td>20000000</td>\n",
       "    </tr>\n",
       "    <tr>\n",
       "      <th>300207</th>\n",
       "      <td>Dina Rebaine</td>\n",
       "      <td>Female</td>\n",
       "      <td>2015-03-20</td>\n",
       "      <td>15000000</td>\n",
       "    </tr>\n",
       "  </tbody>\n",
       "</table>\n",
       "</div>"
      ],
      "text/plain": [
       "                   name  gender   hire date  gross salary\n",
       "ID                                                       \n",
       "100111    Raven Bierman  Female  2016-12-04       7000000\n",
       "100112    Valter Havers    Male  2018-04-13       7000000\n",
       "200210    Marko Mendell    Male  2018-07-04      15000000\n",
       "200211  Takahiro Momota    Male  2016-11-18      12000000\n",
       "200312  Yahiko Tilemans    Male  2017-05-26      20000000\n",
       "300207     Dina Rebaine  Female  2015-03-20      15000000"
      ]
     },
     "execution_count": 47,
     "metadata": {},
     "output_type": "execute_result"
    }
   ],
   "source": [
    "df"
   ]
  },
  {
   "cell_type": "markdown",
   "metadata": {
    "ExecuteTime": {
     "end_time": "2021-11-15T03:23:55.855862Z",
     "start_time": "2021-11-15T03:23:55.837911Z"
    }
   },
   "source": [
    "Sorting"
   ]
  },
  {
   "cell_type": "code",
   "execution_count": 49,
   "metadata": {
    "ExecuteTime": {
     "end_time": "2021-11-15T03:24:41.924672Z",
     "start_time": "2021-11-15T03:24:41.915729Z"
    }
   },
   "outputs": [
    {
     "data": {
      "text/html": [
       "<div>\n",
       "<style scoped>\n",
       "    .dataframe tbody tr th:only-of-type {\n",
       "        vertical-align: middle;\n",
       "    }\n",
       "\n",
       "    .dataframe tbody tr th {\n",
       "        vertical-align: top;\n",
       "    }\n",
       "\n",
       "    .dataframe thead th {\n",
       "        text-align: right;\n",
       "    }\n",
       "</style>\n",
       "<table border=\"1\" class=\"dataframe\">\n",
       "  <thead>\n",
       "    <tr style=\"text-align: right;\">\n",
       "      <th></th>\n",
       "      <th>name</th>\n",
       "      <th>gender</th>\n",
       "      <th>hire date</th>\n",
       "      <th>gross salary</th>\n",
       "    </tr>\n",
       "    <tr>\n",
       "      <th>ID</th>\n",
       "      <th></th>\n",
       "      <th></th>\n",
       "      <th></th>\n",
       "      <th></th>\n",
       "    </tr>\n",
       "  </thead>\n",
       "  <tbody>\n",
       "    <tr>\n",
       "      <th>300207</th>\n",
       "      <td>Dina Rebaine</td>\n",
       "      <td>Female</td>\n",
       "      <td>2015-03-20</td>\n",
       "      <td>15000000</td>\n",
       "    </tr>\n",
       "    <tr>\n",
       "      <th>200210</th>\n",
       "      <td>Marko Mendell</td>\n",
       "      <td>Male</td>\n",
       "      <td>2018-07-04</td>\n",
       "      <td>15000000</td>\n",
       "    </tr>\n",
       "    <tr>\n",
       "      <th>100111</th>\n",
       "      <td>Raven Bierman</td>\n",
       "      <td>Female</td>\n",
       "      <td>2016-12-04</td>\n",
       "      <td>7000000</td>\n",
       "    </tr>\n",
       "    <tr>\n",
       "      <th>200211</th>\n",
       "      <td>Takahiro Momota</td>\n",
       "      <td>Male</td>\n",
       "      <td>2016-11-18</td>\n",
       "      <td>12000000</td>\n",
       "    </tr>\n",
       "    <tr>\n",
       "      <th>100112</th>\n",
       "      <td>Valter Havers</td>\n",
       "      <td>Male</td>\n",
       "      <td>2018-04-13</td>\n",
       "      <td>7000000</td>\n",
       "    </tr>\n",
       "    <tr>\n",
       "      <th>200312</th>\n",
       "      <td>Yahiko Tilemans</td>\n",
       "      <td>Male</td>\n",
       "      <td>2017-05-26</td>\n",
       "      <td>20000000</td>\n",
       "    </tr>\n",
       "  </tbody>\n",
       "</table>\n",
       "</div>"
      ],
      "text/plain": [
       "                   name  gender   hire date  gross salary\n",
       "ID                                                       \n",
       "300207     Dina Rebaine  Female  2015-03-20      15000000\n",
       "200210    Marko Mendell    Male  2018-07-04      15000000\n",
       "100111    Raven Bierman  Female  2016-12-04       7000000\n",
       "200211  Takahiro Momota    Male  2016-11-18      12000000\n",
       "100112    Valter Havers    Male  2018-04-13       7000000\n",
       "200312  Yahiko Tilemans    Male  2017-05-26      20000000"
      ]
     },
     "execution_count": 49,
     "metadata": {},
     "output_type": "execute_result"
    }
   ],
   "source": [
    "# .sort_values() untuk mengurutkan data berdasarkan kolom tertentu\n",
    "\n",
    "df.sort_values('name') #mengurutkan data karyawan berdasarkan kolom nama, secara default kecil ke besar"
   ]
  },
  {
   "cell_type": "code",
   "execution_count": 50,
   "metadata": {
    "ExecuteTime": {
     "end_time": "2021-11-15T03:25:53.995261Z",
     "start_time": "2021-11-15T03:25:53.977321Z"
    }
   },
   "outputs": [
    {
     "data": {
      "text/html": [
       "<div>\n",
       "<style scoped>\n",
       "    .dataframe tbody tr th:only-of-type {\n",
       "        vertical-align: middle;\n",
       "    }\n",
       "\n",
       "    .dataframe tbody tr th {\n",
       "        vertical-align: top;\n",
       "    }\n",
       "\n",
       "    .dataframe thead th {\n",
       "        text-align: right;\n",
       "    }\n",
       "</style>\n",
       "<table border=\"1\" class=\"dataframe\">\n",
       "  <thead>\n",
       "    <tr style=\"text-align: right;\">\n",
       "      <th></th>\n",
       "      <th>name</th>\n",
       "      <th>gender</th>\n",
       "      <th>hire date</th>\n",
       "      <th>gross salary</th>\n",
       "    </tr>\n",
       "    <tr>\n",
       "      <th>ID</th>\n",
       "      <th></th>\n",
       "      <th></th>\n",
       "      <th></th>\n",
       "      <th></th>\n",
       "    </tr>\n",
       "  </thead>\n",
       "  <tbody>\n",
       "    <tr>\n",
       "      <th>300207</th>\n",
       "      <td>Dina Rebaine</td>\n",
       "      <td>Female</td>\n",
       "      <td>2015-03-20</td>\n",
       "      <td>15000000</td>\n",
       "    </tr>\n",
       "    <tr>\n",
       "      <th>100111</th>\n",
       "      <td>Raven Bierman</td>\n",
       "      <td>Female</td>\n",
       "      <td>2016-12-04</td>\n",
       "      <td>7000000</td>\n",
       "    </tr>\n",
       "    <tr>\n",
       "      <th>200210</th>\n",
       "      <td>Marko Mendell</td>\n",
       "      <td>Male</td>\n",
       "      <td>2018-07-04</td>\n",
       "      <td>15000000</td>\n",
       "    </tr>\n",
       "    <tr>\n",
       "      <th>200211</th>\n",
       "      <td>Takahiro Momota</td>\n",
       "      <td>Male</td>\n",
       "      <td>2016-11-18</td>\n",
       "      <td>12000000</td>\n",
       "    </tr>\n",
       "    <tr>\n",
       "      <th>100112</th>\n",
       "      <td>Valter Havers</td>\n",
       "      <td>Male</td>\n",
       "      <td>2018-04-13</td>\n",
       "      <td>7000000</td>\n",
       "    </tr>\n",
       "    <tr>\n",
       "      <th>200312</th>\n",
       "      <td>Yahiko Tilemans</td>\n",
       "      <td>Male</td>\n",
       "      <td>2017-05-26</td>\n",
       "      <td>20000000</td>\n",
       "    </tr>\n",
       "  </tbody>\n",
       "</table>\n",
       "</div>"
      ],
      "text/plain": [
       "                   name  gender   hire date  gross salary\n",
       "ID                                                       \n",
       "300207     Dina Rebaine  Female  2015-03-20      15000000\n",
       "100111    Raven Bierman  Female  2016-12-04       7000000\n",
       "200210    Marko Mendell    Male  2018-07-04      15000000\n",
       "200211  Takahiro Momota    Male  2016-11-18      12000000\n",
       "100112    Valter Havers    Male  2018-04-13       7000000\n",
       "200312  Yahiko Tilemans    Male  2017-05-26      20000000"
      ]
     },
     "execution_count": 50,
     "metadata": {},
     "output_type": "execute_result"
    }
   ],
   "source": [
    "df.sort_values(['gender','name']) # mengurutkan berdasarkan gender lalu name"
   ]
  },
  {
   "cell_type": "code",
   "execution_count": 57,
   "metadata": {
    "ExecuteTime": {
     "end_time": "2021-11-15T03:29:00.810479Z",
     "start_time": "2021-11-15T03:29:00.796504Z"
    }
   },
   "outputs": [
    {
     "data": {
      "text/html": [
       "<div>\n",
       "<style scoped>\n",
       "    .dataframe tbody tr th:only-of-type {\n",
       "        vertical-align: middle;\n",
       "    }\n",
       "\n",
       "    .dataframe tbody tr th {\n",
       "        vertical-align: top;\n",
       "    }\n",
       "\n",
       "    .dataframe thead th {\n",
       "        text-align: right;\n",
       "    }\n",
       "</style>\n",
       "<table border=\"1\" class=\"dataframe\">\n",
       "  <thead>\n",
       "    <tr style=\"text-align: right;\">\n",
       "      <th></th>\n",
       "      <th>name</th>\n",
       "      <th>gender</th>\n",
       "      <th>hire date</th>\n",
       "      <th>gross salary</th>\n",
       "    </tr>\n",
       "    <tr>\n",
       "      <th>ID</th>\n",
       "      <th></th>\n",
       "      <th></th>\n",
       "      <th></th>\n",
       "      <th></th>\n",
       "    </tr>\n",
       "  </thead>\n",
       "  <tbody>\n",
       "    <tr>\n",
       "      <th>200312</th>\n",
       "      <td>Yahiko Tilemans</td>\n",
       "      <td>Male</td>\n",
       "      <td>2017-05-26</td>\n",
       "      <td>20000000</td>\n",
       "    </tr>\n",
       "    <tr>\n",
       "      <th>100112</th>\n",
       "      <td>Valter Havers</td>\n",
       "      <td>Male</td>\n",
       "      <td>2018-04-13</td>\n",
       "      <td>7000000</td>\n",
       "    </tr>\n",
       "    <tr>\n",
       "      <th>200211</th>\n",
       "      <td>Takahiro Momota</td>\n",
       "      <td>Male</td>\n",
       "      <td>2016-11-18</td>\n",
       "      <td>12000000</td>\n",
       "    </tr>\n",
       "    <tr>\n",
       "      <th>100111</th>\n",
       "      <td>Raven Bierman</td>\n",
       "      <td>Female</td>\n",
       "      <td>2016-12-04</td>\n",
       "      <td>7000000</td>\n",
       "    </tr>\n",
       "    <tr>\n",
       "      <th>200210</th>\n",
       "      <td>Marko Mendell</td>\n",
       "      <td>Male</td>\n",
       "      <td>2018-07-04</td>\n",
       "      <td>15000000</td>\n",
       "    </tr>\n",
       "    <tr>\n",
       "      <th>300207</th>\n",
       "      <td>Dina Rebaine</td>\n",
       "      <td>Female</td>\n",
       "      <td>2015-03-20</td>\n",
       "      <td>15000000</td>\n",
       "    </tr>\n",
       "  </tbody>\n",
       "</table>\n",
       "</div>"
      ],
      "text/plain": [
       "                   name  gender   hire date  gross salary\n",
       "ID                                                       \n",
       "200312  Yahiko Tilemans    Male  2017-05-26      20000000\n",
       "100112    Valter Havers    Male  2018-04-13       7000000\n",
       "200211  Takahiro Momota    Male  2016-11-18      12000000\n",
       "100111    Raven Bierman  Female  2016-12-04       7000000\n",
       "200210    Marko Mendell    Male  2018-07-04      15000000\n",
       "300207     Dina Rebaine  Female  2015-03-20      15000000"
      ]
     },
     "execution_count": 57,
     "metadata": {},
     "output_type": "execute_result"
    }
   ],
   "source": [
    "df.sort_values('name',ascending=False) # mengurutkan data dari besar ke kecil ketika ascending=False"
   ]
  },
  {
   "cell_type": "code",
   "execution_count": 61,
   "metadata": {
    "ExecuteTime": {
     "end_time": "2021-11-15T03:31:13.258432Z",
     "start_time": "2021-11-15T03:31:13.241666Z"
    }
   },
   "outputs": [
    {
     "data": {
      "text/html": [
       "<div>\n",
       "<style scoped>\n",
       "    .dataframe tbody tr th:only-of-type {\n",
       "        vertical-align: middle;\n",
       "    }\n",
       "\n",
       "    .dataframe tbody tr th {\n",
       "        vertical-align: top;\n",
       "    }\n",
       "\n",
       "    .dataframe thead th {\n",
       "        text-align: right;\n",
       "    }\n",
       "</style>\n",
       "<table border=\"1\" class=\"dataframe\">\n",
       "  <thead>\n",
       "    <tr style=\"text-align: right;\">\n",
       "      <th></th>\n",
       "      <th>name</th>\n",
       "      <th>gender</th>\n",
       "      <th>hire date</th>\n",
       "      <th>gross salary</th>\n",
       "    </tr>\n",
       "    <tr>\n",
       "      <th>ID</th>\n",
       "      <th></th>\n",
       "      <th></th>\n",
       "      <th></th>\n",
       "      <th></th>\n",
       "    </tr>\n",
       "  </thead>\n",
       "  <tbody>\n",
       "    <tr>\n",
       "      <th>100112</th>\n",
       "      <td>Valter Havers</td>\n",
       "      <td>Male</td>\n",
       "      <td>2018-04-13</td>\n",
       "      <td>7000000</td>\n",
       "    </tr>\n",
       "    <tr>\n",
       "      <th>200211</th>\n",
       "      <td>Takahiro Momota</td>\n",
       "      <td>Male</td>\n",
       "      <td>2016-11-18</td>\n",
       "      <td>12000000</td>\n",
       "    </tr>\n",
       "    <tr>\n",
       "      <th>200210</th>\n",
       "      <td>Marko Mendell</td>\n",
       "      <td>Male</td>\n",
       "      <td>2018-07-04</td>\n",
       "      <td>15000000</td>\n",
       "    </tr>\n",
       "    <tr>\n",
       "      <th>200312</th>\n",
       "      <td>Yahiko Tilemans</td>\n",
       "      <td>Male</td>\n",
       "      <td>2017-05-26</td>\n",
       "      <td>20000000</td>\n",
       "    </tr>\n",
       "    <tr>\n",
       "      <th>100111</th>\n",
       "      <td>Raven Bierman</td>\n",
       "      <td>Female</td>\n",
       "      <td>2016-12-04</td>\n",
       "      <td>7000000</td>\n",
       "    </tr>\n",
       "    <tr>\n",
       "      <th>300207</th>\n",
       "      <td>Dina Rebaine</td>\n",
       "      <td>Female</td>\n",
       "      <td>2015-03-20</td>\n",
       "      <td>15000000</td>\n",
       "    </tr>\n",
       "  </tbody>\n",
       "</table>\n",
       "</div>"
      ],
      "text/plain": [
       "                   name  gender   hire date  gross salary\n",
       "ID                                                       \n",
       "100112    Valter Havers    Male  2018-04-13       7000000\n",
       "200211  Takahiro Momota    Male  2016-11-18      12000000\n",
       "200210    Marko Mendell    Male  2018-07-04      15000000\n",
       "200312  Yahiko Tilemans    Male  2017-05-26      20000000\n",
       "100111    Raven Bierman  Female  2016-12-04       7000000\n",
       "300207     Dina Rebaine  Female  2015-03-20      15000000"
      ]
     },
     "execution_count": 61,
     "metadata": {},
     "output_type": "execute_result"
    }
   ],
   "source": [
    "df.sort_values(['gender','gross salary'],ascending=[False,True]) # diurutkan berdasarkan gender dulu (male dulu baru female (besar ke kecil))\n",
    "# baru gaji, kecil ke besar"
   ]
  },
  {
   "cell_type": "markdown",
   "metadata": {},
   "source": [
    "Multi Index"
   ]
  },
  {
   "cell_type": "code",
   "execution_count": 62,
   "metadata": {
    "ExecuteTime": {
     "end_time": "2021-11-15T03:35:35.268218Z",
     "start_time": "2021-11-15T03:35:35.258242Z"
    }
   },
   "outputs": [
    {
     "name": "stdout",
     "output_type": "stream",
     "text": [
      "['Jakarta', 'Jakarta', 'Jakarta', 'Surabaya', 'Surabaya', 'Surabaya']\n"
     ]
    },
    {
     "data": {
      "text/plain": [
       "[1, 2, 3, 1, 2, 3]"
      ]
     },
     "execution_count": 62,
     "metadata": {},
     "output_type": "execute_result"
    }
   ],
   "source": [
    "# creating multi index\n",
    "# index level\n",
    "\n",
    "outside='Jakarta Jakarta Jakarta Surabaya Surabaya Surabaya'.split() # index level 1/atas\n",
    "inside=[1,2,3,1,2,3] #index level 2/bawah\n",
    "\n",
    "print(outside)\n",
    "inside"
   ]
  },
  {
   "cell_type": "code",
   "execution_count": 63,
   "metadata": {
    "ExecuteTime": {
     "end_time": "2021-11-15T03:36:08.034773Z",
     "start_time": "2021-11-15T03:36:08.014830Z"
    }
   },
   "outputs": [
    {
     "data": {
      "text/plain": [
       "[('Jakarta', 1),\n",
       " ('Jakarta', 2),\n",
       " ('Jakarta', 3),\n",
       " ('Surabaya', 1),\n",
       " ('Surabaya', 2),\n",
       " ('Surabaya', 3)]"
      ]
     },
     "execution_count": 63,
     "metadata": {},
     "output_type": "execute_result"
    }
   ],
   "source": [
    "hier_index=list(zip(outside,inside)) # dipasangkan dengan zip\n",
    "hier_index"
   ]
  },
  {
   "cell_type": "code",
   "execution_count": 64,
   "metadata": {
    "ExecuteTime": {
     "end_time": "2021-11-15T03:36:50.685380Z",
     "start_time": "2021-11-15T03:36:50.677405Z"
    }
   },
   "outputs": [
    {
     "data": {
      "text/plain": [
       "MultiIndex([( 'Jakarta', 1),\n",
       "            ( 'Jakarta', 2),\n",
       "            ( 'Jakarta', 3),\n",
       "            ('Surabaya', 1),\n",
       "            ('Surabaya', 2),\n",
       "            ('Surabaya', 3)],\n",
       "           )"
      ]
     },
     "execution_count": 64,
     "metadata": {},
     "output_type": "execute_result"
    }
   ],
   "source": [
    "hier_index= pd.MultiIndex.from_tuples(hier_index) # ubah data tipe menjadi multi index\n",
    "# from tuples karena hasil zip berupa tuple\n",
    "hier_index"
   ]
  },
  {
   "cell_type": "code",
   "execution_count": 66,
   "metadata": {
    "ExecuteTime": {
     "end_time": "2021-11-15T03:40:18.395107Z",
     "start_time": "2021-11-15T03:40:18.373151Z"
    }
   },
   "outputs": [
    {
     "data": {
      "text/html": [
       "<div>\n",
       "<style scoped>\n",
       "    .dataframe tbody tr th:only-of-type {\n",
       "        vertical-align: middle;\n",
       "    }\n",
       "\n",
       "    .dataframe tbody tr th {\n",
       "        vertical-align: top;\n",
       "    }\n",
       "\n",
       "    .dataframe thead th {\n",
       "        text-align: right;\n",
       "    }\n",
       "</style>\n",
       "<table border=\"1\" class=\"dataframe\">\n",
       "  <thead>\n",
       "    <tr style=\"text-align: right;\">\n",
       "      <th></th>\n",
       "      <th></th>\n",
       "      <th>Smartphone</th>\n",
       "      <th>PC</th>\n",
       "    </tr>\n",
       "  </thead>\n",
       "  <tbody>\n",
       "    <tr>\n",
       "      <th rowspan=\"3\" valign=\"top\">Jakarta</th>\n",
       "      <th>1</th>\n",
       "      <td>34</td>\n",
       "      <td>23</td>\n",
       "    </tr>\n",
       "    <tr>\n",
       "      <th>2</th>\n",
       "      <td>37</td>\n",
       "      <td>83</td>\n",
       "    </tr>\n",
       "    <tr>\n",
       "      <th>3</th>\n",
       "      <td>42</td>\n",
       "      <td>53</td>\n",
       "    </tr>\n",
       "    <tr>\n",
       "      <th rowspan=\"3\" valign=\"top\">Surabaya</th>\n",
       "      <th>1</th>\n",
       "      <td>10</td>\n",
       "      <td>55</td>\n",
       "    </tr>\n",
       "    <tr>\n",
       "      <th>2</th>\n",
       "      <td>35</td>\n",
       "      <td>8</td>\n",
       "    </tr>\n",
       "    <tr>\n",
       "      <th>3</th>\n",
       "      <td>33</td>\n",
       "      <td>55</td>\n",
       "    </tr>\n",
       "  </tbody>\n",
       "</table>\n",
       "</div>"
      ],
      "text/plain": [
       "            Smartphone  PC\n",
       "Jakarta  1          34  23\n",
       "         2          37  83\n",
       "         3          42  53\n",
       "Surabaya 1          10  55\n",
       "         2          35   8\n",
       "         3          33  55"
      ]
     },
     "execution_count": 66,
     "metadata": {},
     "output_type": "execute_result"
    }
   ],
   "source": [
    "df_multi=pd.DataFrame(np.random.randint(1,100,12).reshape(6,2), index=hier_index,columns=['Smartphone','PC']) \n",
    "# tabel penjualan smartphone vs pc di toko-toko di jakarta dan surabaya\n",
    "df_multi"
   ]
  },
  {
   "cell_type": "code",
   "execution_count": 67,
   "metadata": {
    "ExecuteTime": {
     "end_time": "2021-11-15T03:42:34.654770Z",
     "start_time": "2021-11-15T03:42:34.633810Z"
    }
   },
   "outputs": [
    {
     "data": {
      "text/html": [
       "<div>\n",
       "<style scoped>\n",
       "    .dataframe tbody tr th:only-of-type {\n",
       "        vertical-align: middle;\n",
       "    }\n",
       "\n",
       "    .dataframe tbody tr th {\n",
       "        vertical-align: top;\n",
       "    }\n",
       "\n",
       "    .dataframe thead th {\n",
       "        text-align: right;\n",
       "    }\n",
       "</style>\n",
       "<table border=\"1\" class=\"dataframe\">\n",
       "  <thead>\n",
       "    <tr style=\"text-align: right;\">\n",
       "      <th></th>\n",
       "      <th>Smartphone</th>\n",
       "      <th>PC</th>\n",
       "    </tr>\n",
       "  </thead>\n",
       "  <tbody>\n",
       "    <tr>\n",
       "      <th>1</th>\n",
       "      <td>34</td>\n",
       "      <td>23</td>\n",
       "    </tr>\n",
       "    <tr>\n",
       "      <th>2</th>\n",
       "      <td>37</td>\n",
       "      <td>83</td>\n",
       "    </tr>\n",
       "    <tr>\n",
       "      <th>3</th>\n",
       "      <td>42</td>\n",
       "      <td>53</td>\n",
       "    </tr>\n",
       "  </tbody>\n",
       "</table>\n",
       "</div>"
      ],
      "text/plain": [
       "   Smartphone  PC\n",
       "1          34  23\n",
       "2          37  83\n",
       "3          42  53"
      ]
     },
     "execution_count": 67,
     "metadata": {},
     "output_type": "execute_result"
    }
   ],
   "source": [
    "df_multi.loc['Jakarta']\n",
    "# MultiIndex memudahkan kita mencari data dalam kelompok tertentu\n",
    "# menampilkan data penjualan di seluruh toko di Jakarta"
   ]
  },
  {
   "cell_type": "code",
   "execution_count": 68,
   "metadata": {
    "ExecuteTime": {
     "end_time": "2021-11-15T03:44:06.265807Z",
     "start_time": "2021-11-15T03:44:06.251844Z"
    }
   },
   "outputs": [
    {
     "data": {
      "text/plain": [
       "Smartphone    37\n",
       "PC            83\n",
       "Name: 2, dtype: int32"
      ]
     },
     "execution_count": 68,
     "metadata": {},
     "output_type": "execute_result"
    }
   ],
   "source": [
    "df_multi.loc['Jakarta'].loc[2] #menampilkan data penjualan toko 2 di jakarta"
   ]
  },
  {
   "cell_type": "code",
   "execution_count": 69,
   "metadata": {
    "ExecuteTime": {
     "end_time": "2021-11-15T03:46:21.606219Z",
     "start_time": "2021-11-15T03:46:21.589236Z"
    }
   },
   "outputs": [
    {
     "data": {
      "text/plain": [
       "Smartphone    37\n",
       "PC            83\n",
       "Name: (Jakarta, 2), dtype: int32"
      ]
     },
     "execution_count": 69,
     "metadata": {},
     "output_type": "execute_result"
    }
   ],
   "source": [
    "df_multi.xs(['Jakarta',2]) # function xs dipakai untuk melakukan indexing pada multi index\n",
    "#bisa dipakai menggantikan double loc\n",
    "# menampilkan data penjualan toko 2 di jakarta"
   ]
  },
  {
   "cell_type": "code",
   "execution_count": 71,
   "metadata": {
    "ExecuteTime": {
     "end_time": "2021-11-15T03:48:19.261606Z",
     "start_time": "2021-11-15T03:48:19.255654Z"
    }
   },
   "outputs": [
    {
     "data": {
      "text/plain": [
       "FrozenList([None, None])"
      ]
     },
     "execution_count": 71,
     "metadata": {},
     "output_type": "execute_result"
    }
   ],
   "source": [
    "df_multi.index.names # mengecek nama index di df_multi\n",
    "# belum ada nama"
   ]
  },
  {
   "cell_type": "code",
   "execution_count": 72,
   "metadata": {
    "ExecuteTime": {
     "end_time": "2021-11-15T03:48:56.598205Z",
     "start_time": "2021-11-15T03:48:56.583244Z"
    }
   },
   "outputs": [
    {
     "data": {
      "text/html": [
       "<div>\n",
       "<style scoped>\n",
       "    .dataframe tbody tr th:only-of-type {\n",
       "        vertical-align: middle;\n",
       "    }\n",
       "\n",
       "    .dataframe tbody tr th {\n",
       "        vertical-align: top;\n",
       "    }\n",
       "\n",
       "    .dataframe thead th {\n",
       "        text-align: right;\n",
       "    }\n",
       "</style>\n",
       "<table border=\"1\" class=\"dataframe\">\n",
       "  <thead>\n",
       "    <tr style=\"text-align: right;\">\n",
       "      <th></th>\n",
       "      <th></th>\n",
       "      <th>Smartphone</th>\n",
       "      <th>PC</th>\n",
       "    </tr>\n",
       "    <tr>\n",
       "      <th>Kota</th>\n",
       "      <th>Lokasi</th>\n",
       "      <th></th>\n",
       "      <th></th>\n",
       "    </tr>\n",
       "  </thead>\n",
       "  <tbody>\n",
       "    <tr>\n",
       "      <th rowspan=\"3\" valign=\"top\">Jakarta</th>\n",
       "      <th>1</th>\n",
       "      <td>34</td>\n",
       "      <td>23</td>\n",
       "    </tr>\n",
       "    <tr>\n",
       "      <th>2</th>\n",
       "      <td>37</td>\n",
       "      <td>83</td>\n",
       "    </tr>\n",
       "    <tr>\n",
       "      <th>3</th>\n",
       "      <td>42</td>\n",
       "      <td>53</td>\n",
       "    </tr>\n",
       "    <tr>\n",
       "      <th rowspan=\"3\" valign=\"top\">Surabaya</th>\n",
       "      <th>1</th>\n",
       "      <td>10</td>\n",
       "      <td>55</td>\n",
       "    </tr>\n",
       "    <tr>\n",
       "      <th>2</th>\n",
       "      <td>35</td>\n",
       "      <td>8</td>\n",
       "    </tr>\n",
       "    <tr>\n",
       "      <th>3</th>\n",
       "      <td>33</td>\n",
       "      <td>55</td>\n",
       "    </tr>\n",
       "  </tbody>\n",
       "</table>\n",
       "</div>"
      ],
      "text/plain": [
       "                 Smartphone  PC\n",
       "Kota     Lokasi                \n",
       "Jakarta  1               34  23\n",
       "         2               37  83\n",
       "         3               42  53\n",
       "Surabaya 1               10  55\n",
       "         2               35   8\n",
       "         3               33  55"
      ]
     },
     "execution_count": 72,
     "metadata": {},
     "output_type": "execute_result"
    }
   ],
   "source": [
    "df_multi.index.names=['Kota','Lokasi'] # assign nama kota untuk index luar dan lokasi untuk index dalam\n",
    "df_multi"
   ]
  },
  {
   "cell_type": "code",
   "execution_count": 73,
   "metadata": {
    "ExecuteTime": {
     "end_time": "2021-11-15T03:50:13.822760Z",
     "start_time": "2021-11-15T03:50:13.809786Z"
    }
   },
   "outputs": [
    {
     "data": {
      "text/html": [
       "<div>\n",
       "<style scoped>\n",
       "    .dataframe tbody tr th:only-of-type {\n",
       "        vertical-align: middle;\n",
       "    }\n",
       "\n",
       "    .dataframe tbody tr th {\n",
       "        vertical-align: top;\n",
       "    }\n",
       "\n",
       "    .dataframe thead th {\n",
       "        text-align: right;\n",
       "    }\n",
       "</style>\n",
       "<table border=\"1\" class=\"dataframe\">\n",
       "  <thead>\n",
       "    <tr style=\"text-align: right;\">\n",
       "      <th></th>\n",
       "      <th>Smartphone</th>\n",
       "      <th>PC</th>\n",
       "    </tr>\n",
       "    <tr>\n",
       "      <th>Kota</th>\n",
       "      <th></th>\n",
       "      <th></th>\n",
       "    </tr>\n",
       "  </thead>\n",
       "  <tbody>\n",
       "    <tr>\n",
       "      <th>Jakarta</th>\n",
       "      <td>34</td>\n",
       "      <td>23</td>\n",
       "    </tr>\n",
       "    <tr>\n",
       "      <th>Surabaya</th>\n",
       "      <td>10</td>\n",
       "      <td>55</td>\n",
       "    </tr>\n",
       "  </tbody>\n",
       "</table>\n",
       "</div>"
      ],
      "text/plain": [
       "          Smartphone  PC\n",
       "Kota                    \n",
       "Jakarta           34  23\n",
       "Surabaya          10  55"
      ]
     },
     "execution_count": 73,
     "metadata": {},
     "output_type": "execute_result"
    }
   ],
   "source": [
    "df_multi.xs(1,level='Lokasi') # mengakses data toko lokasi 1 baik di jakarta maupun surabaya\n",
    "# .xs bisa dipakai untuk mengakses data multi index menggunakan nama index"
   ]
  },
  {
   "cell_type": "markdown",
   "metadata": {
    "ExecuteTime": {
     "end_time": "2021-11-15T03:52:28.674408Z",
     "start_time": "2021-11-15T03:52:28.657452Z"
    }
   },
   "source": [
    "**latihan**\n",
    "\n",
    "coba buat dataframe berikut, simpan di variabel df_multi2"
   ]
  },
  {
   "cell_type": "code",
   "execution_count": 78,
   "metadata": {
    "ExecuteTime": {
     "end_time": "2021-11-15T04:11:00.553228Z",
     "start_time": "2021-11-15T04:11:00.545249Z"
    }
   },
   "outputs": [
    {
     "data": {
      "text/plain": [
       "MultiIndex([(    'Jawa',   'Jakarta'),\n",
       "            (    'Jawa',   'Bandung'),\n",
       "            (    'Jawa',  'Surabaya'),\n",
       "            ('Sumatera',     'Medan'),\n",
       "            ('Sumatera',    'Padang'),\n",
       "            ('Sumatera', 'Palembang'),\n",
       "            ('Sulawesi',    'Manado'),\n",
       "            ('Sulawesi',      'Palu'),\n",
       "            ('Sulawesi',  'Makassar')],\n",
       "           )"
      ]
     },
     "execution_count": 78,
     "metadata": {},
     "output_type": "execute_result"
    }
   ],
   "source": [
    "outside='Jawa Jawa Jawa Sumatera Sumatera Sumatera Sulawesi Sulawesi Sulawesi'.split()\n",
    "inside=['Jakarta','Bandung','Surabaya','Medan','Padang','Palembang','Manado','Palu','Makassar']\n",
    "hier_index2=list(zip(outside,inside))\n",
    "hier_index2=pd.MultiIndex.from_tuples(hier_index2)\n",
    "hier_index2"
   ]
  },
  {
   "cell_type": "code",
   "execution_count": 81,
   "metadata": {
    "ExecuteTime": {
     "end_time": "2021-11-15T04:13:15.295822Z",
     "start_time": "2021-11-15T04:13:15.270889Z"
    }
   },
   "outputs": [
    {
     "data": {
      "text/html": [
       "<div>\n",
       "<style scoped>\n",
       "    .dataframe tbody tr th:only-of-type {\n",
       "        vertical-align: middle;\n",
       "    }\n",
       "\n",
       "    .dataframe tbody tr th {\n",
       "        vertical-align: top;\n",
       "    }\n",
       "\n",
       "    .dataframe thead th {\n",
       "        text-align: right;\n",
       "    }\n",
       "</style>\n",
       "<table border=\"1\" class=\"dataframe\">\n",
       "  <thead>\n",
       "    <tr style=\"text-align: right;\">\n",
       "      <th></th>\n",
       "      <th></th>\n",
       "      <th>Manager</th>\n",
       "      <th>Total Produksi</th>\n",
       "      <th>Jumlah Karyawan</th>\n",
       "    </tr>\n",
       "  </thead>\n",
       "  <tbody>\n",
       "    <tr>\n",
       "      <th rowspan=\"3\" valign=\"top\">Jawa</th>\n",
       "      <th>Jakarta</th>\n",
       "      <td>Andi Susetyo</td>\n",
       "      <td>15</td>\n",
       "      <td>20</td>\n",
       "    </tr>\n",
       "    <tr>\n",
       "      <th>Bandung</th>\n",
       "      <td>Budi Budiawan</td>\n",
       "      <td>12</td>\n",
       "      <td>15</td>\n",
       "    </tr>\n",
       "    <tr>\n",
       "      <th>Surabaya</th>\n",
       "      <td>Cecep Maricep</td>\n",
       "      <td>12</td>\n",
       "      <td>12</td>\n",
       "    </tr>\n",
       "    <tr>\n",
       "      <th rowspan=\"3\" valign=\"top\">Sumatera</th>\n",
       "      <th>Medan</th>\n",
       "      <td>Diana Wijaya</td>\n",
       "      <td>13</td>\n",
       "      <td>14</td>\n",
       "    </tr>\n",
       "    <tr>\n",
       "      <th>Padang</th>\n",
       "      <td>Eddy Susanto</td>\n",
       "      <td>16</td>\n",
       "      <td>18</td>\n",
       "    </tr>\n",
       "    <tr>\n",
       "      <th>Palembang</th>\n",
       "      <td>Franky Sujaya</td>\n",
       "      <td>18</td>\n",
       "      <td>14</td>\n",
       "    </tr>\n",
       "    <tr>\n",
       "      <th rowspan=\"3\" valign=\"top\">Sulawesi</th>\n",
       "      <th>Manado</th>\n",
       "      <td>Galih Diantara</td>\n",
       "      <td>20</td>\n",
       "      <td>25</td>\n",
       "    </tr>\n",
       "    <tr>\n",
       "      <th>Palu</th>\n",
       "      <td>Hans Leman</td>\n",
       "      <td>11</td>\n",
       "      <td>12</td>\n",
       "    </tr>\n",
       "    <tr>\n",
       "      <th>Makassar</th>\n",
       "      <td>Ingrid Mahesa</td>\n",
       "      <td>14</td>\n",
       "      <td>13</td>\n",
       "    </tr>\n",
       "  </tbody>\n",
       "</table>\n",
       "</div>"
      ],
      "text/plain": [
       "                           Manager  Total Produksi  Jumlah Karyawan\n",
       "Jawa     Jakarta      Andi Susetyo              15               20\n",
       "         Bandung     Budi Budiawan              12               15\n",
       "         Surabaya    Cecep Maricep              12               12\n",
       "Sumatera Medan        Diana Wijaya              13               14\n",
       "         Padang       Eddy Susanto              16               18\n",
       "         Palembang   Franky Sujaya              18               14\n",
       "Sulawesi Manado     Galih Diantara              20               25\n",
       "         Palu           Hans Leman              11               12\n",
       "         Makassar    Ingrid Mahesa              14               13"
      ]
     },
     "execution_count": 81,
     "metadata": {},
     "output_type": "execute_result"
    }
   ],
   "source": [
    "df_multi2=pd.DataFrame(\n",
    "    {\n",
    "        'Manager':['Andi Susetyo','Budi Budiawan','Cecep Maricep','Diana Wijaya','Eddy Susanto','Franky Sujaya','Galih Diantara','Hans Leman','Ingrid Mahesa'],\n",
    "        'Total Produksi':[15,12,12,13,16,18,20,11,14],\n",
    "        'Jumlah Karyawan':[20,15,12,14,18,14,25,12,13]\n",
    "    },\n",
    "    index=hier_index2\n",
    ")\n",
    "df_multi2\n"
   ]
  },
  {
   "cell_type": "code",
   "execution_count": 80,
   "metadata": {
    "ExecuteTime": {
     "end_time": "2021-11-15T04:12:34.200109Z",
     "start_time": "2021-11-15T04:12:34.178161Z"
    }
   },
   "outputs": [
    {
     "data": {
      "text/html": [
       "<div>\n",
       "<style scoped>\n",
       "    .dataframe tbody tr th:only-of-type {\n",
       "        vertical-align: middle;\n",
       "    }\n",
       "\n",
       "    .dataframe tbody tr th {\n",
       "        vertical-align: top;\n",
       "    }\n",
       "\n",
       "    .dataframe thead tr th {\n",
       "        text-align: left;\n",
       "    }\n",
       "</style>\n",
       "<table border=\"1\" class=\"dataframe\">\n",
       "  <thead>\n",
       "    <tr>\n",
       "      <th></th>\n",
       "      <th colspan=\"3\" halign=\"left\">Jawa</th>\n",
       "      <th colspan=\"3\" halign=\"left\">Sumatera</th>\n",
       "      <th colspan=\"3\" halign=\"left\">Sulawesi</th>\n",
       "    </tr>\n",
       "    <tr>\n",
       "      <th></th>\n",
       "      <th>Jakarta</th>\n",
       "      <th>Bandung</th>\n",
       "      <th>Surabaya</th>\n",
       "      <th>Medan</th>\n",
       "      <th>Padang</th>\n",
       "      <th>Palembang</th>\n",
       "      <th>Manado</th>\n",
       "      <th>Palu</th>\n",
       "      <th>Makassar</th>\n",
       "    </tr>\n",
       "  </thead>\n",
       "  <tbody>\n",
       "    <tr>\n",
       "      <th>0</th>\n",
       "      <td>0</td>\n",
       "      <td>1</td>\n",
       "      <td>2</td>\n",
       "      <td>3</td>\n",
       "      <td>4</td>\n",
       "      <td>5</td>\n",
       "      <td>6</td>\n",
       "      <td>7</td>\n",
       "      <td>8</td>\n",
       "    </tr>\n",
       "    <tr>\n",
       "      <th>1</th>\n",
       "      <td>9</td>\n",
       "      <td>10</td>\n",
       "      <td>11</td>\n",
       "      <td>12</td>\n",
       "      <td>13</td>\n",
       "      <td>14</td>\n",
       "      <td>15</td>\n",
       "      <td>16</td>\n",
       "      <td>17</td>\n",
       "    </tr>\n",
       "    <tr>\n",
       "      <th>2</th>\n",
       "      <td>18</td>\n",
       "      <td>19</td>\n",
       "      <td>20</td>\n",
       "      <td>21</td>\n",
       "      <td>22</td>\n",
       "      <td>23</td>\n",
       "      <td>24</td>\n",
       "      <td>25</td>\n",
       "      <td>26</td>\n",
       "    </tr>\n",
       "  </tbody>\n",
       "</table>\n",
       "</div>"
      ],
      "text/plain": [
       "     Jawa                  Sumatera                  Sulawesi              \n",
       "  Jakarta Bandung Surabaya    Medan Padang Palembang   Manado Palu Makassar\n",
       "0       0       1        2        3      4         5        6    7        8\n",
       "1       9      10       11       12     13        14       15   16       17\n",
       "2      18      19       20       21     22        23       24   25       26"
      ]
     },
     "execution_count": 80,
     "metadata": {},
     "output_type": "execute_result"
    }
   ],
   "source": [
    "pd.DataFrame(np.arange(27).reshape(3,9),columns=hier_index2) # multi index juga bisa di kolom"
   ]
  },
  {
   "cell_type": "code",
   "execution_count": 82,
   "metadata": {
    "ExecuteTime": {
     "end_time": "2021-11-15T04:14:12.340722Z",
     "start_time": "2021-11-15T04:14:12.325039Z"
    }
   },
   "outputs": [
    {
     "data": {
      "text/html": [
       "<div>\n",
       "<style scoped>\n",
       "    .dataframe tbody tr th:only-of-type {\n",
       "        vertical-align: middle;\n",
       "    }\n",
       "\n",
       "    .dataframe tbody tr th {\n",
       "        vertical-align: top;\n",
       "    }\n",
       "\n",
       "    .dataframe thead th {\n",
       "        text-align: right;\n",
       "    }\n",
       "</style>\n",
       "<table border=\"1\" class=\"dataframe\">\n",
       "  <thead>\n",
       "    <tr style=\"text-align: right;\">\n",
       "      <th></th>\n",
       "      <th></th>\n",
       "      <th>Manager</th>\n",
       "      <th>Total Produksi</th>\n",
       "      <th>Jumlah Karyawan</th>\n",
       "    </tr>\n",
       "  </thead>\n",
       "  <tbody>\n",
       "    <tr>\n",
       "      <th rowspan=\"3\" valign=\"top\">Jawa</th>\n",
       "      <th>Jakarta</th>\n",
       "      <td>Andi Susetyo</td>\n",
       "      <td>15</td>\n",
       "      <td>20</td>\n",
       "    </tr>\n",
       "    <tr>\n",
       "      <th>Bandung</th>\n",
       "      <td>Budi Budiawan</td>\n",
       "      <td>12</td>\n",
       "      <td>15</td>\n",
       "    </tr>\n",
       "    <tr>\n",
       "      <th>Surabaya</th>\n",
       "      <td>Cecep Maricep</td>\n",
       "      <td>12</td>\n",
       "      <td>12</td>\n",
       "    </tr>\n",
       "    <tr>\n",
       "      <th rowspan=\"3\" valign=\"top\">Sumatera</th>\n",
       "      <th>Medan</th>\n",
       "      <td>Diana Wijaya</td>\n",
       "      <td>13</td>\n",
       "      <td>14</td>\n",
       "    </tr>\n",
       "    <tr>\n",
       "      <th>Padang</th>\n",
       "      <td>Eddy Susanto</td>\n",
       "      <td>16</td>\n",
       "      <td>18</td>\n",
       "    </tr>\n",
       "    <tr>\n",
       "      <th>Palembang</th>\n",
       "      <td>Franky Sujaya</td>\n",
       "      <td>18</td>\n",
       "      <td>14</td>\n",
       "    </tr>\n",
       "    <tr>\n",
       "      <th rowspan=\"3\" valign=\"top\">Sulawesi</th>\n",
       "      <th>Manado</th>\n",
       "      <td>Galih Diantara</td>\n",
       "      <td>20</td>\n",
       "      <td>25</td>\n",
       "    </tr>\n",
       "    <tr>\n",
       "      <th>Palu</th>\n",
       "      <td>Hans Leman</td>\n",
       "      <td>11</td>\n",
       "      <td>12</td>\n",
       "    </tr>\n",
       "    <tr>\n",
       "      <th>Makassar</th>\n",
       "      <td>Ingrid Mahesa</td>\n",
       "      <td>14</td>\n",
       "      <td>13</td>\n",
       "    </tr>\n",
       "  </tbody>\n",
       "</table>\n",
       "</div>"
      ],
      "text/plain": [
       "                           Manager  Total Produksi  Jumlah Karyawan\n",
       "Jawa     Jakarta      Andi Susetyo              15               20\n",
       "         Bandung     Budi Budiawan              12               15\n",
       "         Surabaya    Cecep Maricep              12               12\n",
       "Sumatera Medan        Diana Wijaya              13               14\n",
       "         Padang       Eddy Susanto              16               18\n",
       "         Palembang   Franky Sujaya              18               14\n",
       "Sulawesi Manado     Galih Diantara              20               25\n",
       "         Palu           Hans Leman              11               12\n",
       "         Makassar    Ingrid Mahesa              14               13"
      ]
     },
     "execution_count": 82,
     "metadata": {},
     "output_type": "execute_result"
    }
   ],
   "source": [
    "df_multi2"
   ]
  },
  {
   "cell_type": "code",
   "execution_count": 86,
   "metadata": {
    "ExecuteTime": {
     "end_time": "2021-11-15T04:18:01.466906Z",
     "start_time": "2021-11-15T04:18:01.452929Z"
    }
   },
   "outputs": [
    {
     "data": {
      "text/plain": [
       "Manager            Franky Sujaya\n",
       "Total Produksi                18\n",
       "Jumlah Karyawan               14\n",
       "Name: Palembang, dtype: object"
      ]
     },
     "execution_count": 86,
     "metadata": {},
     "output_type": "execute_result"
    }
   ],
   "source": [
    "# data dari kota palembang\n",
    "df_multi2.loc['Sumatera'].loc['Palembang']"
   ]
  },
  {
   "cell_type": "code",
   "execution_count": 87,
   "metadata": {
    "ExecuteTime": {
     "end_time": "2021-11-15T04:18:15.650660Z",
     "start_time": "2021-11-15T04:18:15.641686Z"
    }
   },
   "outputs": [
    {
     "data": {
      "text/plain": [
       "Manager            Franky Sujaya\n",
       "Total Produksi                18\n",
       "Jumlah Karyawan               14\n",
       "Name: (Sumatera, Palembang), dtype: object"
      ]
     },
     "execution_count": 87,
     "metadata": {},
     "output_type": "execute_result"
    }
   ],
   "source": [
    "df_multi2.xs(['Sumatera','Palembang'])"
   ]
  },
  {
   "cell_type": "code",
   "execution_count": null,
   "metadata": {
    "ExecuteTime": {
     "end_time": "2021-11-15T04:20:24.614284Z",
     "start_time": "2021-11-15T04:20:24.602346Z"
    }
   },
   "outputs": [],
   "source": []
  },
  {
   "cell_type": "code",
   "execution_count": 89,
   "metadata": {
    "ExecuteTime": {
     "end_time": "2021-11-15T04:21:41.705432Z",
     "start_time": "2021-11-15T04:21:41.686482Z"
    }
   },
   "outputs": [],
   "source": [
    "df_multi2['penjualan']=[1000,200,3000,12000,8000,5000,7000,2500,9000]"
   ]
  },
  {
   "cell_type": "code",
   "execution_count": 90,
   "metadata": {
    "ExecuteTime": {
     "end_time": "2021-11-15T04:21:44.403953Z",
     "start_time": "2021-11-15T04:21:44.381012Z"
    }
   },
   "outputs": [
    {
     "data": {
      "text/html": [
       "<div>\n",
       "<style scoped>\n",
       "    .dataframe tbody tr th:only-of-type {\n",
       "        vertical-align: middle;\n",
       "    }\n",
       "\n",
       "    .dataframe tbody tr th {\n",
       "        vertical-align: top;\n",
       "    }\n",
       "\n",
       "    .dataframe thead th {\n",
       "        text-align: right;\n",
       "    }\n",
       "</style>\n",
       "<table border=\"1\" class=\"dataframe\">\n",
       "  <thead>\n",
       "    <tr style=\"text-align: right;\">\n",
       "      <th></th>\n",
       "      <th></th>\n",
       "      <th>Manager</th>\n",
       "      <th>Total Produksi</th>\n",
       "      <th>Jumlah Karyawan</th>\n",
       "      <th>penjualan</th>\n",
       "    </tr>\n",
       "  </thead>\n",
       "  <tbody>\n",
       "    <tr>\n",
       "      <th rowspan=\"3\" valign=\"top\">Jawa</th>\n",
       "      <th>Jakarta</th>\n",
       "      <td>Andi Susetyo</td>\n",
       "      <td>15</td>\n",
       "      <td>20</td>\n",
       "      <td>1000</td>\n",
       "    </tr>\n",
       "    <tr>\n",
       "      <th>Bandung</th>\n",
       "      <td>Budi Budiawan</td>\n",
       "      <td>12</td>\n",
       "      <td>15</td>\n",
       "      <td>200</td>\n",
       "    </tr>\n",
       "    <tr>\n",
       "      <th>Surabaya</th>\n",
       "      <td>Cecep Maricep</td>\n",
       "      <td>12</td>\n",
       "      <td>12</td>\n",
       "      <td>3000</td>\n",
       "    </tr>\n",
       "    <tr>\n",
       "      <th rowspan=\"3\" valign=\"top\">Sumatera</th>\n",
       "      <th>Medan</th>\n",
       "      <td>Diana Wijaya</td>\n",
       "      <td>13</td>\n",
       "      <td>14</td>\n",
       "      <td>12000</td>\n",
       "    </tr>\n",
       "    <tr>\n",
       "      <th>Padang</th>\n",
       "      <td>Eddy Susanto</td>\n",
       "      <td>16</td>\n",
       "      <td>18</td>\n",
       "      <td>8000</td>\n",
       "    </tr>\n",
       "    <tr>\n",
       "      <th>Palembang</th>\n",
       "      <td>Franky Sujaya</td>\n",
       "      <td>18</td>\n",
       "      <td>14</td>\n",
       "      <td>5000</td>\n",
       "    </tr>\n",
       "    <tr>\n",
       "      <th rowspan=\"3\" valign=\"top\">Sulawesi</th>\n",
       "      <th>Manado</th>\n",
       "      <td>Galih Diantara</td>\n",
       "      <td>20</td>\n",
       "      <td>25</td>\n",
       "      <td>7000</td>\n",
       "    </tr>\n",
       "    <tr>\n",
       "      <th>Palu</th>\n",
       "      <td>Hans Leman</td>\n",
       "      <td>11</td>\n",
       "      <td>12</td>\n",
       "      <td>2500</td>\n",
       "    </tr>\n",
       "    <tr>\n",
       "      <th>Makassar</th>\n",
       "      <td>Ingrid Mahesa</td>\n",
       "      <td>14</td>\n",
       "      <td>13</td>\n",
       "      <td>9000</td>\n",
       "    </tr>\n",
       "  </tbody>\n",
       "</table>\n",
       "</div>"
      ],
      "text/plain": [
       "                           Manager  Total Produksi  Jumlah Karyawan  penjualan\n",
       "Jawa     Jakarta      Andi Susetyo              15               20       1000\n",
       "         Bandung     Budi Budiawan              12               15        200\n",
       "         Surabaya    Cecep Maricep              12               12       3000\n",
       "Sumatera Medan        Diana Wijaya              13               14      12000\n",
       "         Padang       Eddy Susanto              16               18       8000\n",
       "         Palembang   Franky Sujaya              18               14       5000\n",
       "Sulawesi Manado     Galih Diantara              20               25       7000\n",
       "         Palu           Hans Leman              11               12       2500\n",
       "         Makassar    Ingrid Mahesa              14               13       9000"
      ]
     },
     "execution_count": 90,
     "metadata": {},
     "output_type": "execute_result"
    }
   ],
   "source": [
    "df_multi2"
   ]
  },
  {
   "cell_type": "code",
   "execution_count": 91,
   "metadata": {
    "ExecuteTime": {
     "end_time": "2021-11-15T04:23:03.318540Z",
     "start_time": "2021-11-15T04:23:03.297630Z"
    }
   },
   "outputs": [
    {
     "data": {
      "text/html": [
       "<div>\n",
       "<style scoped>\n",
       "    .dataframe tbody tr th:only-of-type {\n",
       "        vertical-align: middle;\n",
       "    }\n",
       "\n",
       "    .dataframe tbody tr th {\n",
       "        vertical-align: top;\n",
       "    }\n",
       "\n",
       "    .dataframe thead th {\n",
       "        text-align: right;\n",
       "    }\n",
       "</style>\n",
       "<table border=\"1\" class=\"dataframe\">\n",
       "  <thead>\n",
       "    <tr style=\"text-align: right;\">\n",
       "      <th></th>\n",
       "      <th></th>\n",
       "      <th>Manager</th>\n",
       "      <th>Total Produksi</th>\n",
       "      <th>Jumlah Karyawan</th>\n",
       "      <th>penjualan</th>\n",
       "    </tr>\n",
       "    <tr>\n",
       "      <th>Region</th>\n",
       "      <th>Kota</th>\n",
       "      <th></th>\n",
       "      <th></th>\n",
       "      <th></th>\n",
       "      <th></th>\n",
       "    </tr>\n",
       "  </thead>\n",
       "  <tbody>\n",
       "    <tr>\n",
       "      <th rowspan=\"3\" valign=\"top\">Jawa</th>\n",
       "      <th>Jakarta</th>\n",
       "      <td>Andi Susetyo</td>\n",
       "      <td>15</td>\n",
       "      <td>20</td>\n",
       "      <td>1000</td>\n",
       "    </tr>\n",
       "    <tr>\n",
       "      <th>Bandung</th>\n",
       "      <td>Budi Budiawan</td>\n",
       "      <td>12</td>\n",
       "      <td>15</td>\n",
       "      <td>200</td>\n",
       "    </tr>\n",
       "    <tr>\n",
       "      <th>Surabaya</th>\n",
       "      <td>Cecep Maricep</td>\n",
       "      <td>12</td>\n",
       "      <td>12</td>\n",
       "      <td>3000</td>\n",
       "    </tr>\n",
       "    <tr>\n",
       "      <th rowspan=\"3\" valign=\"top\">Sumatera</th>\n",
       "      <th>Medan</th>\n",
       "      <td>Diana Wijaya</td>\n",
       "      <td>13</td>\n",
       "      <td>14</td>\n",
       "      <td>12000</td>\n",
       "    </tr>\n",
       "    <tr>\n",
       "      <th>Padang</th>\n",
       "      <td>Eddy Susanto</td>\n",
       "      <td>16</td>\n",
       "      <td>18</td>\n",
       "      <td>8000</td>\n",
       "    </tr>\n",
       "    <tr>\n",
       "      <th>Palembang</th>\n",
       "      <td>Franky Sujaya</td>\n",
       "      <td>18</td>\n",
       "      <td>14</td>\n",
       "      <td>5000</td>\n",
       "    </tr>\n",
       "    <tr>\n",
       "      <th rowspan=\"3\" valign=\"top\">Sulawesi</th>\n",
       "      <th>Manado</th>\n",
       "      <td>Galih Diantara</td>\n",
       "      <td>20</td>\n",
       "      <td>25</td>\n",
       "      <td>7000</td>\n",
       "    </tr>\n",
       "    <tr>\n",
       "      <th>Palu</th>\n",
       "      <td>Hans Leman</td>\n",
       "      <td>11</td>\n",
       "      <td>12</td>\n",
       "      <td>2500</td>\n",
       "    </tr>\n",
       "    <tr>\n",
       "      <th>Makassar</th>\n",
       "      <td>Ingrid Mahesa</td>\n",
       "      <td>14</td>\n",
       "      <td>13</td>\n",
       "      <td>9000</td>\n",
       "    </tr>\n",
       "  </tbody>\n",
       "</table>\n",
       "</div>"
      ],
      "text/plain": [
       "                           Manager  Total Produksi  Jumlah Karyawan  penjualan\n",
       "Region   Kota                                                                 \n",
       "Jawa     Jakarta      Andi Susetyo              15               20       1000\n",
       "         Bandung     Budi Budiawan              12               15        200\n",
       "         Surabaya    Cecep Maricep              12               12       3000\n",
       "Sumatera Medan        Diana Wijaya              13               14      12000\n",
       "         Padang       Eddy Susanto              16               18       8000\n",
       "         Palembang   Franky Sujaya              18               14       5000\n",
       "Sulawesi Manado     Galih Diantara              20               25       7000\n",
       "         Palu           Hans Leman              11               12       2500\n",
       "         Makassar    Ingrid Mahesa              14               13       9000"
      ]
     },
     "execution_count": 91,
     "metadata": {},
     "output_type": "execute_result"
    }
   ],
   "source": [
    "df_multi2.index.names=['Region','Kota']\n",
    "df_multi2"
   ]
  },
  {
   "cell_type": "code",
   "execution_count": 93,
   "metadata": {
    "ExecuteTime": {
     "end_time": "2021-11-15T04:25:49.274199Z",
     "start_time": "2021-11-15T04:25:49.258243Z"
    }
   },
   "outputs": [],
   "source": [
    "# region dan kota menajdi kolom\n",
    "df_multi2=df_multi2.reset_index()"
   ]
  },
  {
   "cell_type": "code",
   "execution_count": 95,
   "metadata": {
    "ExecuteTime": {
     "end_time": "2021-11-15T04:25:59.288191Z",
     "start_time": "2021-11-15T04:25:59.264255Z"
    }
   },
   "outputs": [
    {
     "data": {
      "text/html": [
       "<div>\n",
       "<style scoped>\n",
       "    .dataframe tbody tr th:only-of-type {\n",
       "        vertical-align: middle;\n",
       "    }\n",
       "\n",
       "    .dataframe tbody tr th {\n",
       "        vertical-align: top;\n",
       "    }\n",
       "\n",
       "    .dataframe thead th {\n",
       "        text-align: right;\n",
       "    }\n",
       "</style>\n",
       "<table border=\"1\" class=\"dataframe\">\n",
       "  <thead>\n",
       "    <tr style=\"text-align: right;\">\n",
       "      <th></th>\n",
       "      <th>Region</th>\n",
       "      <th>Kota</th>\n",
       "      <th>Manager</th>\n",
       "      <th>Total Produksi</th>\n",
       "      <th>Jumlah Karyawan</th>\n",
       "      <th>penjualan</th>\n",
       "    </tr>\n",
       "  </thead>\n",
       "  <tbody>\n",
       "    <tr>\n",
       "      <th>0</th>\n",
       "      <td>Jawa</td>\n",
       "      <td>Jakarta</td>\n",
       "      <td>Andi Susetyo</td>\n",
       "      <td>15</td>\n",
       "      <td>20</td>\n",
       "      <td>1000</td>\n",
       "    </tr>\n",
       "    <tr>\n",
       "      <th>1</th>\n",
       "      <td>Jawa</td>\n",
       "      <td>Bandung</td>\n",
       "      <td>Budi Budiawan</td>\n",
       "      <td>12</td>\n",
       "      <td>15</td>\n",
       "      <td>200</td>\n",
       "    </tr>\n",
       "    <tr>\n",
       "      <th>2</th>\n",
       "      <td>Jawa</td>\n",
       "      <td>Surabaya</td>\n",
       "      <td>Cecep Maricep</td>\n",
       "      <td>12</td>\n",
       "      <td>12</td>\n",
       "      <td>3000</td>\n",
       "    </tr>\n",
       "    <tr>\n",
       "      <th>3</th>\n",
       "      <td>Sumatera</td>\n",
       "      <td>Medan</td>\n",
       "      <td>Diana Wijaya</td>\n",
       "      <td>13</td>\n",
       "      <td>14</td>\n",
       "      <td>12000</td>\n",
       "    </tr>\n",
       "    <tr>\n",
       "      <th>4</th>\n",
       "      <td>Sumatera</td>\n",
       "      <td>Padang</td>\n",
       "      <td>Eddy Susanto</td>\n",
       "      <td>16</td>\n",
       "      <td>18</td>\n",
       "      <td>8000</td>\n",
       "    </tr>\n",
       "    <tr>\n",
       "      <th>5</th>\n",
       "      <td>Sumatera</td>\n",
       "      <td>Palembang</td>\n",
       "      <td>Franky Sujaya</td>\n",
       "      <td>18</td>\n",
       "      <td>14</td>\n",
       "      <td>5000</td>\n",
       "    </tr>\n",
       "    <tr>\n",
       "      <th>6</th>\n",
       "      <td>Sulawesi</td>\n",
       "      <td>Manado</td>\n",
       "      <td>Galih Diantara</td>\n",
       "      <td>20</td>\n",
       "      <td>25</td>\n",
       "      <td>7000</td>\n",
       "    </tr>\n",
       "    <tr>\n",
       "      <th>7</th>\n",
       "      <td>Sulawesi</td>\n",
       "      <td>Palu</td>\n",
       "      <td>Hans Leman</td>\n",
       "      <td>11</td>\n",
       "      <td>12</td>\n",
       "      <td>2500</td>\n",
       "    </tr>\n",
       "    <tr>\n",
       "      <th>8</th>\n",
       "      <td>Sulawesi</td>\n",
       "      <td>Makassar</td>\n",
       "      <td>Ingrid Mahesa</td>\n",
       "      <td>14</td>\n",
       "      <td>13</td>\n",
       "      <td>9000</td>\n",
       "    </tr>\n",
       "  </tbody>\n",
       "</table>\n",
       "</div>"
      ],
      "text/plain": [
       "     Region       Kota         Manager  Total Produksi  Jumlah Karyawan  \\\n",
       "0      Jawa    Jakarta    Andi Susetyo              15               20   \n",
       "1      Jawa    Bandung   Budi Budiawan              12               15   \n",
       "2      Jawa   Surabaya   Cecep Maricep              12               12   \n",
       "3  Sumatera      Medan    Diana Wijaya              13               14   \n",
       "4  Sumatera     Padang    Eddy Susanto              16               18   \n",
       "5  Sumatera  Palembang   Franky Sujaya              18               14   \n",
       "6  Sulawesi     Manado  Galih Diantara              20               25   \n",
       "7  Sulawesi       Palu      Hans Leman              11               12   \n",
       "8  Sulawesi   Makassar   Ingrid Mahesa              14               13   \n",
       "\n",
       "   penjualan  \n",
       "0       1000  \n",
       "1        200  \n",
       "2       3000  \n",
       "3      12000  \n",
       "4       8000  \n",
       "5       5000  \n",
       "6       7000  \n",
       "7       2500  \n",
       "8       9000  "
      ]
     },
     "execution_count": 95,
     "metadata": {},
     "output_type": "execute_result"
    }
   ],
   "source": [
    "df_multi2"
   ]
  },
  {
   "cell_type": "code",
   "execution_count": 97,
   "metadata": {
    "ExecuteTime": {
     "end_time": "2021-11-15T04:27:26.455718Z",
     "start_time": "2021-11-15T04:27:26.438549Z"
    }
   },
   "outputs": [
    {
     "data": {
      "text/html": [
       "<div>\n",
       "<style scoped>\n",
       "    .dataframe tbody tr th:only-of-type {\n",
       "        vertical-align: middle;\n",
       "    }\n",
       "\n",
       "    .dataframe tbody tr th {\n",
       "        vertical-align: top;\n",
       "    }\n",
       "\n",
       "    .dataframe thead th {\n",
       "        text-align: right;\n",
       "    }\n",
       "</style>\n",
       "<table border=\"1\" class=\"dataframe\">\n",
       "  <thead>\n",
       "    <tr style=\"text-align: right;\">\n",
       "      <th></th>\n",
       "      <th>Kota</th>\n",
       "      <th>Manager</th>\n",
       "      <th>Total Produksi</th>\n",
       "      <th>Jumlah Karyawan</th>\n",
       "      <th>penjualan</th>\n",
       "    </tr>\n",
       "    <tr>\n",
       "      <th>Region</th>\n",
       "      <th></th>\n",
       "      <th></th>\n",
       "      <th></th>\n",
       "      <th></th>\n",
       "      <th></th>\n",
       "    </tr>\n",
       "  </thead>\n",
       "  <tbody>\n",
       "    <tr>\n",
       "      <th>Jawa</th>\n",
       "      <td>Jakarta</td>\n",
       "      <td>Andi Susetyo</td>\n",
       "      <td>15</td>\n",
       "      <td>20</td>\n",
       "      <td>1000</td>\n",
       "    </tr>\n",
       "    <tr>\n",
       "      <th>Jawa</th>\n",
       "      <td>Bandung</td>\n",
       "      <td>Budi Budiawan</td>\n",
       "      <td>12</td>\n",
       "      <td>15</td>\n",
       "      <td>200</td>\n",
       "    </tr>\n",
       "    <tr>\n",
       "      <th>Jawa</th>\n",
       "      <td>Surabaya</td>\n",
       "      <td>Cecep Maricep</td>\n",
       "      <td>12</td>\n",
       "      <td>12</td>\n",
       "      <td>3000</td>\n",
       "    </tr>\n",
       "    <tr>\n",
       "      <th>Sumatera</th>\n",
       "      <td>Medan</td>\n",
       "      <td>Diana Wijaya</td>\n",
       "      <td>13</td>\n",
       "      <td>14</td>\n",
       "      <td>12000</td>\n",
       "    </tr>\n",
       "    <tr>\n",
       "      <th>Sumatera</th>\n",
       "      <td>Padang</td>\n",
       "      <td>Eddy Susanto</td>\n",
       "      <td>16</td>\n",
       "      <td>18</td>\n",
       "      <td>8000</td>\n",
       "    </tr>\n",
       "    <tr>\n",
       "      <th>Sumatera</th>\n",
       "      <td>Palembang</td>\n",
       "      <td>Franky Sujaya</td>\n",
       "      <td>18</td>\n",
       "      <td>14</td>\n",
       "      <td>5000</td>\n",
       "    </tr>\n",
       "    <tr>\n",
       "      <th>Sulawesi</th>\n",
       "      <td>Manado</td>\n",
       "      <td>Galih Diantara</td>\n",
       "      <td>20</td>\n",
       "      <td>25</td>\n",
       "      <td>7000</td>\n",
       "    </tr>\n",
       "    <tr>\n",
       "      <th>Sulawesi</th>\n",
       "      <td>Palu</td>\n",
       "      <td>Hans Leman</td>\n",
       "      <td>11</td>\n",
       "      <td>12</td>\n",
       "      <td>2500</td>\n",
       "    </tr>\n",
       "    <tr>\n",
       "      <th>Sulawesi</th>\n",
       "      <td>Makassar</td>\n",
       "      <td>Ingrid Mahesa</td>\n",
       "      <td>14</td>\n",
       "      <td>13</td>\n",
       "      <td>9000</td>\n",
       "    </tr>\n",
       "  </tbody>\n",
       "</table>\n",
       "</div>"
      ],
      "text/plain": [
       "               Kota         Manager  Total Produksi  Jumlah Karyawan  \\\n",
       "Region                                                                 \n",
       "Jawa        Jakarta    Andi Susetyo              15               20   \n",
       "Jawa        Bandung   Budi Budiawan              12               15   \n",
       "Jawa       Surabaya   Cecep Maricep              12               12   \n",
       "Sumatera      Medan    Diana Wijaya              13               14   \n",
       "Sumatera     Padang    Eddy Susanto              16               18   \n",
       "Sumatera  Palembang   Franky Sujaya              18               14   \n",
       "Sulawesi     Manado  Galih Diantara              20               25   \n",
       "Sulawesi       Palu      Hans Leman              11               12   \n",
       "Sulawesi   Makassar   Ingrid Mahesa              14               13   \n",
       "\n",
       "          penjualan  \n",
       "Region               \n",
       "Jawa           1000  \n",
       "Jawa            200  \n",
       "Jawa           3000  \n",
       "Sumatera      12000  \n",
       "Sumatera       8000  \n",
       "Sumatera       5000  \n",
       "Sulawesi       7000  \n",
       "Sulawesi       2500  \n",
       "Sulawesi       9000  "
      ]
     },
     "execution_count": 97,
     "metadata": {},
     "output_type": "execute_result"
    }
   ],
   "source": [
    "df_multi2.set_index('Region',inplace=True)\n",
    "df_multi2"
   ]
  },
  {
   "cell_type": "code",
   "execution_count": 100,
   "metadata": {
    "ExecuteTime": {
     "end_time": "2021-11-15T04:28:43.329511Z",
     "start_time": "2021-11-15T04:28:43.317547Z"
    }
   },
   "outputs": [
    {
     "data": {
      "text/html": [
       "<div>\n",
       "<style scoped>\n",
       "    .dataframe tbody tr th:only-of-type {\n",
       "        vertical-align: middle;\n",
       "    }\n",
       "\n",
       "    .dataframe tbody tr th {\n",
       "        vertical-align: top;\n",
       "    }\n",
       "\n",
       "    .dataframe thead th {\n",
       "        text-align: right;\n",
       "    }\n",
       "</style>\n",
       "<table border=\"1\" class=\"dataframe\">\n",
       "  <thead>\n",
       "    <tr style=\"text-align: right;\">\n",
       "      <th></th>\n",
       "      <th>Kota</th>\n",
       "      <th>Mandor</th>\n",
       "      <th>Total Produksi</th>\n",
       "      <th>Jumlah Karyawan</th>\n",
       "      <th>penjualan</th>\n",
       "    </tr>\n",
       "    <tr>\n",
       "      <th>Region</th>\n",
       "      <th></th>\n",
       "      <th></th>\n",
       "      <th></th>\n",
       "      <th></th>\n",
       "      <th></th>\n",
       "    </tr>\n",
       "  </thead>\n",
       "  <tbody>\n",
       "    <tr>\n",
       "      <th>Jawa</th>\n",
       "      <td>Jakarta</td>\n",
       "      <td>Andi Susetyo</td>\n",
       "      <td>15</td>\n",
       "      <td>20</td>\n",
       "      <td>1000</td>\n",
       "    </tr>\n",
       "    <tr>\n",
       "      <th>Jawa</th>\n",
       "      <td>Bandung</td>\n",
       "      <td>Budi Budiawan</td>\n",
       "      <td>12</td>\n",
       "      <td>15</td>\n",
       "      <td>200</td>\n",
       "    </tr>\n",
       "    <tr>\n",
       "      <th>Jawa</th>\n",
       "      <td>Surabaya</td>\n",
       "      <td>Cecep Maricep</td>\n",
       "      <td>12</td>\n",
       "      <td>12</td>\n",
       "      <td>3000</td>\n",
       "    </tr>\n",
       "    <tr>\n",
       "      <th>Sumatera</th>\n",
       "      <td>Medan</td>\n",
       "      <td>Diana Wijaya</td>\n",
       "      <td>13</td>\n",
       "      <td>14</td>\n",
       "      <td>12000</td>\n",
       "    </tr>\n",
       "    <tr>\n",
       "      <th>Sumatera</th>\n",
       "      <td>Padang</td>\n",
       "      <td>Eddy Susanto</td>\n",
       "      <td>16</td>\n",
       "      <td>18</td>\n",
       "      <td>8000</td>\n",
       "    </tr>\n",
       "    <tr>\n",
       "      <th>Sumatera</th>\n",
       "      <td>Palembang</td>\n",
       "      <td>Franky Sujaya</td>\n",
       "      <td>18</td>\n",
       "      <td>14</td>\n",
       "      <td>5000</td>\n",
       "    </tr>\n",
       "    <tr>\n",
       "      <th>Sulawesi</th>\n",
       "      <td>Manado</td>\n",
       "      <td>Galih Diantara</td>\n",
       "      <td>20</td>\n",
       "      <td>25</td>\n",
       "      <td>7000</td>\n",
       "    </tr>\n",
       "    <tr>\n",
       "      <th>Sulawesi</th>\n",
       "      <td>Palu</td>\n",
       "      <td>Hans Leman</td>\n",
       "      <td>11</td>\n",
       "      <td>12</td>\n",
       "      <td>2500</td>\n",
       "    </tr>\n",
       "    <tr>\n",
       "      <th>Sulawesi</th>\n",
       "      <td>Makassar</td>\n",
       "      <td>Ingrid Mahesa</td>\n",
       "      <td>14</td>\n",
       "      <td>13</td>\n",
       "      <td>9000</td>\n",
       "    </tr>\n",
       "  </tbody>\n",
       "</table>\n",
       "</div>"
      ],
      "text/plain": [
       "               Kota          Mandor  Total Produksi  Jumlah Karyawan  \\\n",
       "Region                                                                 \n",
       "Jawa        Jakarta    Andi Susetyo              15               20   \n",
       "Jawa        Bandung   Budi Budiawan              12               15   \n",
       "Jawa       Surabaya   Cecep Maricep              12               12   \n",
       "Sumatera      Medan    Diana Wijaya              13               14   \n",
       "Sumatera     Padang    Eddy Susanto              16               18   \n",
       "Sumatera  Palembang   Franky Sujaya              18               14   \n",
       "Sulawesi     Manado  Galih Diantara              20               25   \n",
       "Sulawesi       Palu      Hans Leman              11               12   \n",
       "Sulawesi   Makassar   Ingrid Mahesa              14               13   \n",
       "\n",
       "          penjualan  \n",
       "Region               \n",
       "Jawa           1000  \n",
       "Jawa            200  \n",
       "Jawa           3000  \n",
       "Sumatera      12000  \n",
       "Sumatera       8000  \n",
       "Sumatera       5000  \n",
       "Sulawesi       7000  \n",
       "Sulawesi       2500  \n",
       "Sulawesi       9000  "
      ]
     },
     "execution_count": 100,
     "metadata": {},
     "output_type": "execute_result"
    }
   ],
   "source": [
    "# ganti nama kolom manager menjadi mandor\n",
    "df_multi2.rename(columns={'Manager':'Mandor'},inplace=True)\n",
    "df_multi2"
   ]
  },
  {
   "cell_type": "markdown",
   "metadata": {},
   "source": [
    "Pandas Functionality"
   ]
  },
  {
   "cell_type": "code",
   "execution_count": 101,
   "metadata": {
    "ExecuteTime": {
     "end_time": "2021-11-15T04:31:40.072529Z",
     "start_time": "2021-11-15T04:31:40.048546Z"
    }
   },
   "outputs": [
    {
     "data": {
      "text/html": [
       "<div>\n",
       "<style scoped>\n",
       "    .dataframe tbody tr th:only-of-type {\n",
       "        vertical-align: middle;\n",
       "    }\n",
       "\n",
       "    .dataframe tbody tr th {\n",
       "        vertical-align: top;\n",
       "    }\n",
       "\n",
       "    .dataframe thead th {\n",
       "        text-align: right;\n",
       "    }\n",
       "</style>\n",
       "<table border=\"1\" class=\"dataframe\">\n",
       "  <thead>\n",
       "    <tr style=\"text-align: right;\">\n",
       "      <th></th>\n",
       "      <th>Region</th>\n",
       "      <th>Kota</th>\n",
       "      <th>Mandor</th>\n",
       "      <th>Total Produksi</th>\n",
       "      <th>Jumlah Karyawan</th>\n",
       "      <th>penjualan</th>\n",
       "    </tr>\n",
       "  </thead>\n",
       "  <tbody>\n",
       "    <tr>\n",
       "      <th>0</th>\n",
       "      <td>Jawa</td>\n",
       "      <td>Jakarta</td>\n",
       "      <td>Andi Susetyo</td>\n",
       "      <td>15</td>\n",
       "      <td>20</td>\n",
       "      <td>1000</td>\n",
       "    </tr>\n",
       "    <tr>\n",
       "      <th>1</th>\n",
       "      <td>Jawa</td>\n",
       "      <td>Bandung</td>\n",
       "      <td>Budi Budiawan</td>\n",
       "      <td>12</td>\n",
       "      <td>15</td>\n",
       "      <td>200</td>\n",
       "    </tr>\n",
       "    <tr>\n",
       "      <th>2</th>\n",
       "      <td>Jawa</td>\n",
       "      <td>Surabaya</td>\n",
       "      <td>Cecep Maricep</td>\n",
       "      <td>12</td>\n",
       "      <td>12</td>\n",
       "      <td>3000</td>\n",
       "    </tr>\n",
       "    <tr>\n",
       "      <th>3</th>\n",
       "      <td>Sumatera</td>\n",
       "      <td>Medan</td>\n",
       "      <td>Diana Wijaya</td>\n",
       "      <td>13</td>\n",
       "      <td>14</td>\n",
       "      <td>12000</td>\n",
       "    </tr>\n",
       "    <tr>\n",
       "      <th>4</th>\n",
       "      <td>Sumatera</td>\n",
       "      <td>Padang</td>\n",
       "      <td>Eddy Susanto</td>\n",
       "      <td>16</td>\n",
       "      <td>18</td>\n",
       "      <td>8000</td>\n",
       "    </tr>\n",
       "    <tr>\n",
       "      <th>5</th>\n",
       "      <td>Sumatera</td>\n",
       "      <td>Palembang</td>\n",
       "      <td>Franky Sujaya</td>\n",
       "      <td>18</td>\n",
       "      <td>14</td>\n",
       "      <td>5000</td>\n",
       "    </tr>\n",
       "    <tr>\n",
       "      <th>6</th>\n",
       "      <td>Sulawesi</td>\n",
       "      <td>Manado</td>\n",
       "      <td>Galih Diantara</td>\n",
       "      <td>20</td>\n",
       "      <td>25</td>\n",
       "      <td>7000</td>\n",
       "    </tr>\n",
       "    <tr>\n",
       "      <th>7</th>\n",
       "      <td>Sulawesi</td>\n",
       "      <td>Palu</td>\n",
       "      <td>Hans Leman</td>\n",
       "      <td>11</td>\n",
       "      <td>12</td>\n",
       "      <td>2500</td>\n",
       "    </tr>\n",
       "    <tr>\n",
       "      <th>8</th>\n",
       "      <td>Sulawesi</td>\n",
       "      <td>Makassar</td>\n",
       "      <td>Ingrid Mahesa</td>\n",
       "      <td>14</td>\n",
       "      <td>13</td>\n",
       "      <td>9000</td>\n",
       "    </tr>\n",
       "  </tbody>\n",
       "</table>\n",
       "</div>"
      ],
      "text/plain": [
       "     Region       Kota          Mandor  Total Produksi  Jumlah Karyawan  \\\n",
       "0      Jawa    Jakarta    Andi Susetyo              15               20   \n",
       "1      Jawa    Bandung   Budi Budiawan              12               15   \n",
       "2      Jawa   Surabaya   Cecep Maricep              12               12   \n",
       "3  Sumatera      Medan    Diana Wijaya              13               14   \n",
       "4  Sumatera     Padang    Eddy Susanto              16               18   \n",
       "5  Sumatera  Palembang   Franky Sujaya              18               14   \n",
       "6  Sulawesi     Manado  Galih Diantara              20               25   \n",
       "7  Sulawesi       Palu      Hans Leman              11               12   \n",
       "8  Sulawesi   Makassar   Ingrid Mahesa              14               13   \n",
       "\n",
       "   penjualan  \n",
       "0       1000  \n",
       "1        200  \n",
       "2       3000  \n",
       "3      12000  \n",
       "4       8000  \n",
       "5       5000  \n",
       "6       7000  \n",
       "7       2500  \n",
       "8       9000  "
      ]
     },
     "execution_count": 101,
     "metadata": {},
     "output_type": "execute_result"
    }
   ],
   "source": [
    "df=df_multi2.reset_index()\n",
    "df"
   ]
  },
  {
   "cell_type": "code",
   "execution_count": 104,
   "metadata": {
    "ExecuteTime": {
     "end_time": "2021-11-15T04:32:11.713521Z",
     "start_time": "2021-11-15T04:32:11.697564Z"
    }
   },
   "outputs": [
    {
     "data": {
      "text/html": [
       "<div>\n",
       "<style scoped>\n",
       "    .dataframe tbody tr th:only-of-type {\n",
       "        vertical-align: middle;\n",
       "    }\n",
       "\n",
       "    .dataframe tbody tr th {\n",
       "        vertical-align: top;\n",
       "    }\n",
       "\n",
       "    .dataframe thead th {\n",
       "        text-align: right;\n",
       "    }\n",
       "</style>\n",
       "<table border=\"1\" class=\"dataframe\">\n",
       "  <thead>\n",
       "    <tr style=\"text-align: right;\">\n",
       "      <th></th>\n",
       "      <th>Region</th>\n",
       "      <th>Kota</th>\n",
       "      <th>Mandor</th>\n",
       "      <th>Total Produksi</th>\n",
       "      <th>Jumlah Karyawan</th>\n",
       "      <th>penjualan</th>\n",
       "    </tr>\n",
       "  </thead>\n",
       "  <tbody>\n",
       "    <tr>\n",
       "      <th>0</th>\n",
       "      <td>Jawa</td>\n",
       "      <td>Jakarta</td>\n",
       "      <td>Andi Susetyo</td>\n",
       "      <td>15</td>\n",
       "      <td>20</td>\n",
       "      <td>1000</td>\n",
       "    </tr>\n",
       "    <tr>\n",
       "      <th>1</th>\n",
       "      <td>Jawa</td>\n",
       "      <td>Bandung</td>\n",
       "      <td>Budi Budiawan</td>\n",
       "      <td>12</td>\n",
       "      <td>15</td>\n",
       "      <td>200</td>\n",
       "    </tr>\n",
       "    <tr>\n",
       "      <th>2</th>\n",
       "      <td>Jawa</td>\n",
       "      <td>Surabaya</td>\n",
       "      <td>Cecep Maricep</td>\n",
       "      <td>12</td>\n",
       "      <td>12</td>\n",
       "      <td>3000</td>\n",
       "    </tr>\n",
       "    <tr>\n",
       "      <th>3</th>\n",
       "      <td>Sumatera</td>\n",
       "      <td>Medan</td>\n",
       "      <td>Diana Wijaya</td>\n",
       "      <td>13</td>\n",
       "      <td>14</td>\n",
       "      <td>12000</td>\n",
       "    </tr>\n",
       "    <tr>\n",
       "      <th>4</th>\n",
       "      <td>Sumatera</td>\n",
       "      <td>Padang</td>\n",
       "      <td>Eddy Susanto</td>\n",
       "      <td>16</td>\n",
       "      <td>18</td>\n",
       "      <td>8000</td>\n",
       "    </tr>\n",
       "  </tbody>\n",
       "</table>\n",
       "</div>"
      ],
      "text/plain": [
       "     Region      Kota         Mandor  Total Produksi  Jumlah Karyawan  \\\n",
       "0      Jawa   Jakarta   Andi Susetyo              15               20   \n",
       "1      Jawa   Bandung  Budi Budiawan              12               15   \n",
       "2      Jawa  Surabaya  Cecep Maricep              12               12   \n",
       "3  Sumatera     Medan   Diana Wijaya              13               14   \n",
       "4  Sumatera    Padang   Eddy Susanto              16               18   \n",
       "\n",
       "   penjualan  \n",
       "0       1000  \n",
       "1        200  \n",
       "2       3000  \n",
       "3      12000  \n",
       "4       8000  "
      ]
     },
     "execution_count": 104,
     "metadata": {},
     "output_type": "execute_result"
    }
   ],
   "source": [
    "df.head() # menampilkan (default) 5 data pertama dari dataframe"
   ]
  },
  {
   "cell_type": "code",
   "execution_count": 105,
   "metadata": {
    "ExecuteTime": {
     "end_time": "2021-11-15T04:32:29.590627Z",
     "start_time": "2021-11-15T04:32:29.578655Z"
    }
   },
   "outputs": [
    {
     "data": {
      "text/html": [
       "<div>\n",
       "<style scoped>\n",
       "    .dataframe tbody tr th:only-of-type {\n",
       "        vertical-align: middle;\n",
       "    }\n",
       "\n",
       "    .dataframe tbody tr th {\n",
       "        vertical-align: top;\n",
       "    }\n",
       "\n",
       "    .dataframe thead th {\n",
       "        text-align: right;\n",
       "    }\n",
       "</style>\n",
       "<table border=\"1\" class=\"dataframe\">\n",
       "  <thead>\n",
       "    <tr style=\"text-align: right;\">\n",
       "      <th></th>\n",
       "      <th>Region</th>\n",
       "      <th>Kota</th>\n",
       "      <th>Mandor</th>\n",
       "      <th>Total Produksi</th>\n",
       "      <th>Jumlah Karyawan</th>\n",
       "      <th>penjualan</th>\n",
       "    </tr>\n",
       "  </thead>\n",
       "  <tbody>\n",
       "    <tr>\n",
       "      <th>4</th>\n",
       "      <td>Sumatera</td>\n",
       "      <td>Padang</td>\n",
       "      <td>Eddy Susanto</td>\n",
       "      <td>16</td>\n",
       "      <td>18</td>\n",
       "      <td>8000</td>\n",
       "    </tr>\n",
       "    <tr>\n",
       "      <th>5</th>\n",
       "      <td>Sumatera</td>\n",
       "      <td>Palembang</td>\n",
       "      <td>Franky Sujaya</td>\n",
       "      <td>18</td>\n",
       "      <td>14</td>\n",
       "      <td>5000</td>\n",
       "    </tr>\n",
       "    <tr>\n",
       "      <th>6</th>\n",
       "      <td>Sulawesi</td>\n",
       "      <td>Manado</td>\n",
       "      <td>Galih Diantara</td>\n",
       "      <td>20</td>\n",
       "      <td>25</td>\n",
       "      <td>7000</td>\n",
       "    </tr>\n",
       "    <tr>\n",
       "      <th>7</th>\n",
       "      <td>Sulawesi</td>\n",
       "      <td>Palu</td>\n",
       "      <td>Hans Leman</td>\n",
       "      <td>11</td>\n",
       "      <td>12</td>\n",
       "      <td>2500</td>\n",
       "    </tr>\n",
       "    <tr>\n",
       "      <th>8</th>\n",
       "      <td>Sulawesi</td>\n",
       "      <td>Makassar</td>\n",
       "      <td>Ingrid Mahesa</td>\n",
       "      <td>14</td>\n",
       "      <td>13</td>\n",
       "      <td>9000</td>\n",
       "    </tr>\n",
       "  </tbody>\n",
       "</table>\n",
       "</div>"
      ],
      "text/plain": [
       "     Region       Kota          Mandor  Total Produksi  Jumlah Karyawan  \\\n",
       "4  Sumatera     Padang    Eddy Susanto              16               18   \n",
       "5  Sumatera  Palembang   Franky Sujaya              18               14   \n",
       "6  Sulawesi     Manado  Galih Diantara              20               25   \n",
       "7  Sulawesi       Palu      Hans Leman              11               12   \n",
       "8  Sulawesi   Makassar   Ingrid Mahesa              14               13   \n",
       "\n",
       "   penjualan  \n",
       "4       8000  \n",
       "5       5000  \n",
       "6       7000  \n",
       "7       2500  \n",
       "8       9000  "
      ]
     },
     "execution_count": 105,
     "metadata": {},
     "output_type": "execute_result"
    }
   ],
   "source": [
    "df.tail() #menampilkan 5 data terakhir"
   ]
  },
  {
   "cell_type": "code",
   "execution_count": 106,
   "metadata": {
    "ExecuteTime": {
     "end_time": "2021-11-15T04:32:55.071372Z",
     "start_time": "2021-11-15T04:32:55.055428Z"
    }
   },
   "outputs": [
    {
     "name": "stdout",
     "output_type": "stream",
     "text": [
      "<class 'pandas.core.frame.DataFrame'>\n",
      "RangeIndex: 9 entries, 0 to 8\n",
      "Data columns (total 6 columns):\n",
      " #   Column           Non-Null Count  Dtype \n",
      "---  ------           --------------  ----- \n",
      " 0   Region           9 non-null      object\n",
      " 1   Kota             9 non-null      object\n",
      " 2   Mandor           9 non-null      object\n",
      " 3   Total Produksi   9 non-null      int64 \n",
      " 4   Jumlah Karyawan  9 non-null      int64 \n",
      " 5   penjualan        9 non-null      int64 \n",
      "dtypes: int64(3), object(3)\n",
      "memory usage: 560.0+ bytes\n"
     ]
    }
   ],
   "source": [
    "df.info()\n",
    "# informasi umum dari df\n",
    "# column= nama kolom\n",
    "#  non-null count= jumlah data yang tidak kosong\n",
    "# Dtype =data tipe"
   ]
  },
  {
   "cell_type": "code",
   "execution_count": 107,
   "metadata": {
    "ExecuteTime": {
     "end_time": "2021-11-15T04:34:22.438404Z",
     "start_time": "2021-11-15T04:34:22.431460Z"
    }
   },
   "outputs": [
    {
     "data": {
      "text/plain": [
       "Region             object\n",
       "Kota               object\n",
       "Mandor             object\n",
       "Total Produksi      int64\n",
       "Jumlah Karyawan     int64\n",
       "penjualan           int64\n",
       "dtype: object"
      ]
     },
     "execution_count": 107,
     "metadata": {},
     "output_type": "execute_result"
    }
   ],
   "source": [
    "df.dtypes #data tipe dari tiap kolom"
   ]
  },
  {
   "cell_type": "code",
   "execution_count": 108,
   "metadata": {
    "ExecuteTime": {
     "end_time": "2021-11-15T04:34:48.486693Z",
     "start_time": "2021-11-15T04:34:48.451752Z"
    }
   },
   "outputs": [
    {
     "data": {
      "text/html": [
       "<div>\n",
       "<style scoped>\n",
       "    .dataframe tbody tr th:only-of-type {\n",
       "        vertical-align: middle;\n",
       "    }\n",
       "\n",
       "    .dataframe tbody tr th {\n",
       "        vertical-align: top;\n",
       "    }\n",
       "\n",
       "    .dataframe thead th {\n",
       "        text-align: right;\n",
       "    }\n",
       "</style>\n",
       "<table border=\"1\" class=\"dataframe\">\n",
       "  <thead>\n",
       "    <tr style=\"text-align: right;\">\n",
       "      <th></th>\n",
       "      <th>Total Produksi</th>\n",
       "      <th>Jumlah Karyawan</th>\n",
       "      <th>penjualan</th>\n",
       "    </tr>\n",
       "  </thead>\n",
       "  <tbody>\n",
       "    <tr>\n",
       "      <th>count</th>\n",
       "      <td>9.000000</td>\n",
       "      <td>9.000000</td>\n",
       "      <td>9.00000</td>\n",
       "    </tr>\n",
       "    <tr>\n",
       "      <th>mean</th>\n",
       "      <td>14.555556</td>\n",
       "      <td>15.888889</td>\n",
       "      <td>5300.00000</td>\n",
       "    </tr>\n",
       "    <tr>\n",
       "      <th>std</th>\n",
       "      <td>3.004626</td>\n",
       "      <td>4.342938</td>\n",
       "      <td>3976.17907</td>\n",
       "    </tr>\n",
       "    <tr>\n",
       "      <th>min</th>\n",
       "      <td>11.000000</td>\n",
       "      <td>12.000000</td>\n",
       "      <td>200.00000</td>\n",
       "    </tr>\n",
       "    <tr>\n",
       "      <th>25%</th>\n",
       "      <td>12.000000</td>\n",
       "      <td>13.000000</td>\n",
       "      <td>2500.00000</td>\n",
       "    </tr>\n",
       "    <tr>\n",
       "      <th>50%</th>\n",
       "      <td>14.000000</td>\n",
       "      <td>14.000000</td>\n",
       "      <td>5000.00000</td>\n",
       "    </tr>\n",
       "    <tr>\n",
       "      <th>75%</th>\n",
       "      <td>16.000000</td>\n",
       "      <td>18.000000</td>\n",
       "      <td>8000.00000</td>\n",
       "    </tr>\n",
       "    <tr>\n",
       "      <th>max</th>\n",
       "      <td>20.000000</td>\n",
       "      <td>25.000000</td>\n",
       "      <td>12000.00000</td>\n",
       "    </tr>\n",
       "  </tbody>\n",
       "</table>\n",
       "</div>"
      ],
      "text/plain": [
       "       Total Produksi  Jumlah Karyawan    penjualan\n",
       "count        9.000000         9.000000      9.00000\n",
       "mean        14.555556        15.888889   5300.00000\n",
       "std          3.004626         4.342938   3976.17907\n",
       "min         11.000000        12.000000    200.00000\n",
       "25%         12.000000        13.000000   2500.00000\n",
       "50%         14.000000        14.000000   5000.00000\n",
       "75%         16.000000        18.000000   8000.00000\n",
       "max         20.000000        25.000000  12000.00000"
      ]
     },
     "execution_count": 108,
     "metadata": {},
     "output_type": "execute_result"
    }
   ],
   "source": [
    "df.describe() # ringkasan statistik deskripsi dari data\n",
    "# secara default menampilkan hanya agregasi data numerik"
   ]
  },
  {
   "cell_type": "code",
   "execution_count": 109,
   "metadata": {
    "ExecuteTime": {
     "end_time": "2021-11-15T04:35:35.737655Z",
     "start_time": "2021-11-15T04:35:35.708734Z"
    }
   },
   "outputs": [
    {
     "data": {
      "text/html": [
       "<div>\n",
       "<style scoped>\n",
       "    .dataframe tbody tr th:only-of-type {\n",
       "        vertical-align: middle;\n",
       "    }\n",
       "\n",
       "    .dataframe tbody tr th {\n",
       "        vertical-align: top;\n",
       "    }\n",
       "\n",
       "    .dataframe thead th {\n",
       "        text-align: right;\n",
       "    }\n",
       "</style>\n",
       "<table border=\"1\" class=\"dataframe\">\n",
       "  <thead>\n",
       "    <tr style=\"text-align: right;\">\n",
       "      <th></th>\n",
       "      <th>Region</th>\n",
       "      <th>Kota</th>\n",
       "      <th>Mandor</th>\n",
       "      <th>Total Produksi</th>\n",
       "      <th>Jumlah Karyawan</th>\n",
       "      <th>penjualan</th>\n",
       "    </tr>\n",
       "  </thead>\n",
       "  <tbody>\n",
       "    <tr>\n",
       "      <th>count</th>\n",
       "      <td>9</td>\n",
       "      <td>9</td>\n",
       "      <td>9</td>\n",
       "      <td>9.000000</td>\n",
       "      <td>9.000000</td>\n",
       "      <td>9.00000</td>\n",
       "    </tr>\n",
       "    <tr>\n",
       "      <th>unique</th>\n",
       "      <td>3</td>\n",
       "      <td>9</td>\n",
       "      <td>9</td>\n",
       "      <td>NaN</td>\n",
       "      <td>NaN</td>\n",
       "      <td>NaN</td>\n",
       "    </tr>\n",
       "    <tr>\n",
       "      <th>top</th>\n",
       "      <td>Jawa</td>\n",
       "      <td>Medan</td>\n",
       "      <td>Hans Leman</td>\n",
       "      <td>NaN</td>\n",
       "      <td>NaN</td>\n",
       "      <td>NaN</td>\n",
       "    </tr>\n",
       "    <tr>\n",
       "      <th>freq</th>\n",
       "      <td>3</td>\n",
       "      <td>1</td>\n",
       "      <td>1</td>\n",
       "      <td>NaN</td>\n",
       "      <td>NaN</td>\n",
       "      <td>NaN</td>\n",
       "    </tr>\n",
       "    <tr>\n",
       "      <th>mean</th>\n",
       "      <td>NaN</td>\n",
       "      <td>NaN</td>\n",
       "      <td>NaN</td>\n",
       "      <td>14.555556</td>\n",
       "      <td>15.888889</td>\n",
       "      <td>5300.00000</td>\n",
       "    </tr>\n",
       "    <tr>\n",
       "      <th>std</th>\n",
       "      <td>NaN</td>\n",
       "      <td>NaN</td>\n",
       "      <td>NaN</td>\n",
       "      <td>3.004626</td>\n",
       "      <td>4.342938</td>\n",
       "      <td>3976.17907</td>\n",
       "    </tr>\n",
       "    <tr>\n",
       "      <th>min</th>\n",
       "      <td>NaN</td>\n",
       "      <td>NaN</td>\n",
       "      <td>NaN</td>\n",
       "      <td>11.000000</td>\n",
       "      <td>12.000000</td>\n",
       "      <td>200.00000</td>\n",
       "    </tr>\n",
       "    <tr>\n",
       "      <th>25%</th>\n",
       "      <td>NaN</td>\n",
       "      <td>NaN</td>\n",
       "      <td>NaN</td>\n",
       "      <td>12.000000</td>\n",
       "      <td>13.000000</td>\n",
       "      <td>2500.00000</td>\n",
       "    </tr>\n",
       "    <tr>\n",
       "      <th>50%</th>\n",
       "      <td>NaN</td>\n",
       "      <td>NaN</td>\n",
       "      <td>NaN</td>\n",
       "      <td>14.000000</td>\n",
       "      <td>14.000000</td>\n",
       "      <td>5000.00000</td>\n",
       "    </tr>\n",
       "    <tr>\n",
       "      <th>75%</th>\n",
       "      <td>NaN</td>\n",
       "      <td>NaN</td>\n",
       "      <td>NaN</td>\n",
       "      <td>16.000000</td>\n",
       "      <td>18.000000</td>\n",
       "      <td>8000.00000</td>\n",
       "    </tr>\n",
       "    <tr>\n",
       "      <th>max</th>\n",
       "      <td>NaN</td>\n",
       "      <td>NaN</td>\n",
       "      <td>NaN</td>\n",
       "      <td>20.000000</td>\n",
       "      <td>25.000000</td>\n",
       "      <td>12000.00000</td>\n",
       "    </tr>\n",
       "  </tbody>\n",
       "</table>\n",
       "</div>"
      ],
      "text/plain": [
       "       Region   Kota      Mandor  Total Produksi  Jumlah Karyawan    penjualan\n",
       "count       9      9           9        9.000000         9.000000      9.00000\n",
       "unique      3      9           9             NaN              NaN          NaN\n",
       "top      Jawa  Medan  Hans Leman             NaN              NaN          NaN\n",
       "freq        3      1           1             NaN              NaN          NaN\n",
       "mean      NaN    NaN         NaN       14.555556        15.888889   5300.00000\n",
       "std       NaN    NaN         NaN        3.004626         4.342938   3976.17907\n",
       "min       NaN    NaN         NaN       11.000000        12.000000    200.00000\n",
       "25%       NaN    NaN         NaN       12.000000        13.000000   2500.00000\n",
       "50%       NaN    NaN         NaN       14.000000        14.000000   5000.00000\n",
       "75%       NaN    NaN         NaN       16.000000        18.000000   8000.00000\n",
       "max       NaN    NaN         NaN       20.000000        25.000000  12000.00000"
      ]
     },
     "execution_count": 109,
     "metadata": {},
     "output_type": "execute_result"
    }
   ],
   "source": [
    "df.describe(include='all') # semua kolom"
   ]
  },
  {
   "cell_type": "code",
   "execution_count": 110,
   "metadata": {
    "ExecuteTime": {
     "end_time": "2021-11-15T04:35:47.915916Z",
     "start_time": "2021-11-15T04:35:47.893977Z"
    }
   },
   "outputs": [
    {
     "data": {
      "text/html": [
       "<div>\n",
       "<style scoped>\n",
       "    .dataframe tbody tr th:only-of-type {\n",
       "        vertical-align: middle;\n",
       "    }\n",
       "\n",
       "    .dataframe tbody tr th {\n",
       "        vertical-align: top;\n",
       "    }\n",
       "\n",
       "    .dataframe thead th {\n",
       "        text-align: right;\n",
       "    }\n",
       "</style>\n",
       "<table border=\"1\" class=\"dataframe\">\n",
       "  <thead>\n",
       "    <tr style=\"text-align: right;\">\n",
       "      <th></th>\n",
       "      <th>Region</th>\n",
       "      <th>Kota</th>\n",
       "      <th>Mandor</th>\n",
       "    </tr>\n",
       "  </thead>\n",
       "  <tbody>\n",
       "    <tr>\n",
       "      <th>count</th>\n",
       "      <td>9</td>\n",
       "      <td>9</td>\n",
       "      <td>9</td>\n",
       "    </tr>\n",
       "    <tr>\n",
       "      <th>unique</th>\n",
       "      <td>3</td>\n",
       "      <td>9</td>\n",
       "      <td>9</td>\n",
       "    </tr>\n",
       "    <tr>\n",
       "      <th>top</th>\n",
       "      <td>Jawa</td>\n",
       "      <td>Medan</td>\n",
       "      <td>Hans Leman</td>\n",
       "    </tr>\n",
       "    <tr>\n",
       "      <th>freq</th>\n",
       "      <td>3</td>\n",
       "      <td>1</td>\n",
       "      <td>1</td>\n",
       "    </tr>\n",
       "  </tbody>\n",
       "</table>\n",
       "</div>"
      ],
      "text/plain": [
       "       Region   Kota      Mandor\n",
       "count       9      9           9\n",
       "unique      3      9           9\n",
       "top      Jawa  Medan  Hans Leman\n",
       "freq        3      1           1"
      ]
     },
     "execution_count": 110,
     "metadata": {},
     "output_type": "execute_result"
    }
   ],
   "source": [
    "df.describe(include='object') # agregasi kolom berisi string"
   ]
  },
  {
   "cell_type": "code",
   "execution_count": 111,
   "metadata": {
    "ExecuteTime": {
     "end_time": "2021-11-15T04:39:06.576113Z",
     "start_time": "2021-11-15T04:39:06.566376Z"
    }
   },
   "outputs": [
    {
     "data": {
      "text/html": [
       "<div>\n",
       "<style scoped>\n",
       "    .dataframe tbody tr th:only-of-type {\n",
       "        vertical-align: middle;\n",
       "    }\n",
       "\n",
       "    .dataframe tbody tr th {\n",
       "        vertical-align: top;\n",
       "    }\n",
       "\n",
       "    .dataframe thead th {\n",
       "        text-align: right;\n",
       "    }\n",
       "</style>\n",
       "<table border=\"1\" class=\"dataframe\">\n",
       "  <thead>\n",
       "    <tr style=\"text-align: right;\">\n",
       "      <th></th>\n",
       "      <th>Region</th>\n",
       "      <th>Kota</th>\n",
       "      <th>Mandor</th>\n",
       "      <th>Total Produksi</th>\n",
       "      <th>Jumlah Karyawan</th>\n",
       "      <th>penjualan</th>\n",
       "    </tr>\n",
       "  </thead>\n",
       "  <tbody>\n",
       "    <tr>\n",
       "      <th>0</th>\n",
       "      <td>Jawa</td>\n",
       "      <td>Jakarta</td>\n",
       "      <td>Andi Susetyo</td>\n",
       "      <td>15</td>\n",
       "      <td>20</td>\n",
       "      <td>1000</td>\n",
       "    </tr>\n",
       "    <tr>\n",
       "      <th>1</th>\n",
       "      <td>Jawa</td>\n",
       "      <td>Bandung</td>\n",
       "      <td>Budi Budiawan</td>\n",
       "      <td>12</td>\n",
       "      <td>15</td>\n",
       "      <td>200</td>\n",
       "    </tr>\n",
       "    <tr>\n",
       "      <th>2</th>\n",
       "      <td>Jawa</td>\n",
       "      <td>Surabaya</td>\n",
       "      <td>Cecep Maricep</td>\n",
       "      <td>12</td>\n",
       "      <td>12</td>\n",
       "      <td>3000</td>\n",
       "    </tr>\n",
       "    <tr>\n",
       "      <th>3</th>\n",
       "      <td>Sumatera</td>\n",
       "      <td>Medan</td>\n",
       "      <td>Diana Wijaya</td>\n",
       "      <td>13</td>\n",
       "      <td>14</td>\n",
       "      <td>12000</td>\n",
       "    </tr>\n",
       "    <tr>\n",
       "      <th>4</th>\n",
       "      <td>Sumatera</td>\n",
       "      <td>Padang</td>\n",
       "      <td>Eddy Susanto</td>\n",
       "      <td>16</td>\n",
       "      <td>18</td>\n",
       "      <td>8000</td>\n",
       "    </tr>\n",
       "    <tr>\n",
       "      <th>5</th>\n",
       "      <td>Sumatera</td>\n",
       "      <td>Palembang</td>\n",
       "      <td>Franky Sujaya</td>\n",
       "      <td>18</td>\n",
       "      <td>14</td>\n",
       "      <td>5000</td>\n",
       "    </tr>\n",
       "    <tr>\n",
       "      <th>6</th>\n",
       "      <td>Sulawesi</td>\n",
       "      <td>Manado</td>\n",
       "      <td>Galih Diantara</td>\n",
       "      <td>20</td>\n",
       "      <td>25</td>\n",
       "      <td>7000</td>\n",
       "    </tr>\n",
       "    <tr>\n",
       "      <th>7</th>\n",
       "      <td>Sulawesi</td>\n",
       "      <td>Palu</td>\n",
       "      <td>Hans Leman</td>\n",
       "      <td>11</td>\n",
       "      <td>12</td>\n",
       "      <td>2500</td>\n",
       "    </tr>\n",
       "    <tr>\n",
       "      <th>8</th>\n",
       "      <td>Sulawesi</td>\n",
       "      <td>Makassar</td>\n",
       "      <td>Ingrid Mahesa</td>\n",
       "      <td>14</td>\n",
       "      <td>13</td>\n",
       "      <td>9000</td>\n",
       "    </tr>\n",
       "  </tbody>\n",
       "</table>\n",
       "</div>"
      ],
      "text/plain": [
       "     Region       Kota          Mandor  Total Produksi  Jumlah Karyawan  \\\n",
       "0      Jawa    Jakarta    Andi Susetyo              15               20   \n",
       "1      Jawa    Bandung   Budi Budiawan              12               15   \n",
       "2      Jawa   Surabaya   Cecep Maricep              12               12   \n",
       "3  Sumatera      Medan    Diana Wijaya              13               14   \n",
       "4  Sumatera     Padang    Eddy Susanto              16               18   \n",
       "5  Sumatera  Palembang   Franky Sujaya              18               14   \n",
       "6  Sulawesi     Manado  Galih Diantara              20               25   \n",
       "7  Sulawesi       Palu      Hans Leman              11               12   \n",
       "8  Sulawesi   Makassar   Ingrid Mahesa              14               13   \n",
       "\n",
       "   penjualan  \n",
       "0       1000  \n",
       "1        200  \n",
       "2       3000  \n",
       "3      12000  \n",
       "4       8000  \n",
       "5       5000  \n",
       "6       7000  \n",
       "7       2500  \n",
       "8       9000  "
      ]
     },
     "execution_count": 111,
     "metadata": {},
     "output_type": "execute_result"
    }
   ],
   "source": [
    "df"
   ]
  },
  {
   "cell_type": "code",
   "execution_count": 112,
   "metadata": {
    "ExecuteTime": {
     "end_time": "2021-11-15T04:39:49.552684Z",
     "start_time": "2021-11-15T04:39:49.525758Z"
    }
   },
   "outputs": [
    {
     "data": {
      "text/html": [
       "<div>\n",
       "<style scoped>\n",
       "    .dataframe tbody tr th:only-of-type {\n",
       "        vertical-align: middle;\n",
       "    }\n",
       "\n",
       "    .dataframe tbody tr th {\n",
       "        vertical-align: top;\n",
       "    }\n",
       "\n",
       "    .dataframe thead th {\n",
       "        text-align: right;\n",
       "    }\n",
       "</style>\n",
       "<table border=\"1\" class=\"dataframe\">\n",
       "  <thead>\n",
       "    <tr style=\"text-align: right;\">\n",
       "      <th></th>\n",
       "      <th>Region</th>\n",
       "      <th>Kota</th>\n",
       "      <th>Mandor</th>\n",
       "      <th>Total Produksi</th>\n",
       "      <th>Jumlah Karyawan</th>\n",
       "      <th>penjualan</th>\n",
       "    </tr>\n",
       "  </thead>\n",
       "  <tbody>\n",
       "    <tr>\n",
       "      <th>0</th>\n",
       "      <td>Jawa</td>\n",
       "      <td>Jakarta</td>\n",
       "      <td>Andi Susetyo</td>\n",
       "      <td>15.0</td>\n",
       "      <td>20.0</td>\n",
       "      <td>1000.0</td>\n",
       "    </tr>\n",
       "    <tr>\n",
       "      <th>1</th>\n",
       "      <td>Jawa</td>\n",
       "      <td>Bandung</td>\n",
       "      <td>Budi Budiawan</td>\n",
       "      <td>12.0</td>\n",
       "      <td>15.0</td>\n",
       "      <td>200.0</td>\n",
       "    </tr>\n",
       "    <tr>\n",
       "      <th>2</th>\n",
       "      <td>Jawa</td>\n",
       "      <td>Surabaya</td>\n",
       "      <td>Cecep Maricep</td>\n",
       "      <td>12.0</td>\n",
       "      <td>12.0</td>\n",
       "      <td>3000.0</td>\n",
       "    </tr>\n",
       "    <tr>\n",
       "      <th>3</th>\n",
       "      <td>Sumatera</td>\n",
       "      <td>Medan</td>\n",
       "      <td>Diana Wijaya</td>\n",
       "      <td>13.0</td>\n",
       "      <td>14.0</td>\n",
       "      <td>12000.0</td>\n",
       "    </tr>\n",
       "    <tr>\n",
       "      <th>4</th>\n",
       "      <td>Sumatera</td>\n",
       "      <td>Padang</td>\n",
       "      <td>Eddy Susanto</td>\n",
       "      <td>16.0</td>\n",
       "      <td>18.0</td>\n",
       "      <td>8000.0</td>\n",
       "    </tr>\n",
       "    <tr>\n",
       "      <th>5</th>\n",
       "      <td>Sumatera</td>\n",
       "      <td>Palembang</td>\n",
       "      <td>Franky Sujaya</td>\n",
       "      <td>18.0</td>\n",
       "      <td>14.0</td>\n",
       "      <td>5000.0</td>\n",
       "    </tr>\n",
       "    <tr>\n",
       "      <th>6</th>\n",
       "      <td>Sulawesi</td>\n",
       "      <td>Manado</td>\n",
       "      <td>Galih Diantara</td>\n",
       "      <td>20.0</td>\n",
       "      <td>25.0</td>\n",
       "      <td>7000.0</td>\n",
       "    </tr>\n",
       "    <tr>\n",
       "      <th>7</th>\n",
       "      <td>Sulawesi</td>\n",
       "      <td>Palu</td>\n",
       "      <td>Hans Leman</td>\n",
       "      <td>11.0</td>\n",
       "      <td>12.0</td>\n",
       "      <td>2500.0</td>\n",
       "    </tr>\n",
       "    <tr>\n",
       "      <th>8</th>\n",
       "      <td>Sulawesi</td>\n",
       "      <td>Makassar</td>\n",
       "      <td>Ingrid Mahesa</td>\n",
       "      <td>14.0</td>\n",
       "      <td>13.0</td>\n",
       "      <td>9000.0</td>\n",
       "    </tr>\n",
       "    <tr>\n",
       "      <th>9</th>\n",
       "      <td>Jawa</td>\n",
       "      <td>Jakarta</td>\n",
       "      <td>NaN</td>\n",
       "      <td>NaN</td>\n",
       "      <td>NaN</td>\n",
       "      <td>NaN</td>\n",
       "    </tr>\n",
       "  </tbody>\n",
       "</table>\n",
       "</div>"
      ],
      "text/plain": [
       "     Region       Kota          Mandor  Total Produksi  Jumlah Karyawan  \\\n",
       "0      Jawa    Jakarta    Andi Susetyo            15.0             20.0   \n",
       "1      Jawa    Bandung   Budi Budiawan            12.0             15.0   \n",
       "2      Jawa   Surabaya   Cecep Maricep            12.0             12.0   \n",
       "3  Sumatera      Medan    Diana Wijaya            13.0             14.0   \n",
       "4  Sumatera     Padang    Eddy Susanto            16.0             18.0   \n",
       "5  Sumatera  Palembang   Franky Sujaya            18.0             14.0   \n",
       "6  Sulawesi     Manado  Galih Diantara            20.0             25.0   \n",
       "7  Sulawesi       Palu      Hans Leman            11.0             12.0   \n",
       "8  Sulawesi   Makassar   Ingrid Mahesa            14.0             13.0   \n",
       "9      Jawa    Jakarta             NaN             NaN              NaN   \n",
       "\n",
       "   penjualan  \n",
       "0     1000.0  \n",
       "1      200.0  \n",
       "2     3000.0  \n",
       "3    12000.0  \n",
       "4     8000.0  \n",
       "5     5000.0  \n",
       "6     7000.0  \n",
       "7     2500.0  \n",
       "8     9000.0  \n",
       "9        NaN  "
      ]
     },
     "execution_count": 112,
     "metadata": {},
     "output_type": "execute_result"
    }
   ],
   "source": [
    "df.loc[9]=['Jawa','Jakarta',np.nan,np.nan,np.nan,np.nan]\n",
    "df"
   ]
  },
  {
   "cell_type": "code",
   "execution_count": 113,
   "metadata": {
    "ExecuteTime": {
     "end_time": "2021-11-15T04:40:13.262168Z",
     "start_time": "2021-11-15T04:40:13.239196Z"
    }
   },
   "outputs": [
    {
     "data": {
      "text/html": [
       "<div>\n",
       "<style scoped>\n",
       "    .dataframe tbody tr th:only-of-type {\n",
       "        vertical-align: middle;\n",
       "    }\n",
       "\n",
       "    .dataframe tbody tr th {\n",
       "        vertical-align: top;\n",
       "    }\n",
       "\n",
       "    .dataframe thead th {\n",
       "        text-align: right;\n",
       "    }\n",
       "</style>\n",
       "<table border=\"1\" class=\"dataframe\">\n",
       "  <thead>\n",
       "    <tr style=\"text-align: right;\">\n",
       "      <th></th>\n",
       "      <th>Region</th>\n",
       "      <th>Kota</th>\n",
       "      <th>Mandor</th>\n",
       "    </tr>\n",
       "  </thead>\n",
       "  <tbody>\n",
       "    <tr>\n",
       "      <th>count</th>\n",
       "      <td>10</td>\n",
       "      <td>10</td>\n",
       "      <td>9</td>\n",
       "    </tr>\n",
       "    <tr>\n",
       "      <th>unique</th>\n",
       "      <td>3</td>\n",
       "      <td>9</td>\n",
       "      <td>9</td>\n",
       "    </tr>\n",
       "    <tr>\n",
       "      <th>top</th>\n",
       "      <td>Jawa</td>\n",
       "      <td>Jakarta</td>\n",
       "      <td>Hans Leman</td>\n",
       "    </tr>\n",
       "    <tr>\n",
       "      <th>freq</th>\n",
       "      <td>4</td>\n",
       "      <td>2</td>\n",
       "      <td>1</td>\n",
       "    </tr>\n",
       "  </tbody>\n",
       "</table>\n",
       "</div>"
      ],
      "text/plain": [
       "       Region     Kota      Mandor\n",
       "count      10       10           9\n",
       "unique      3        9           9\n",
       "top      Jawa  Jakarta  Hans Leman\n",
       "freq        4        2           1"
      ]
     },
     "execution_count": 113,
     "metadata": {},
     "output_type": "execute_result"
    }
   ],
   "source": [
    "df.describe(include='object') # top adalah data yg paling sering muncul\n",
    "# freq adalah frequensi dari data yang paling sering muncul"
   ]
  },
  {
   "cell_type": "code",
   "execution_count": 114,
   "metadata": {
    "ExecuteTime": {
     "end_time": "2021-11-15T04:44:29.570167Z",
     "start_time": "2021-11-15T04:44:29.557264Z"
    }
   },
   "outputs": [
    {
     "name": "stdout",
     "output_type": "stream",
     "text": [
      "rata-rata:  5300.0\n",
      "median:  5000.0\n",
      "standard deviasi:  3976.1790704142086\n",
      "nilai min:  200.0\n",
      "nilai max:  12000.0\n"
     ]
    }
   ],
   "source": [
    "print('rata-rata: ',df['penjualan'].mean())\n",
    "print('median: ',df['penjualan'].median())\n",
    "print('standard deviasi: ',df['penjualan'].std())\n",
    "print('nilai min: ',df['penjualan'].min())\n",
    "print('nilai max: ',df['penjualan'].max())"
   ]
  },
  {
   "cell_type": "code",
   "execution_count": 115,
   "metadata": {
    "ExecuteTime": {
     "end_time": "2021-11-15T04:45:07.548775Z",
     "start_time": "2021-11-15T04:45:07.531820Z"
    }
   },
   "outputs": [
    {
     "data": {
      "text/plain": [
       "array(['Jawa', 'Sumatera', 'Sulawesi'], dtype=object)"
      ]
     },
     "execution_count": 115,
     "metadata": {},
     "output_type": "execute_result"
    }
   ],
   "source": [
    "df['Region'].unique() #menampilkan data apa saja yang pernah muncul di suatu kolom\n",
    "# mirip distinct sql"
   ]
  },
  {
   "cell_type": "code",
   "execution_count": 116,
   "metadata": {
    "ExecuteTime": {
     "end_time": "2021-11-15T04:45:57.747258Z",
     "start_time": "2021-11-15T04:45:57.727308Z"
    }
   },
   "outputs": [
    {
     "data": {
      "text/plain": [
       "3"
      ]
     },
     "execution_count": 116,
     "metadata": {},
     "output_type": "execute_result"
    }
   ],
   "source": [
    "df['Region'].nunique() #menampilkan ADA BERAPA jumlah data unik di suatu kolom\n",
    "# sql: count(distinct())"
   ]
  },
  {
   "cell_type": "code",
   "execution_count": 117,
   "metadata": {
    "ExecuteTime": {
     "end_time": "2021-11-15T04:47:07.081554Z",
     "start_time": "2021-11-15T04:47:07.072552Z"
    }
   },
   "outputs": [
    {
     "data": {
      "text/plain": [
       "Jawa        4\n",
       "Sumatera    3\n",
       "Sulawesi    3\n",
       "Name: Region, dtype: int64"
      ]
     },
     "execution_count": 117,
     "metadata": {},
     "output_type": "execute_result"
    }
   ],
   "source": [
    "df['Region'].value_counts() # menampilkan jumlah kemunculan tiap2 data di suatu kolom\n",
    "# di kolom region jawa muncul 4 kali, sumatera muncul 3 kali dan sulawesi muncul 3 kali"
   ]
  },
  {
   "cell_type": "code",
   "execution_count": 118,
   "metadata": {
    "ExecuteTime": {
     "end_time": "2021-11-15T04:49:13.000882Z",
     "start_time": "2021-11-15T04:49:12.981948Z"
    }
   },
   "outputs": [
    {
     "data": {
      "text/plain": [
       "(10, 6)"
      ]
     },
     "execution_count": 118,
     "metadata": {},
     "output_type": "execute_result"
    }
   ],
   "source": [
    "df.shape # menampilkan bentuk dari data frame ( jumlah baris, jumlah kolom)"
   ]
  },
  {
   "cell_type": "code",
   "execution_count": 119,
   "metadata": {
    "ExecuteTime": {
     "end_time": "2021-11-15T04:49:41.555455Z",
     "start_time": "2021-11-15T04:49:41.540979Z"
    }
   },
   "outputs": [
    {
     "data": {
      "text/html": [
       "<div>\n",
       "<style scoped>\n",
       "    .dataframe tbody tr th:only-of-type {\n",
       "        vertical-align: middle;\n",
       "    }\n",
       "\n",
       "    .dataframe tbody tr th {\n",
       "        vertical-align: top;\n",
       "    }\n",
       "\n",
       "    .dataframe thead th {\n",
       "        text-align: right;\n",
       "    }\n",
       "</style>\n",
       "<table border=\"1\" class=\"dataframe\">\n",
       "  <thead>\n",
       "    <tr style=\"text-align: right;\">\n",
       "      <th></th>\n",
       "      <th>Region</th>\n",
       "      <th>Kota</th>\n",
       "      <th>Mandor</th>\n",
       "      <th>Total Produksi</th>\n",
       "      <th>Jumlah Karyawan</th>\n",
       "      <th>penjualan</th>\n",
       "    </tr>\n",
       "  </thead>\n",
       "  <tbody>\n",
       "    <tr>\n",
       "      <th>0</th>\n",
       "      <td>False</td>\n",
       "      <td>False</td>\n",
       "      <td>False</td>\n",
       "      <td>False</td>\n",
       "      <td>False</td>\n",
       "      <td>False</td>\n",
       "    </tr>\n",
       "    <tr>\n",
       "      <th>1</th>\n",
       "      <td>False</td>\n",
       "      <td>False</td>\n",
       "      <td>False</td>\n",
       "      <td>False</td>\n",
       "      <td>False</td>\n",
       "      <td>False</td>\n",
       "    </tr>\n",
       "    <tr>\n",
       "      <th>2</th>\n",
       "      <td>False</td>\n",
       "      <td>False</td>\n",
       "      <td>False</td>\n",
       "      <td>False</td>\n",
       "      <td>False</td>\n",
       "      <td>False</td>\n",
       "    </tr>\n",
       "    <tr>\n",
       "      <th>3</th>\n",
       "      <td>False</td>\n",
       "      <td>False</td>\n",
       "      <td>False</td>\n",
       "      <td>False</td>\n",
       "      <td>False</td>\n",
       "      <td>False</td>\n",
       "    </tr>\n",
       "    <tr>\n",
       "      <th>4</th>\n",
       "      <td>False</td>\n",
       "      <td>False</td>\n",
       "      <td>False</td>\n",
       "      <td>False</td>\n",
       "      <td>False</td>\n",
       "      <td>False</td>\n",
       "    </tr>\n",
       "    <tr>\n",
       "      <th>5</th>\n",
       "      <td>False</td>\n",
       "      <td>False</td>\n",
       "      <td>False</td>\n",
       "      <td>False</td>\n",
       "      <td>False</td>\n",
       "      <td>False</td>\n",
       "    </tr>\n",
       "    <tr>\n",
       "      <th>6</th>\n",
       "      <td>False</td>\n",
       "      <td>False</td>\n",
       "      <td>False</td>\n",
       "      <td>False</td>\n",
       "      <td>False</td>\n",
       "      <td>False</td>\n",
       "    </tr>\n",
       "    <tr>\n",
       "      <th>7</th>\n",
       "      <td>False</td>\n",
       "      <td>False</td>\n",
       "      <td>False</td>\n",
       "      <td>False</td>\n",
       "      <td>False</td>\n",
       "      <td>False</td>\n",
       "    </tr>\n",
       "    <tr>\n",
       "      <th>8</th>\n",
       "      <td>False</td>\n",
       "      <td>False</td>\n",
       "      <td>False</td>\n",
       "      <td>False</td>\n",
       "      <td>False</td>\n",
       "      <td>False</td>\n",
       "    </tr>\n",
       "    <tr>\n",
       "      <th>9</th>\n",
       "      <td>False</td>\n",
       "      <td>False</td>\n",
       "      <td>True</td>\n",
       "      <td>True</td>\n",
       "      <td>True</td>\n",
       "      <td>True</td>\n",
       "    </tr>\n",
       "  </tbody>\n",
       "</table>\n",
       "</div>"
      ],
      "text/plain": [
       "   Region   Kota  Mandor  Total Produksi  Jumlah Karyawan  penjualan\n",
       "0   False  False   False           False            False      False\n",
       "1   False  False   False           False            False      False\n",
       "2   False  False   False           False            False      False\n",
       "3   False  False   False           False            False      False\n",
       "4   False  False   False           False            False      False\n",
       "5   False  False   False           False            False      False\n",
       "6   False  False   False           False            False      False\n",
       "7   False  False   False           False            False      False\n",
       "8   False  False   False           False            False      False\n",
       "9   False  False    True            True             True       True"
      ]
     },
     "execution_count": 119,
     "metadata": {},
     "output_type": "execute_result"
    }
   ],
   "source": [
    "df.isna() # Apakah suatu data di dataframe merupakan data kosong/ nan\n",
    "# Nan= Not a Number, data kosong di df biasanya direpresentasikan dengan nilai ini"
   ]
  },
  {
   "cell_type": "code",
   "execution_count": 120,
   "metadata": {
    "ExecuteTime": {
     "end_time": "2021-11-15T04:50:38.728812Z",
     "start_time": "2021-11-15T04:50:38.718806Z"
    }
   },
   "outputs": [
    {
     "data": {
      "text/plain": [
       "Region             0\n",
       "Kota               0\n",
       "Mandor             1\n",
       "Total Produksi     1\n",
       "Jumlah Karyawan    1\n",
       "penjualan          1\n",
       "dtype: int64"
      ]
     },
     "execution_count": 120,
     "metadata": {},
     "output_type": "execute_result"
    }
   ],
   "source": [
    "df.isna().sum() # menampilkan jumlah data kosong/nan di setiap kolom"
   ]
  },
  {
   "cell_type": "code",
   "execution_count": 121,
   "metadata": {
    "ExecuteTime": {
     "end_time": "2021-11-15T04:52:40.592780Z",
     "start_time": "2021-11-15T04:52:40.582798Z"
    }
   },
   "outputs": [
    {
     "data": {
      "text/html": [
       "<div>\n",
       "<style scoped>\n",
       "    .dataframe tbody tr th:only-of-type {\n",
       "        vertical-align: middle;\n",
       "    }\n",
       "\n",
       "    .dataframe tbody tr th {\n",
       "        vertical-align: top;\n",
       "    }\n",
       "\n",
       "    .dataframe thead th {\n",
       "        text-align: right;\n",
       "    }\n",
       "</style>\n",
       "<table border=\"1\" class=\"dataframe\">\n",
       "  <thead>\n",
       "    <tr style=\"text-align: right;\">\n",
       "      <th></th>\n",
       "      <th>Region</th>\n",
       "      <th>Kota</th>\n",
       "      <th>Mandor</th>\n",
       "      <th>Total Produksi</th>\n",
       "      <th>Jumlah Karyawan</th>\n",
       "      <th>penjualan</th>\n",
       "    </tr>\n",
       "  </thead>\n",
       "  <tbody>\n",
       "    <tr>\n",
       "      <th>0</th>\n",
       "      <td>Jawa</td>\n",
       "      <td>Jakarta</td>\n",
       "      <td>Andi Susetyo</td>\n",
       "      <td>15.0</td>\n",
       "      <td>20.0</td>\n",
       "      <td>1000.0</td>\n",
       "    </tr>\n",
       "    <tr>\n",
       "      <th>1</th>\n",
       "      <td>Jawa</td>\n",
       "      <td>Bandung</td>\n",
       "      <td>Budi Budiawan</td>\n",
       "      <td>12.0</td>\n",
       "      <td>15.0</td>\n",
       "      <td>200.0</td>\n",
       "    </tr>\n",
       "    <tr>\n",
       "      <th>2</th>\n",
       "      <td>Jawa</td>\n",
       "      <td>Surabaya</td>\n",
       "      <td>Cecep Maricep</td>\n",
       "      <td>12.0</td>\n",
       "      <td>12.0</td>\n",
       "      <td>3000.0</td>\n",
       "    </tr>\n",
       "    <tr>\n",
       "      <th>3</th>\n",
       "      <td>Sumatera</td>\n",
       "      <td>Medan</td>\n",
       "      <td>Diana Wijaya</td>\n",
       "      <td>13.0</td>\n",
       "      <td>14.0</td>\n",
       "      <td>12000.0</td>\n",
       "    </tr>\n",
       "    <tr>\n",
       "      <th>4</th>\n",
       "      <td>Sumatera</td>\n",
       "      <td>Padang</td>\n",
       "      <td>Eddy Susanto</td>\n",
       "      <td>16.0</td>\n",
       "      <td>18.0</td>\n",
       "      <td>8000.0</td>\n",
       "    </tr>\n",
       "    <tr>\n",
       "      <th>5</th>\n",
       "      <td>Sumatera</td>\n",
       "      <td>Palembang</td>\n",
       "      <td>Franky Sujaya</td>\n",
       "      <td>18.0</td>\n",
       "      <td>14.0</td>\n",
       "      <td>5000.0</td>\n",
       "    </tr>\n",
       "    <tr>\n",
       "      <th>6</th>\n",
       "      <td>Sulawesi</td>\n",
       "      <td>Manado</td>\n",
       "      <td>Galih Diantara</td>\n",
       "      <td>20.0</td>\n",
       "      <td>25.0</td>\n",
       "      <td>7000.0</td>\n",
       "    </tr>\n",
       "    <tr>\n",
       "      <th>7</th>\n",
       "      <td>Sulawesi</td>\n",
       "      <td>Palu</td>\n",
       "      <td>Hans Leman</td>\n",
       "      <td>11.0</td>\n",
       "      <td>12.0</td>\n",
       "      <td>2500.0</td>\n",
       "    </tr>\n",
       "    <tr>\n",
       "      <th>8</th>\n",
       "      <td>Sulawesi</td>\n",
       "      <td>Makassar</td>\n",
       "      <td>Ingrid Mahesa</td>\n",
       "      <td>14.0</td>\n",
       "      <td>13.0</td>\n",
       "      <td>9000.0</td>\n",
       "    </tr>\n",
       "  </tbody>\n",
       "</table>\n",
       "</div>"
      ],
      "text/plain": [
       "     Region       Kota          Mandor  Total Produksi  Jumlah Karyawan  \\\n",
       "0      Jawa    Jakarta    Andi Susetyo            15.0             20.0   \n",
       "1      Jawa    Bandung   Budi Budiawan            12.0             15.0   \n",
       "2      Jawa   Surabaya   Cecep Maricep            12.0             12.0   \n",
       "3  Sumatera      Medan    Diana Wijaya            13.0             14.0   \n",
       "4  Sumatera     Padang    Eddy Susanto            16.0             18.0   \n",
       "5  Sumatera  Palembang   Franky Sujaya            18.0             14.0   \n",
       "6  Sulawesi     Manado  Galih Diantara            20.0             25.0   \n",
       "7  Sulawesi       Palu      Hans Leman            11.0             12.0   \n",
       "8  Sulawesi   Makassar   Ingrid Mahesa            14.0             13.0   \n",
       "\n",
       "   penjualan  \n",
       "0     1000.0  \n",
       "1      200.0  \n",
       "2     3000.0  \n",
       "3    12000.0  \n",
       "4     8000.0  \n",
       "5     5000.0  \n",
       "6     7000.0  \n",
       "7     2500.0  \n",
       "8     9000.0  "
      ]
     },
     "execution_count": 121,
     "metadata": {},
     "output_type": "execute_result"
    }
   ],
   "source": [
    "df.dropna() #menghapus baris (secara default) yang memiliki data kosong/nan\n",
    "# kalau mau permanen, jangan lupa disimpan"
   ]
  },
  {
   "cell_type": "code",
   "execution_count": 122,
   "metadata": {
    "ExecuteTime": {
     "end_time": "2021-11-15T04:53:29.267351Z",
     "start_time": "2021-11-15T04:53:29.246438Z"
    }
   },
   "outputs": [
    {
     "data": {
      "text/html": [
       "<div>\n",
       "<style scoped>\n",
       "    .dataframe tbody tr th:only-of-type {\n",
       "        vertical-align: middle;\n",
       "    }\n",
       "\n",
       "    .dataframe tbody tr th {\n",
       "        vertical-align: top;\n",
       "    }\n",
       "\n",
       "    .dataframe thead th {\n",
       "        text-align: right;\n",
       "    }\n",
       "</style>\n",
       "<table border=\"1\" class=\"dataframe\">\n",
       "  <thead>\n",
       "    <tr style=\"text-align: right;\">\n",
       "      <th></th>\n",
       "      <th>Region</th>\n",
       "      <th>Kota</th>\n",
       "    </tr>\n",
       "  </thead>\n",
       "  <tbody>\n",
       "    <tr>\n",
       "      <th>0</th>\n",
       "      <td>Jawa</td>\n",
       "      <td>Jakarta</td>\n",
       "    </tr>\n",
       "    <tr>\n",
       "      <th>1</th>\n",
       "      <td>Jawa</td>\n",
       "      <td>Bandung</td>\n",
       "    </tr>\n",
       "    <tr>\n",
       "      <th>2</th>\n",
       "      <td>Jawa</td>\n",
       "      <td>Surabaya</td>\n",
       "    </tr>\n",
       "    <tr>\n",
       "      <th>3</th>\n",
       "      <td>Sumatera</td>\n",
       "      <td>Medan</td>\n",
       "    </tr>\n",
       "    <tr>\n",
       "      <th>4</th>\n",
       "      <td>Sumatera</td>\n",
       "      <td>Padang</td>\n",
       "    </tr>\n",
       "    <tr>\n",
       "      <th>5</th>\n",
       "      <td>Sumatera</td>\n",
       "      <td>Palembang</td>\n",
       "    </tr>\n",
       "    <tr>\n",
       "      <th>6</th>\n",
       "      <td>Sulawesi</td>\n",
       "      <td>Manado</td>\n",
       "    </tr>\n",
       "    <tr>\n",
       "      <th>7</th>\n",
       "      <td>Sulawesi</td>\n",
       "      <td>Palu</td>\n",
       "    </tr>\n",
       "    <tr>\n",
       "      <th>8</th>\n",
       "      <td>Sulawesi</td>\n",
       "      <td>Makassar</td>\n",
       "    </tr>\n",
       "    <tr>\n",
       "      <th>9</th>\n",
       "      <td>Jawa</td>\n",
       "      <td>Jakarta</td>\n",
       "    </tr>\n",
       "  </tbody>\n",
       "</table>\n",
       "</div>"
      ],
      "text/plain": [
       "     Region       Kota\n",
       "0      Jawa    Jakarta\n",
       "1      Jawa    Bandung\n",
       "2      Jawa   Surabaya\n",
       "3  Sumatera      Medan\n",
       "4  Sumatera     Padang\n",
       "5  Sumatera  Palembang\n",
       "6  Sulawesi     Manado\n",
       "7  Sulawesi       Palu\n",
       "8  Sulawesi   Makassar\n",
       "9      Jawa    Jakarta"
      ]
     },
     "execution_count": 122,
     "metadata": {},
     "output_type": "execute_result"
    }
   ],
   "source": [
    "df.dropna(axis=1) # menghapus kolom yang memiliki data kosong/nan"
   ]
  },
  {
   "cell_type": "code",
   "execution_count": 123,
   "metadata": {
    "ExecuteTime": {
     "end_time": "2021-11-15T04:54:15.528798Z",
     "start_time": "2021-11-15T04:54:15.507853Z"
    }
   },
   "outputs": [
    {
     "data": {
      "text/html": [
       "<div>\n",
       "<style scoped>\n",
       "    .dataframe tbody tr th:only-of-type {\n",
       "        vertical-align: middle;\n",
       "    }\n",
       "\n",
       "    .dataframe tbody tr th {\n",
       "        vertical-align: top;\n",
       "    }\n",
       "\n",
       "    .dataframe thead th {\n",
       "        text-align: right;\n",
       "    }\n",
       "</style>\n",
       "<table border=\"1\" class=\"dataframe\">\n",
       "  <thead>\n",
       "    <tr style=\"text-align: right;\">\n",
       "      <th></th>\n",
       "      <th>Region</th>\n",
       "      <th>Kota</th>\n",
       "      <th>Mandor</th>\n",
       "      <th>Total Produksi</th>\n",
       "      <th>Jumlah Karyawan</th>\n",
       "      <th>penjualan</th>\n",
       "    </tr>\n",
       "  </thead>\n",
       "  <tbody>\n",
       "    <tr>\n",
       "      <th>0</th>\n",
       "      <td>Jawa</td>\n",
       "      <td>Jakarta</td>\n",
       "      <td>Andi Susetyo</td>\n",
       "      <td>15</td>\n",
       "      <td>20</td>\n",
       "      <td>1000</td>\n",
       "    </tr>\n",
       "    <tr>\n",
       "      <th>1</th>\n",
       "      <td>Jawa</td>\n",
       "      <td>Bandung</td>\n",
       "      <td>Budi Budiawan</td>\n",
       "      <td>12</td>\n",
       "      <td>15</td>\n",
       "      <td>200</td>\n",
       "    </tr>\n",
       "    <tr>\n",
       "      <th>2</th>\n",
       "      <td>Jawa</td>\n",
       "      <td>Surabaya</td>\n",
       "      <td>Cecep Maricep</td>\n",
       "      <td>12</td>\n",
       "      <td>12</td>\n",
       "      <td>3000</td>\n",
       "    </tr>\n",
       "    <tr>\n",
       "      <th>3</th>\n",
       "      <td>Sumatera</td>\n",
       "      <td>Medan</td>\n",
       "      <td>Diana Wijaya</td>\n",
       "      <td>13</td>\n",
       "      <td>14</td>\n",
       "      <td>12000</td>\n",
       "    </tr>\n",
       "    <tr>\n",
       "      <th>4</th>\n",
       "      <td>Sumatera</td>\n",
       "      <td>Padang</td>\n",
       "      <td>Eddy Susanto</td>\n",
       "      <td>16</td>\n",
       "      <td>18</td>\n",
       "      <td>8000</td>\n",
       "    </tr>\n",
       "    <tr>\n",
       "      <th>5</th>\n",
       "      <td>Sumatera</td>\n",
       "      <td>Palembang</td>\n",
       "      <td>Franky Sujaya</td>\n",
       "      <td>18</td>\n",
       "      <td>14</td>\n",
       "      <td>5000</td>\n",
       "    </tr>\n",
       "    <tr>\n",
       "      <th>6</th>\n",
       "      <td>Sulawesi</td>\n",
       "      <td>Manado</td>\n",
       "      <td>Galih Diantara</td>\n",
       "      <td>20</td>\n",
       "      <td>25</td>\n",
       "      <td>7000</td>\n",
       "    </tr>\n",
       "    <tr>\n",
       "      <th>7</th>\n",
       "      <td>Sulawesi</td>\n",
       "      <td>Palu</td>\n",
       "      <td>Hans Leman</td>\n",
       "      <td>11</td>\n",
       "      <td>12</td>\n",
       "      <td>2500</td>\n",
       "    </tr>\n",
       "    <tr>\n",
       "      <th>8</th>\n",
       "      <td>Sulawesi</td>\n",
       "      <td>Makassar</td>\n",
       "      <td>Ingrid Mahesa</td>\n",
       "      <td>14</td>\n",
       "      <td>13</td>\n",
       "      <td>9000</td>\n",
       "    </tr>\n",
       "    <tr>\n",
       "      <th>9</th>\n",
       "      <td>Jawa</td>\n",
       "      <td>Jakarta</td>\n",
       "      <td>missing value</td>\n",
       "      <td>missing value</td>\n",
       "      <td>missing value</td>\n",
       "      <td>missing value</td>\n",
       "    </tr>\n",
       "  </tbody>\n",
       "</table>\n",
       "</div>"
      ],
      "text/plain": [
       "     Region       Kota          Mandor Total Produksi Jumlah Karyawan  \\\n",
       "0      Jawa    Jakarta    Andi Susetyo             15              20   \n",
       "1      Jawa    Bandung   Budi Budiawan             12              15   \n",
       "2      Jawa   Surabaya   Cecep Maricep             12              12   \n",
       "3  Sumatera      Medan    Diana Wijaya             13              14   \n",
       "4  Sumatera     Padang    Eddy Susanto             16              18   \n",
       "5  Sumatera  Palembang   Franky Sujaya             18              14   \n",
       "6  Sulawesi     Manado  Galih Diantara             20              25   \n",
       "7  Sulawesi       Palu      Hans Leman             11              12   \n",
       "8  Sulawesi   Makassar   Ingrid Mahesa             14              13   \n",
       "9      Jawa    Jakarta   missing value  missing value   missing value   \n",
       "\n",
       "       penjualan  \n",
       "0           1000  \n",
       "1            200  \n",
       "2           3000  \n",
       "3          12000  \n",
       "4           8000  \n",
       "5           5000  \n",
       "6           7000  \n",
       "7           2500  \n",
       "8           9000  \n",
       "9  missing value  "
      ]
     },
     "execution_count": 123,
     "metadata": {},
     "output_type": "execute_result"
    }
   ],
   "source": [
    "df.fillna('missing value') # mengisi data kosong/nan dengan nilai tertentu"
   ]
  },
  {
   "cell_type": "code",
   "execution_count": 124,
   "metadata": {
    "ExecuteTime": {
     "end_time": "2021-11-15T04:54:58.177093Z",
     "start_time": "2021-11-15T04:54:58.164127Z"
    }
   },
   "outputs": [
    {
     "data": {
      "text/plain": [
       "0      Andi Susetyo\n",
       "1     Budi Budiawan\n",
       "2     Cecep Maricep\n",
       "3      Diana Wijaya\n",
       "4      Eddy Susanto\n",
       "5     Franky Sujaya\n",
       "6    Galih Diantara\n",
       "7        Hans Leman\n",
       "8     Ingrid Mahesa\n",
       "9     missing value\n",
       "Name: Mandor, dtype: object"
      ]
     },
     "execution_count": 124,
     "metadata": {},
     "output_type": "execute_result"
    }
   ],
   "source": [
    "df['Mandor'].fillna('missing value') # bisa dilakukan di kolom tertentu saja"
   ]
  },
  {
   "cell_type": "code",
   "execution_count": 126,
   "metadata": {
    "ExecuteTime": {
     "end_time": "2021-11-15T04:57:40.406129Z",
     "start_time": "2021-11-15T04:57:40.381196Z"
    }
   },
   "outputs": [
    {
     "data": {
      "text/html": [
       "<div>\n",
       "<style scoped>\n",
       "    .dataframe tbody tr th:only-of-type {\n",
       "        vertical-align: middle;\n",
       "    }\n",
       "\n",
       "    .dataframe tbody tr th {\n",
       "        vertical-align: top;\n",
       "    }\n",
       "\n",
       "    .dataframe thead th {\n",
       "        text-align: right;\n",
       "    }\n",
       "</style>\n",
       "<table border=\"1\" class=\"dataframe\">\n",
       "  <thead>\n",
       "    <tr style=\"text-align: right;\">\n",
       "      <th></th>\n",
       "      <th>Total Produksi</th>\n",
       "      <th>penjualan</th>\n",
       "    </tr>\n",
       "  </thead>\n",
       "  <tbody>\n",
       "    <tr>\n",
       "      <th>0</th>\n",
       "      <td>15.0</td>\n",
       "      <td>1000.0</td>\n",
       "    </tr>\n",
       "    <tr>\n",
       "      <th>1</th>\n",
       "      <td>12.0</td>\n",
       "      <td>200.0</td>\n",
       "    </tr>\n",
       "    <tr>\n",
       "      <th>2</th>\n",
       "      <td>12.0</td>\n",
       "      <td>3000.0</td>\n",
       "    </tr>\n",
       "    <tr>\n",
       "      <th>3</th>\n",
       "      <td>13.0</td>\n",
       "      <td>12000.0</td>\n",
       "    </tr>\n",
       "    <tr>\n",
       "      <th>4</th>\n",
       "      <td>16.0</td>\n",
       "      <td>8000.0</td>\n",
       "    </tr>\n",
       "    <tr>\n",
       "      <th>5</th>\n",
       "      <td>18.0</td>\n",
       "      <td>5000.0</td>\n",
       "    </tr>\n",
       "    <tr>\n",
       "      <th>6</th>\n",
       "      <td>20.0</td>\n",
       "      <td>7000.0</td>\n",
       "    </tr>\n",
       "    <tr>\n",
       "      <th>7</th>\n",
       "      <td>11.0</td>\n",
       "      <td>2500.0</td>\n",
       "    </tr>\n",
       "    <tr>\n",
       "      <th>8</th>\n",
       "      <td>14.0</td>\n",
       "      <td>9000.0</td>\n",
       "    </tr>\n",
       "    <tr>\n",
       "      <th>9</th>\n",
       "      <td>-1.0</td>\n",
       "      <td>-1.0</td>\n",
       "    </tr>\n",
       "  </tbody>\n",
       "</table>\n",
       "</div>"
      ],
      "text/plain": [
       "   Total Produksi  penjualan\n",
       "0            15.0     1000.0\n",
       "1            12.0      200.0\n",
       "2            12.0     3000.0\n",
       "3            13.0    12000.0\n",
       "4            16.0     8000.0\n",
       "5            18.0     5000.0\n",
       "6            20.0     7000.0\n",
       "7            11.0     2500.0\n",
       "8            14.0     9000.0\n",
       "9            -1.0       -1.0"
      ]
     },
     "execution_count": 126,
     "metadata": {},
     "output_type": "execute_result"
    }
   ],
   "source": [
    "df[['Total Produksi','penjualan']].fillna(-1)"
   ]
  },
  {
   "cell_type": "markdown",
   "metadata": {},
   "source": [
    "Aggregating"
   ]
  },
  {
   "cell_type": "code",
   "execution_count": 131,
   "metadata": {
    "ExecuteTime": {
     "end_time": "2021-11-15T04:59:23.998346Z",
     "start_time": "2021-11-15T04:59:23.981423Z"
    }
   },
   "outputs": [
    {
     "data": {
      "text/plain": [
       "Region\n",
       "Jawa        1400.000000\n",
       "Sulawesi    6166.666667\n",
       "Sumatera    8333.333333\n",
       "Name: penjualan, dtype: float64"
      ]
     },
     "execution_count": 131,
     "metadata": {},
     "output_type": "execute_result"
    }
   ],
   "source": [
    "# groupby() untuk agregasi berdasarkan kelompok tertentu\n",
    "df.groupby('Region').mean()['penjualan'] # rata-rata penjualan per region\n",
    "# mirip group by di sql"
   ]
  },
  {
   "cell_type": "code",
   "execution_count": 132,
   "metadata": {
    "ExecuteTime": {
     "end_time": "2021-11-15T05:00:00.369611Z",
     "start_time": "2021-11-15T05:00:00.349665Z"
    }
   },
   "outputs": [
    {
     "data": {
      "text/html": [
       "<div>\n",
       "<style scoped>\n",
       "    .dataframe tbody tr th:only-of-type {\n",
       "        vertical-align: middle;\n",
       "    }\n",
       "\n",
       "    .dataframe tbody tr th {\n",
       "        vertical-align: top;\n",
       "    }\n",
       "\n",
       "    .dataframe thead th {\n",
       "        text-align: right;\n",
       "    }\n",
       "</style>\n",
       "<table border=\"1\" class=\"dataframe\">\n",
       "  <thead>\n",
       "    <tr style=\"text-align: right;\">\n",
       "      <th></th>\n",
       "      <th>Total Produksi</th>\n",
       "      <th>Jumlah Karyawan</th>\n",
       "      <th>penjualan</th>\n",
       "    </tr>\n",
       "    <tr>\n",
       "      <th>Region</th>\n",
       "      <th></th>\n",
       "      <th></th>\n",
       "      <th></th>\n",
       "    </tr>\n",
       "  </thead>\n",
       "  <tbody>\n",
       "    <tr>\n",
       "      <th>Jawa</th>\n",
       "      <td>1.732051</td>\n",
       "      <td>4.041452</td>\n",
       "      <td>1442.220510</td>\n",
       "    </tr>\n",
       "    <tr>\n",
       "      <th>Sulawesi</th>\n",
       "      <td>4.582576</td>\n",
       "      <td>7.234178</td>\n",
       "      <td>3329.164059</td>\n",
       "    </tr>\n",
       "    <tr>\n",
       "      <th>Sumatera</th>\n",
       "      <td>2.516611</td>\n",
       "      <td>2.309401</td>\n",
       "      <td>3511.884584</td>\n",
       "    </tr>\n",
       "  </tbody>\n",
       "</table>\n",
       "</div>"
      ],
      "text/plain": [
       "          Total Produksi  Jumlah Karyawan    penjualan\n",
       "Region                                                \n",
       "Jawa            1.732051         4.041452  1442.220510\n",
       "Sulawesi        4.582576         7.234178  3329.164059\n",
       "Sumatera        2.516611         2.309401  3511.884584"
      ]
     },
     "execution_count": 132,
     "metadata": {},
     "output_type": "execute_result"
    }
   ],
   "source": [
    "df.groupby('Region').std() #standard deviasi"
   ]
  },
  {
   "cell_type": "code",
   "execution_count": 133,
   "metadata": {
    "ExecuteTime": {
     "end_time": "2021-11-15T05:01:36.695210Z",
     "start_time": "2021-11-15T05:01:36.671240Z"
    }
   },
   "outputs": [
    {
     "data": {
      "text/html": [
       "<div>\n",
       "<style scoped>\n",
       "    .dataframe tbody tr th:only-of-type {\n",
       "        vertical-align: middle;\n",
       "    }\n",
       "\n",
       "    .dataframe tbody tr th {\n",
       "        vertical-align: top;\n",
       "    }\n",
       "\n",
       "    .dataframe thead th {\n",
       "        text-align: right;\n",
       "    }\n",
       "</style>\n",
       "<table border=\"1\" class=\"dataframe\">\n",
       "  <thead>\n",
       "    <tr style=\"text-align: right;\">\n",
       "      <th></th>\n",
       "      <th>Region</th>\n",
       "      <th>Total Produksi</th>\n",
       "      <th>Jumlah Karyawan</th>\n",
       "      <th>penjualan</th>\n",
       "    </tr>\n",
       "  </thead>\n",
       "  <tbody>\n",
       "    <tr>\n",
       "      <th>0</th>\n",
       "      <td>Jawa</td>\n",
       "      <td>13.000000</td>\n",
       "      <td>15.666667</td>\n",
       "      <td>1400.000000</td>\n",
       "    </tr>\n",
       "    <tr>\n",
       "      <th>1</th>\n",
       "      <td>Sulawesi</td>\n",
       "      <td>15.000000</td>\n",
       "      <td>16.666667</td>\n",
       "      <td>6166.666667</td>\n",
       "    </tr>\n",
       "    <tr>\n",
       "      <th>2</th>\n",
       "      <td>Sumatera</td>\n",
       "      <td>15.666667</td>\n",
       "      <td>15.333333</td>\n",
       "      <td>8333.333333</td>\n",
       "    </tr>\n",
       "  </tbody>\n",
       "</table>\n",
       "</div>"
      ],
      "text/plain": [
       "     Region  Total Produksi  Jumlah Karyawan    penjualan\n",
       "0      Jawa       13.000000        15.666667  1400.000000\n",
       "1  Sulawesi       15.000000        16.666667  6166.666667\n",
       "2  Sumatera       15.666667        15.333333  8333.333333"
      ]
     },
     "execution_count": 133,
     "metadata": {},
     "output_type": "execute_result"
    }
   ],
   "source": [
    "df.groupby('Region', as_index=False).mean() # region tidak jadi index, tapi jadi kolom"
   ]
  },
  {
   "cell_type": "code",
   "execution_count": 134,
   "metadata": {
    "ExecuteTime": {
     "end_time": "2021-11-15T05:02:12.789750Z",
     "start_time": "2021-11-15T05:02:12.778216Z"
    }
   },
   "outputs": [
    {
     "data": {
      "text/html": [
       "<div>\n",
       "<style scoped>\n",
       "    .dataframe tbody tr th:only-of-type {\n",
       "        vertical-align: middle;\n",
       "    }\n",
       "\n",
       "    .dataframe tbody tr th {\n",
       "        vertical-align: top;\n",
       "    }\n",
       "\n",
       "    .dataframe thead th {\n",
       "        text-align: right;\n",
       "    }\n",
       "</style>\n",
       "<table border=\"1\" class=\"dataframe\">\n",
       "  <thead>\n",
       "    <tr style=\"text-align: right;\">\n",
       "      <th></th>\n",
       "      <th>Region</th>\n",
       "      <th>Kota</th>\n",
       "      <th>Mandor</th>\n",
       "      <th>Total Produksi</th>\n",
       "      <th>Jumlah Karyawan</th>\n",
       "      <th>penjualan</th>\n",
       "    </tr>\n",
       "  </thead>\n",
       "  <tbody>\n",
       "    <tr>\n",
       "      <th>0</th>\n",
       "      <td>Jawa</td>\n",
       "      <td>Jakarta</td>\n",
       "      <td>Andi Susetyo</td>\n",
       "      <td>15.0</td>\n",
       "      <td>20.0</td>\n",
       "      <td>1000.0</td>\n",
       "    </tr>\n",
       "    <tr>\n",
       "      <th>1</th>\n",
       "      <td>Jawa</td>\n",
       "      <td>Bandung</td>\n",
       "      <td>Budi Budiawan</td>\n",
       "      <td>12.0</td>\n",
       "      <td>15.0</td>\n",
       "      <td>200.0</td>\n",
       "    </tr>\n",
       "    <tr>\n",
       "      <th>2</th>\n",
       "      <td>Jawa</td>\n",
       "      <td>Surabaya</td>\n",
       "      <td>Cecep Maricep</td>\n",
       "      <td>12.0</td>\n",
       "      <td>12.0</td>\n",
       "      <td>3000.0</td>\n",
       "    </tr>\n",
       "    <tr>\n",
       "      <th>3</th>\n",
       "      <td>Sumatera</td>\n",
       "      <td>Medan</td>\n",
       "      <td>Diana Wijaya</td>\n",
       "      <td>13.0</td>\n",
       "      <td>14.0</td>\n",
       "      <td>12000.0</td>\n",
       "    </tr>\n",
       "    <tr>\n",
       "      <th>4</th>\n",
       "      <td>Sumatera</td>\n",
       "      <td>Padang</td>\n",
       "      <td>Eddy Susanto</td>\n",
       "      <td>16.0</td>\n",
       "      <td>18.0</td>\n",
       "      <td>8000.0</td>\n",
       "    </tr>\n",
       "    <tr>\n",
       "      <th>5</th>\n",
       "      <td>Sumatera</td>\n",
       "      <td>Palembang</td>\n",
       "      <td>Franky Sujaya</td>\n",
       "      <td>18.0</td>\n",
       "      <td>14.0</td>\n",
       "      <td>5000.0</td>\n",
       "    </tr>\n",
       "    <tr>\n",
       "      <th>6</th>\n",
       "      <td>Sulawesi</td>\n",
       "      <td>Manado</td>\n",
       "      <td>Galih Diantara</td>\n",
       "      <td>20.0</td>\n",
       "      <td>25.0</td>\n",
       "      <td>7000.0</td>\n",
       "    </tr>\n",
       "    <tr>\n",
       "      <th>7</th>\n",
       "      <td>Sulawesi</td>\n",
       "      <td>Palu</td>\n",
       "      <td>Hans Leman</td>\n",
       "      <td>11.0</td>\n",
       "      <td>12.0</td>\n",
       "      <td>2500.0</td>\n",
       "    </tr>\n",
       "    <tr>\n",
       "      <th>8</th>\n",
       "      <td>Sulawesi</td>\n",
       "      <td>Makassar</td>\n",
       "      <td>Ingrid Mahesa</td>\n",
       "      <td>14.0</td>\n",
       "      <td>13.0</td>\n",
       "      <td>9000.0</td>\n",
       "    </tr>\n",
       "    <tr>\n",
       "      <th>9</th>\n",
       "      <td>Jawa</td>\n",
       "      <td>Jakarta</td>\n",
       "      <td>NaN</td>\n",
       "      <td>NaN</td>\n",
       "      <td>NaN</td>\n",
       "      <td>NaN</td>\n",
       "    </tr>\n",
       "  </tbody>\n",
       "</table>\n",
       "</div>"
      ],
      "text/plain": [
       "     Region       Kota          Mandor  Total Produksi  Jumlah Karyawan  \\\n",
       "0      Jawa    Jakarta    Andi Susetyo            15.0             20.0   \n",
       "1      Jawa    Bandung   Budi Budiawan            12.0             15.0   \n",
       "2      Jawa   Surabaya   Cecep Maricep            12.0             12.0   \n",
       "3  Sumatera      Medan    Diana Wijaya            13.0             14.0   \n",
       "4  Sumatera     Padang    Eddy Susanto            16.0             18.0   \n",
       "5  Sumatera  Palembang   Franky Sujaya            18.0             14.0   \n",
       "6  Sulawesi     Manado  Galih Diantara            20.0             25.0   \n",
       "7  Sulawesi       Palu      Hans Leman            11.0             12.0   \n",
       "8  Sulawesi   Makassar   Ingrid Mahesa            14.0             13.0   \n",
       "9      Jawa    Jakarta             NaN             NaN              NaN   \n",
       "\n",
       "   penjualan  \n",
       "0     1000.0  \n",
       "1      200.0  \n",
       "2     3000.0  \n",
       "3    12000.0  \n",
       "4     8000.0  \n",
       "5     5000.0  \n",
       "6     7000.0  \n",
       "7     2500.0  \n",
       "8     9000.0  \n",
       "9        NaN  "
      ]
     },
     "execution_count": 134,
     "metadata": {},
     "output_type": "execute_result"
    }
   ],
   "source": [
    "df"
   ]
  },
  {
   "cell_type": "code",
   "execution_count": 139,
   "metadata": {
    "ExecuteTime": {
     "end_time": "2021-11-15T05:03:25.143303Z",
     "start_time": "2021-11-15T05:03:25.121363Z"
    }
   },
   "outputs": [
    {
     "data": {
      "text/plain": [
       "0      ANDI SUSETYO\n",
       "1     BUDI BUDIAWAN\n",
       "2     CECEP MARICEP\n",
       "3      DIANA WIJAYA\n",
       "4      EDDY SUSANTO\n",
       "5     FRANKY SUJAYA\n",
       "6    GALIH DIANTARA\n",
       "7        HANS LEMAN\n",
       "8     INGRID MAHESA\n",
       "9               NaN\n",
       "Name: Mandor, dtype: object"
      ]
     },
     "execution_count": 139,
     "metadata": {},
     "output_type": "execute_result"
    }
   ],
   "source": [
    "df['Mandor'].str.upper() # .str -> modul khusus untuk fungsi-fungsi string"
   ]
  },
  {
   "cell_type": "code",
   "execution_count": null,
   "metadata": {},
   "outputs": [],
   "source": []
  }
 ],
 "metadata": {
  "kernelspec": {
   "display_name": "Python 3",
   "language": "python",
   "name": "python3"
  },
  "language_info": {
   "codemirror_mode": {
    "name": "ipython",
    "version": 3
   },
   "file_extension": ".py",
   "mimetype": "text/x-python",
   "name": "python",
   "nbconvert_exporter": "python",
   "pygments_lexer": "ipython3",
   "version": "3.8.3"
  },
  "toc": {
   "base_numbering": 1,
   "nav_menu": {},
   "number_sections": true,
   "sideBar": true,
   "skip_h1_title": false,
   "title_cell": "Table of Contents",
   "title_sidebar": "Contents",
   "toc_cell": false,
   "toc_position": {},
   "toc_section_display": true,
   "toc_window_display": false
  }
 },
 "nbformat": 4,
 "nbformat_minor": 4
}
