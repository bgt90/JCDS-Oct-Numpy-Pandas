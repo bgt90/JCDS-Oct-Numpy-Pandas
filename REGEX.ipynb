{
 "cells": [
  {
   "cell_type": "code",
   "execution_count": 2,
   "metadata": {
    "ExecuteTime": {
     "end_time": "2021-11-18T02:31:38.831695Z",
     "start_time": "2021-11-18T02:31:37.982960Z"
    }
   },
   "outputs": [],
   "source": [
    "# Library \n",
    "import re #library utama untuk regular expression\n",
    "import pandas as pd"
   ]
  },
  {
   "cell_type": "code",
   "execution_count": 12,
   "metadata": {
    "ExecuteTime": {
     "end_time": "2021-11-18T02:48:43.171675Z",
     "start_time": "2021-11-18T02:48:43.155717Z"
    }
   },
   "outputs": [
    {
     "data": {
      "text/plain": [
       "['gray', 'grey']"
      ]
     },
     "execution_count": 12,
     "metadata": {},
     "output_type": "execute_result"
    }
   ],
   "source": [
    "kata= 'gray grey grAy graay graey greay' \n",
    "re.findall(r'gr[ae]y',kata)\n",
    "# regex akan mencocokkan pattern ke dalam 1 set string\n",
    "# untuk mencari semua kata yang memenuhi pattern, pakai function findall(pattern, dokumen)\n",
    "# r menandai raw string, di mana, pada raw string perlakuan terhadap '\\' berbeda dengan string biasa\n",
    "# di sini kita memakai []/ character set, di mana kita ingin mencari kata yang memiliki pattern gr(e atau a)y/ grey atau gray"
   ]
  },
  {
   "cell_type": "code",
   "execution_count": 14,
   "metadata": {
    "ExecuteTime": {
     "end_time": "2021-11-18T02:49:14.283298Z",
     "start_time": "2021-11-18T02:49:14.274313Z"
    }
   },
   "outputs": [
    {
     "data": {
      "text/plain": [
       "['graay', 'graey', 'greay']"
      ]
     },
     "execution_count": 14,
     "metadata": {},
     "output_type": "execute_result"
    }
   ],
   "source": [
    "re.findall('gr[ae][ae]y',kata)"
   ]
  },
  {
   "cell_type": "code",
   "execution_count": 11,
   "metadata": {
    "ExecuteTime": {
     "end_time": "2021-11-18T02:48:25.223674Z",
     "start_time": "2021-11-18T02:48:25.210710Z"
    }
   },
   "outputs": [
    {
     "data": {
      "text/plain": [
       "['XRA 000', '1AA 1AA']"
      ]
     },
     "execution_count": 11,
     "metadata": {},
     "output_type": "execute_result"
    }
   ],
   "source": [
    "# character range\n",
    "kata='XRA 000, 1AA 1AA, ABQ KKK, A22 XARA'\n",
    "re.findall(r'[A-Z0-9][A-Z][A-Z]\\s[0-9][A-Z0-9][A-Z0-9]',kata)\n",
    "# 1 bracket 1 karater\n",
    "# cari 7 karakter berurutan, di mana: \n",
    "# karater pertama bisa huruf kapital/angka\n",
    "# karakter kedua dan ketiga, huruf kapital\n",
    "# karakter keempat, whitespace\n",
    "# karakter kelima, angka\n",
    "# karakter keenam dan ketujuh bisa angka bisa huruf kapital"
   ]
  },
  {
   "cell_type": "code",
   "execution_count": 25,
   "metadata": {
    "ExecuteTime": {
     "end_time": "2021-11-18T03:01:49.279767Z",
     "start_time": "2021-11-18T03:01:49.265802Z"
    }
   },
   "outputs": [
    {
     "data": {
      "text/plain": [
       "['dog', 'hog']"
      ]
     },
     "execution_count": 25,
     "metadata": {},
     "output_type": "execute_result"
    }
   ],
   "source": [
    "kata='dog hog bog doggo'\n",
    "re.findall(r'\\b[^b]og\\b',kata)\n",
    "\n",
    "# ^ menandakan negasi\n",
    "#[^b] adalah negative character set, artinga kita mau mencari karakter apapun kecuali b\n",
    "# di contoh di atas kita mencari 3 karakter, di mana karakter permata bisa apapun kecuali b, karakter kedia adalah o,\n",
    "# dan karakter ketiga adalah g\n",
    "# \\b special character untuk boundary. \\bword\\b menandakan kita ingin mencari seluruh kata dan bukan potongan\n",
    "# karena memakai \\b, maka 'doggo' tidak menjadi output walaupun mengandung pattern 'dog'"
   ]
  },
  {
   "cell_type": "code",
   "execution_count": 27,
   "metadata": {
    "ExecuteTime": {
     "end_time": "2021-11-18T03:09:32.538794Z",
     "start_time": "2021-11-18T03:09:32.519843Z"
    }
   },
   "outputs": [
    {
     "data": {
      "text/plain": [
       "['1998', '1234']"
      ]
     },
     "execution_count": 27,
     "metadata": {},
     "output_type": "execute_result"
    }
   ],
   "source": [
    "re.findall(r'\\d\\d\\d\\d', '1998 abcs 1234 efgh')\n",
    "# \\d mencari 1 digit angka dari 1-9\n",
    "# di contoh kita mencari 4 digit angka"
   ]
  },
  {
   "cell_type": "code",
   "execution_count": 29,
   "metadata": {
    "ExecuteTime": {
     "end_time": "2021-11-18T03:11:04.881807Z",
     "start_time": "2021-11-18T03:11:04.876838Z"
    }
   },
   "outputs": [
    {
     "data": {
      "text/plain": [
       "['abc', 'a_b', '121']"
      ]
     },
     "execution_count": 29,
     "metadata": {},
     "output_type": "execute_result"
    }
   ],
   "source": [
    "re.findall(r'\\w\\w\\w','abc a_b 121 #aa')\n",
    "# \\w mencari 1 karakter alphanumeric, termasuk _\n",
    "# di contoh, kita mencari 3 karakter alphanumerik"
   ]
  },
  {
   "cell_type": "code",
   "execution_count": 30,
   "metadata": {
    "ExecuteTime": {
     "end_time": "2021-11-18T03:15:27.829798Z",
     "start_time": "2021-11-18T03:15:27.824812Z"
    }
   },
   "outputs": [
    {
     "data": {
      "text/plain": [
       "['ab c']"
      ]
     },
     "execution_count": 30,
     "metadata": {},
     "output_type": "execute_result"
    }
   ],
   "source": [
    "re.findall('\\w\\w\\s\\w','ab c a bc')\n",
    "# \\s untuk whitespace"
   ]
  },
  {
   "cell_type": "code",
   "execution_count": 34,
   "metadata": {
    "ExecuteTime": {
     "end_time": "2021-11-18T03:23:46.884066Z",
     "start_time": "2021-11-18T03:23:46.878082Z"
    }
   },
   "outputs": [
    {
     "data": {
      "text/plain": [
       "['aps', 'aops', 'aoops', 'aooops', 'aoooops']"
      ]
     },
     "execution_count": 34,
     "metadata": {},
     "output_type": "execute_result"
    }
   ],
   "source": [
    "#repetition meta character: *,+,?\n",
    "re.findall(r'ao*ps','aps aops aoops aooops aoooops')\n",
    "# pemakaian * berarti mencari kata di mana 1 karaker sebelum * bisa diulang minimal 0 kali\n",
    "# di contoh di atas, kita mencari kata dengan huruf o diulang minimal 0 kali atau, tidak muncul, sampai berulang-ulang"
   ]
  },
  {
   "cell_type": "code",
   "execution_count": 35,
   "metadata": {
    "ExecuteTime": {
     "end_time": "2021-11-18T03:23:48.738950Z",
     "start_time": "2021-11-18T03:23:48.732001Z"
    }
   },
   "outputs": [
    {
     "data": {
      "text/plain": [
       "['aops', 'aoops', 'aooops', 'aoooops']"
      ]
     },
     "execution_count": 35,
     "metadata": {},
     "output_type": "execute_result"
    }
   ],
   "source": [
    "re.findall(r'ao+ps','aps aops aoops aooops aoooops')\n",
    "# pemakaian + berarti, mencari kata di mana 1 karakter sebelum + diulang minimal 1 kali\n",
    "# di contoh di atas, kita mencari kata dengan huruf o diulang minimal 1 kali atau sampai berulang-ulang"
   ]
  },
  {
   "cell_type": "code",
   "execution_count": 37,
   "metadata": {
    "ExecuteTime": {
     "end_time": "2021-11-18T03:26:05.795953Z",
     "start_time": "2021-11-18T03:26:05.787962Z"
    }
   },
   "outputs": [
    {
     "data": {
      "text/plain": [
       "['aps', 'aops']"
      ]
     },
     "execution_count": 37,
     "metadata": {},
     "output_type": "execute_result"
    }
   ],
   "source": [
    "re.findall(r'ao?ps','aps aops aoops aooops aoooops')\n",
    "# pemakaian ? berarti, mencari kata di mana 1 karakter sebelum ? diulang 0 kali atau 1 kali/ tidak muncul atau muncul 1 kali\n",
    "#  di contoh di atas kita mencari karakter yang memiliki huruf 1 o atau tidak ada huruf o"
   ]
  },
  {
   "cell_type": "code",
   "execution_count": 39,
   "metadata": {
    "ExecuteTime": {
     "end_time": "2021-11-18T03:30:57.194598Z",
     "start_time": "2021-11-18T03:30:57.185648Z"
    }
   },
   "outputs": [
    {
     "data": {
      "text/plain": [
       "['12']"
      ]
     },
     "execution_count": 39,
     "metadata": {},
     "output_type": "execute_result"
    }
   ],
   "source": [
    "# quantified repetition\n",
    "# ditandai dengan {m,n}\n",
    "\n",
    "re.findall(r'\\b\\d{2}\\b', '1 12 123 1234 12345 123456 1234567')\n",
    "\n",
    " # mencari 2 digit angka\n"
   ]
  },
  {
   "cell_type": "code",
   "execution_count": 43,
   "metadata": {
    "ExecuteTime": {
     "end_time": "2021-11-18T03:34:35.314401Z",
     "start_time": "2021-11-18T03:34:35.299441Z"
    }
   },
   "outputs": [
    {
     "data": {
      "text/plain": [
       "['12', '123', '1234', '1234', '1234', '56', '1234', '567']"
      ]
     },
     "execution_count": 43,
     "metadata": {},
     "output_type": "execute_result"
    }
   ],
   "source": [
    "re.findall(r'\\d{2,4}','1 12 123 1234 12345 123456 1234567')\n",
    "# mencari 2-4 digit angka"
   ]
  },
  {
   "cell_type": "code",
   "execution_count": 42,
   "metadata": {
    "ExecuteTime": {
     "end_time": "2021-11-18T03:32:37.740216Z",
     "start_time": "2021-11-18T03:32:37.731246Z"
    }
   },
   "outputs": [
    {
     "data": {
      "text/plain": [
       "['12', '123', '1234', '12345', '123456', '1234567']"
      ]
     },
     "execution_count": 42,
     "metadata": {},
     "output_type": "execute_result"
    }
   ],
   "source": [
    "re.findall(r'\\b\\d{2,}\\b','1 12 123 1234 12345 123456 1234567')\n",
    "# mencari minimal 2 digit angka"
   ]
  },
  {
   "cell_type": "code",
   "execution_count": 47,
   "metadata": {
    "ExecuteTime": {
     "end_time": "2021-11-18T03:40:37.571120Z",
     "start_time": "2021-11-18T03:40:37.566136Z"
    }
   },
   "outputs": [
    {
     "data": {
      "text/plain": [
       "['2018_09', '18_8']"
      ]
     },
     "execution_count": 47,
     "metadata": {},
     "output_type": "execute_result"
    }
   ],
   "source": [
    "kata='2018_09 18_8 201809_39 8_9000'\n",
    "# output: 2018_09, 18_8 \n",
    "\n",
    "re.findall(r'\\b\\d{2,4}_\\d{1,2}\\b',kata)\n",
    "# mencari 2-4 digit angka, diikuti '_' lalu 1-2 digit angka\n"
   ]
  },
  {
   "cell_type": "code",
   "execution_count": 48,
   "metadata": {
    "ExecuteTime": {
     "end_time": "2021-11-18T03:45:30.523503Z",
     "start_time": "2021-11-18T03:45:30.515526Z"
    }
   },
   "outputs": [
    {
     "data": {
      "text/plain": [
       "['abc', 'abcc', 'abccc']"
      ]
     },
     "execution_count": 48,
     "metadata": {},
     "output_type": "execute_result"
    }
   ],
   "source": [
    "# grouping ditandai dengan ()\n",
    "# dipakai untuk membuat beberapa karakter menjadi 1 grup, sehingga memudahkan dalam pencarian dan pengulangan\n",
    "\n",
    "re.findall(r'\\babc+\\b','abc abcc abccc abcabc abcabcabc')\n",
    "# tanpa grouping, dalam pencarian hanya mencari huruf c yang berulang"
   ]
  },
  {
   "cell_type": "code",
   "execution_count": 50,
   "metadata": {
    "ExecuteTime": {
     "end_time": "2021-11-18T03:46:28.021875Z",
     "start_time": "2021-11-18T03:46:28.015890Z"
    }
   },
   "outputs": [
    {
     "data": {
      "text/plain": [
       "['abc', 'abcabc', 'abcabcabc']"
      ]
     },
     "execution_count": 50,
     "metadata": {},
     "output_type": "execute_result"
    }
   ],
   "source": [
    "re.findall(r'\\b(?:abc)+\\b','abc abcc abccc abcabc abcabcabc')\n",
    "\n",
    "#?:= non capturing group, maka output dari grouping berupa seluruh kata\n",
    "# tanpa ?:, outputnya berupa abc abc abc, jadi kita tidak tahu kata utuhnya seperti apa"
   ]
  },
  {
   "cell_type": "code",
   "execution_count": 51,
   "metadata": {
    "ExecuteTime": {
     "end_time": "2021-11-18T03:54:25.056730Z",
     "start_time": "2021-11-18T03:54:25.042788Z"
    }
   },
   "outputs": [
    {
     "data": {
      "text/plain": [
       "['orange', 'apple']"
      ]
     },
     "execution_count": 51,
     "metadata": {},
     "output_type": "execute_result"
    }
   ],
   "source": [
    "# other type atau or\n",
    "# ditandai dengan |\n",
    "\n",
    "re.findall(r'orange|apple','orange juice apple juice watermelon juice')"
   ]
  },
  {
   "cell_type": "code",
   "execution_count": 53,
   "metadata": {
    "ExecuteTime": {
     "end_time": "2021-11-18T03:54:47.785596Z",
     "start_time": "2021-11-18T03:54:47.768642Z"
    }
   },
   "outputs": [
    {
     "data": {
      "text/plain": [
       "['orange juice', 'apple juice']"
      ]
     },
     "execution_count": 53,
     "metadata": {},
     "output_type": "execute_result"
    }
   ],
   "source": [
    "re.findall(r'(?:orange|apple) juice','orange juice apple juice watermelon juice')"
   ]
  },
  {
   "cell_type": "code",
   "execution_count": 55,
   "metadata": {
    "ExecuteTime": {
     "end_time": "2021-11-18T03:55:53.573440Z",
     "start_time": "2021-11-18T03:55:53.561470Z"
    }
   },
   "outputs": [
    {
     "data": {
      "text/plain": [
       "['weird', 'wierd']"
      ]
     },
     "execution_count": 55,
     "metadata": {},
     "output_type": "execute_result"
    }
   ],
   "source": [
    "re.findall(r'w(?:ei|ie)rd','weird wierd weerd wiird werd wird')"
   ]
  },
  {
   "cell_type": "code",
   "execution_count": null,
   "metadata": {},
   "outputs": [],
   "source": []
  }
 ],
 "metadata": {
  "kernelspec": {
   "display_name": "Python 3",
   "language": "python",
   "name": "python3"
  },
  "language_info": {
   "codemirror_mode": {
    "name": "ipython",
    "version": 3
   },
   "file_extension": ".py",
   "mimetype": "text/x-python",
   "name": "python",
   "nbconvert_exporter": "python",
   "pygments_lexer": "ipython3",
   "version": "3.8.3"
  },
  "toc": {
   "base_numbering": 1,
   "nav_menu": {},
   "number_sections": true,
   "sideBar": true,
   "skip_h1_title": false,
   "title_cell": "Table of Contents",
   "title_sidebar": "Contents",
   "toc_cell": false,
   "toc_position": {},
   "toc_section_display": true,
   "toc_window_display": false
  }
 },
 "nbformat": 4,
 "nbformat_minor": 4
}
